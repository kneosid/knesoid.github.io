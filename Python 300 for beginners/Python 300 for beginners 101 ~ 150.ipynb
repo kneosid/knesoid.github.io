{
 "cells": [
  {
   "cell_type": "markdown",
   "metadata": {},
   "source": [
    "&nbsp;\n",
    "\n",
    "# **<span style=\"color:blue\">07. 파이썬 분기문</span>**\n",
    "\n",
    "- 파이썬은 if라는 키워드를 통해 분기문을 만들 수 있습니다.\n",
    "\n",
    "&nbsp;"
   ]
  },
  {
   "cell_type": "markdown",
   "metadata": {},
   "source": [
    "### 101\n",
    "파이썬에서 True 혹은 False를 갖는 데이터 타입은 무엇인가?"
   ]
  },
  {
   "cell_type": "code",
   "execution_count": 7,
   "metadata": {},
   "outputs": [
    {
     "data": {
      "text/plain": [
       "bool"
      ]
     },
     "execution_count": 7,
     "metadata": {},
     "output_type": "execute_result"
    }
   ],
   "source": [
    "# boolean 데이터 타잎\n",
    "\n",
    "a = True\n",
    "\n",
    "type(a)"
   ]
  },
  {
   "cell_type": "markdown",
   "metadata": {},
   "source": [
    "### 102\n",
    "아래 코드의 출력 결과를 예상하라\n",
    "\n",
    "> print(3 == 5)"
   ]
  },
  {
   "cell_type": "code",
   "execution_count": 8,
   "metadata": {},
   "outputs": [
    {
     "name": "stdout",
     "output_type": "stream",
     "text": [
      "False\n"
     ]
    }
   ],
   "source": [
    "# false\n",
    "\n",
    "print(3 == 5)"
   ]
  },
  {
   "cell_type": "markdown",
   "metadata": {},
   "source": [
    "### 103\n",
    "아래 코드의 출력 결과를 예상하라\n",
    "\n",
    ">print(3 < 5)"
   ]
  },
  {
   "cell_type": "code",
   "execution_count": 9,
   "metadata": {},
   "outputs": [
    {
     "name": "stdout",
     "output_type": "stream",
     "text": [
      "True\n"
     ]
    }
   ],
   "source": [
    "# true\n",
    "\n",
    "print(3 < 5)"
   ]
  },
  {
   "cell_type": "markdown",
   "metadata": {},
   "source": [
    "### 104\n",
    "아래 코드의 결과를 예상하라.\n",
    "\n",
    ">x = 4\n",
    "\n",
    ">print(1 < x < 5)"
   ]
  },
  {
   "cell_type": "code",
   "execution_count": 10,
   "metadata": {},
   "outputs": [
    {
     "name": "stdout",
     "output_type": "stream",
     "text": [
      "True\n"
     ]
    }
   ],
   "source": [
    "# true\n",
    "\n",
    "x = 4\n",
    "\n",
    "print(1 < x < 5)"
   ]
  },
  {
   "cell_type": "markdown",
   "metadata": {},
   "source": [
    "### 105\n",
    "아래 코드의 결과를 예상하라.\n",
    "\n",
    ">print ((3 == 3) and (4 != 3))"
   ]
  },
  {
   "cell_type": "code",
   "execution_count": 11,
   "metadata": {},
   "outputs": [
    {
     "name": "stdout",
     "output_type": "stream",
     "text": [
      "True\n"
     ]
    }
   ],
   "source": [
    "# True\n",
    "# and는 두개다 True여야 True\n",
    "\n",
    "print((3 == 3) and (4 != 3))"
   ]
  },
  {
   "cell_type": "markdown",
   "metadata": {},
   "source": [
    "### 106\n",
    "아래 코드에서 에러가 발생하는 원인에 대해 설명하라.\n",
    "\n",
    ">print(3 => 4)"
   ]
  },
  {
   "cell_type": "code",
   "execution_count": 12,
   "metadata": {},
   "outputs": [],
   "source": [
    "# >= 이 되어야 한다"
   ]
  },
  {
   "cell_type": "markdown",
   "metadata": {},
   "source": [
    "### 107\n",
    "아래 코드의 출력 결과를 예상하라\n",
    "\n",
    "> if 4 < 3:\n",
    "\n",
    ">       print(\"Hello World\")"
   ]
  },
  {
   "cell_type": "code",
   "execution_count": 13,
   "metadata": {},
   "outputs": [],
   "source": [
    "# 결과가 나오지 않는다\n",
    "# 프로그램 종료\n",
    "\n",
    "if 4 < 3:\n",
    "    print('Hello World')"
   ]
  },
  {
   "cell_type": "markdown",
   "metadata": {},
   "source": [
    "### 108\n",
    "아래 코드의 출력 결과를 예상하라\n",
    "\n",
    "if 4 < 3:\n",
    "\n",
    "        print(\"Hello World.\")\n",
    "\n",
    "else:\n",
    "\n",
    "        print(\"Hi, there.\")"
   ]
  },
  {
   "cell_type": "code",
   "execution_count": 14,
   "metadata": {},
   "outputs": [
    {
     "name": "stdout",
     "output_type": "stream",
     "text": [
      "Hi, there\n"
     ]
    }
   ],
   "source": [
    "# 'Hi, there' 가 출력됨\n",
    "\n",
    "if 4 < 3:\n",
    "    print('Hello World')\n",
    "else:\n",
    "    print('Hi, there')"
   ]
  },
  {
   "cell_type": "markdown",
   "metadata": {},
   "source": [
    "### 109\n",
    "아래 코드의 출력 결과를 예상하라\n",
    "\n",
    "if True :\n",
    "\n",
    "        print (\"1\")\n",
    "        print (\"2\")\n",
    "else :\n",
    "\n",
    "        print(\"3\")\n",
    "\n",
    "print(\"4\")"
   ]
  },
  {
   "cell_type": "code",
   "execution_count": 15,
   "metadata": {},
   "outputs": [
    {
     "name": "stdout",
     "output_type": "stream",
     "text": [
      "1\n",
      "2\n",
      "4\n"
     ]
    }
   ],
   "source": [
    "# '1', '2', '4'가 출력됨\n",
    "\n",
    "if True:        # 조건이 이미 True 이므로 아래줄 출력\n",
    "    print('1')\n",
    "    print('2')\n",
    "\n",
    "else:\n",
    "    print('3')\n",
    "\n",
    "print('4')      # if문과 별개 이므로 출력"
   ]
  },
  {
   "cell_type": "markdown",
   "metadata": {},
   "source": [
    "### 110\n",
    "아래 코드의 출력 결과를 예상하라\n",
    "\n",
    "if True :\n",
    "\n",
    "        if False:\n",
    "\n",
    "            print(\"1\")\n",
    "\n",
    "            print(\"2\")\n",
    "\n",
    "        else:\n",
    "\n",
    "            print(\"3\")\n",
    "\n",
    "else :\n",
    "\n",
    "        print(\"4\")\n",
    "\n",
    "print(\"5\")"
   ]
  },
  {
   "cell_type": "code",
   "execution_count": 16,
   "metadata": {},
   "outputs": [
    {
     "name": "stdout",
     "output_type": "stream",
     "text": [
      "3\n",
      "5\n"
     ]
    }
   ],
   "source": [
    "# '3', '5' 출력\n",
    "\n",
    "if True:            # 조건이 True 이므로 아래 문 출력\n",
    "    if False:       # 이중 if문에 조건이 False이므로 무시\n",
    "        print('1') \n",
    "        print('2')\n",
    "    else:           # 이중 if문에 조건이 True 이므로 출력\n",
    "        print('3')\n",
    "\n",
    "else:\n",
    "    print('4')\n",
    "\n",
    "print('5')          # 별개의 출력물 출력"
   ]
  },
  {
   "cell_type": "markdown",
   "metadata": {},
   "source": [
    "### 111\n",
    "사용자로부터 입력받은 문자열을 두 번 출력하라. 아래는 사용자가 \"안녕하세요\"를 입력한 경우의 출력 결과이다.\n",
    "\n",
    ">> 안녕하세요\n",
    "\n",
    "안녕하세요안녕하세요"
   ]
  },
  {
   "cell_type": "code",
   "execution_count": 17,
   "metadata": {},
   "outputs": [
    {
     "name": "stdout",
     "output_type": "stream",
     "text": [
      "aa\n"
     ]
    }
   ],
   "source": [
    "a = input(' ')\n",
    "\n",
    "print(a * 2)"
   ]
  },
  {
   "cell_type": "markdown",
   "metadata": {},
   "source": [
    "### 112\n",
    "사용자로부터 하나의 숫자를 입력받고, 입력 받은 숫자에 10을 더해 출력하라.\n",
    "\n",
    ">> 숫자를 입력하세요: 30\n",
    "\n",
    "40"
   ]
  },
  {
   "cell_type": "code",
   "execution_count": 18,
   "metadata": {},
   "outputs": [
    {
     "name": "stdout",
     "output_type": "stream",
     "text": [
      "5 <class 'str'>\n",
      "15\n"
     ]
    }
   ],
   "source": [
    "a = input('숫자를 입력하세요:')\n",
    "\n",
    "print(a , type(a))      # 입력된 값은 문자형이 된다\n",
    "print(int(a) + 10)"
   ]
  },
  {
   "cell_type": "markdown",
   "metadata": {},
   "source": [
    "### 113\n",
    "사용자로부터 하나의 숫자를 입력 받고 짝수/홀수를 판별하라.\n",
    "\n",
    ">> 30\n",
    "\n",
    "짝수"
   ]
  },
  {
   "cell_type": "code",
   "execution_count": 19,
   "metadata": {},
   "outputs": [
    {
     "name": "stdout",
     "output_type": "stream",
     "text": [
      "홀수 입니다\n"
     ]
    }
   ],
   "source": [
    "a = input('숫자를 입력하세요:')\n",
    "a = int(a)\n",
    "\n",
    "if a % 2 == 0:             # 나누고 나머지 값이 0이 된다\n",
    "    print('짝수 입니다')\n",
    "\n",
    "else:\n",
    "    print('홀수 입니다')"
   ]
  },
  {
   "cell_type": "markdown",
   "metadata": {},
   "source": [
    "### 114\n",
    "사용자로부터 값을 입력받은 후 해당 값에 20을 더한 값을 출력하라. 단 사용자가 입력한 값과 20을 더한 계산 값이 255를 초과하는 경우 255를 출력해야 한다.\n",
    "\n",
    ">> 입력값: 200\n",
    "\n",
    "출력값: 220\n",
    "\n",
    ">> 입력값: 240\n",
    "\n",
    "출력값: 255"
   ]
  },
  {
   "cell_type": "code",
   "execution_count": 20,
   "metadata": {},
   "outputs": [
    {
     "name": "stdout",
     "output_type": "stream",
     "text": [
      "35\n"
     ]
    }
   ],
   "source": [
    "a = int(input('숫자를 입력하세요:'))\n",
    "a = a + 20\n",
    "\n",
    "if a > 255:\n",
    "    print('계산된 값이 한도를 초과하여 최대값',255,'이 출력됩니다')\n",
    "else:\n",
    "    print(a)    "
   ]
  },
  {
   "cell_type": "markdown",
   "metadata": {},
   "source": [
    "### 115\n",
    "사용자로부터 하나의 값을 입력받은 후 해당 값에 20을 뺀 값을 출력하라. 단 출력 값의 범위는 0~255이다. 예를 들어 결괏값이 0보다 작은 값이되는 경우 0을 출력하고 255보다 큰 값이 되는 경우 255를 출력해야 한다.\n",
    "\n",
    ">> 입력값: 200\n",
    "\n",
    "출력값: 180\n",
    "\n",
    ">> 입력값: 15\n",
    "\n",
    "출력값: 0"
   ]
  },
  {
   "cell_type": "code",
   "execution_count": 21,
   "metadata": {},
   "outputs": [
    {
     "name": "stdout",
     "output_type": "stream",
     "text": [
      "입력된 값은:35, -20 의 계산 값은 : 15\n"
     ]
    }
   ],
   "source": [
    "a = int(input('숫자를 입력하세요:'))\n",
    "data = a - 20\n",
    "\n",
    "if data < 0:\n",
    "    print(f'입력된 값은:{a}, 출력 값의 범위는 0~255 입니다',0)\n",
    "elif data > 255:\n",
    "    print(f'입력된 값은:{a},출력 값의 범위는 0~255 입니다',255)\n",
    "else:\n",
    "    print(f'입력된 값은:{a}, -20 의 계산 값은 :',data)\n"
   ]
  },
  {
   "cell_type": "markdown",
   "metadata": {},
   "source": [
    "### 116\n",
    "사용자로부터 입력 받은 시간이 정각인지 판별하라.\n",
    "\n",
    ">> 현재시간:02:00\n",
    "\n",
    "정각 입니다.\n",
    "\n",
    ">> 현재시간:03:10\n",
    "\n",
    "정각이 아닙니다"
   ]
  },
  {
   "cell_type": "code",
   "execution_count": 22,
   "metadata": {},
   "outputs": [
    {
     "name": "stdout",
     "output_type": "stream",
     "text": [
      "정각 입니다.\n"
     ]
    }
   ],
   "source": [
    "times = input('시간을 입력하세요:')\n",
    "\n",
    "if times[-2:] == '00':\n",
    "    print('정각 입니다.')\n",
    "    \n",
    "else:\n",
    "    print('정각이 아닙니다.')"
   ]
  },
  {
   "cell_type": "markdown",
   "metadata": {},
   "source": [
    "### 117\n",
    "사용자로 입력받은 단어가 아래 fruit 리스트에 포함되어 있는지를 확인하라. 포함되었다면 \"정답입니다\"를 아닐 경우 \"오답입니다\" 출력하라.\n",
    "\n",
    "fruit = [\"사과\", \"포도\", \"홍시\"]\n",
    "\n",
    ">> 좋아하는 과일은? 사과\n",
    "\n",
    "정답입니다."
   ]
  },
  {
   "cell_type": "code",
   "execution_count": 23,
   "metadata": {},
   "outputs": [
    {
     "name": "stdout",
     "output_type": "stream",
     "text": [
      "오답입니다\n"
     ]
    }
   ],
   "source": [
    "fruit = [\"사과\", \"포도\", \"홍시\"]\n",
    "\n",
    "a = input('좋아하는 과일은?:')\n",
    "\n",
    "if a in fruit:\n",
    "    print('정답입니다')\n",
    "    \n",
    "else:\n",
    "    print('오답입니다')"
   ]
  },
  {
   "cell_type": "markdown",
   "metadata": {},
   "source": [
    "### 118\n",
    "투자 경고 종목 리스트가 있을 때 사용자로부터 종목명을 입력 받은 후 해당 종목이 투자 경고 종목이라면 '투자 경고 종목입니다'를 아니면 \"투자 경고 종목이 아닙니다.\"를 출력하는 프로그램을 작성하라.\n",
    "\n",
    "warn_investment_list = [\"Microsoft\", \"Google\", \"Naver\", \"Kakao\", \"SAMSUNG\", \"LG\"]"
   ]
  },
  {
   "cell_type": "code",
   "execution_count": 24,
   "metadata": {},
   "outputs": [
    {
     "name": "stdout",
     "output_type": "stream",
     "text": [
      "당신의 투자종목은? : Naver\n",
      "투자 경고 종목입니다\n"
     ]
    }
   ],
   "source": [
    "warn_investment_list = [\"Microsoft\", \"Google\", \"Naver\", \"Kakao\", \"SAMSUNG\", \"LG\"]\n",
    "\n",
    "a = input('당신의 투자종목은? :')\n",
    "print('당신의 투자종목은? :',a)\n",
    "\n",
    "if a in warn_investment_list:\n",
    "    print('투자 경고 종목입니다')\n",
    "else:\n",
    "    print('투자 경고 종목이 아닙니다.')"
   ]
  },
  {
   "cell_type": "markdown",
   "metadata": {},
   "source": [
    "### 119\n",
    "아래와 같이 fruit 딕셔너리가 정의되어 있다. 사용자가 입력한 값이 딕셔너리 키 (key) 값에 포함되었다면 \"정답입니다\"를 아닐 경우 \"오답입니다\" 출력하라.\n",
    "\n",
    "fruit = {\"봄\" : \"딸기\", \"여름\" : \"토마토\", \"가을\" : \"사과\"}\n",
    "\n",
    ">> 제가좋아하는계절은: 봄\n",
    "\n",
    "정답입니다."
   ]
  },
  {
   "cell_type": "code",
   "execution_count": 25,
   "metadata": {},
   "outputs": [
    {
     "name": "stdout",
     "output_type": "stream",
     "text": [
      "제가좋아하는계절은: 가을\n",
      "정답입니다\n"
     ]
    }
   ],
   "source": [
    "fruit = {\"봄\" : \"딸기\", \"여름\" : \"토마토\", \"가을\" : \"사과\"}\n",
    "\n",
    "a = input('제가좋아하는계절은:')\n",
    "print('제가좋아하는계절은:',a)\n",
    "\n",
    "if a in fruit.keys():\n",
    "    print('정답입니다')\n",
    "else:\n",
    "    print('오답입니다')  "
   ]
  },
  {
   "cell_type": "markdown",
   "metadata": {},
   "source": [
    "### 120\n",
    "아래와 같이 fruit 딕셔너리가 정의되어 있다. 사용자가 입력한 값이 딕셔너리 값 (value)에 포함되었다면 \"정답입니다\"를 아닐 경우 \"오답입니다\" 출력하라.\n",
    "\n",
    "fruit = {\"봄\" : \"딸기\", \"여름\" : \"토마토\", \"가을\" : \"사과\"}\n",
    "\n",
    ">> 좋아하는과일은? 한라봉\n",
    "\n",
    "오답입니다."
   ]
  },
  {
   "cell_type": "code",
   "execution_count": 26,
   "metadata": {},
   "outputs": [
    {
     "name": "stdout",
     "output_type": "stream",
     "text": [
      "좋아하는 과일은?: 딸기\n",
      "정답입니다\n"
     ]
    }
   ],
   "source": [
    "fruit = {\"봄\" : \"딸기\", \"여름\" : \"토마토\", \"가을\" : \"사과\"}\n",
    "\n",
    "a = input('좋아하는 과일은?:')\n",
    "print('좋아하는 과일은?:',a)\n",
    "\n",
    "if a in fruit.values():\n",
    "    print('정답입니다')\n",
    "else:\n",
    "    print('오답입니다')  "
   ]
  },
  {
   "cell_type": "markdown",
   "metadata": {},
   "source": [
    "### 121\n",
    "사용자로부터 문자 한 개를 입력 받고, 소문자일 경우 대문자로, 대문자 일 경우, 소문자로 변경해서 출력하라.\n",
    "\n",
    ">> a\n",
    "\n",
    "A\n",
    "\n",
    "힌트-1 : islower() 함수는 문자의 소문자 여부를 판별합니다. 만약 소문자일 경우 True, 대문자일 경우 False를 반환합니다. 힌트-2 : upper() 함수는 대문자로, lower() 함수는 소문자로 변경합니다."
   ]
  },
  {
   "cell_type": "code",
   "execution_count": 27,
   "metadata": {},
   "outputs": [
    {
     "name": "stdout",
     "output_type": "stream",
     "text": [
      "입력하신 문자 a는(은), 소문자 입니다\n"
     ]
    }
   ],
   "source": [
    "a = input('대,소문자를 입력해주세요')\n",
    "\n",
    "if a.islower():\n",
    "    print(f'입력하신 문자 {a}는(은), 소문자 입니다')\n",
    "else:\n",
    "    print(f'입력하신 문자 {a}는(은),대문자 입니다.')"
   ]
  },
  {
   "cell_type": "markdown",
   "metadata": {},
   "source": [
    "### 122\n",
    "점수 구간에 해당하는 학점이 아래와 같이 정의되어 있다. 사용자로부터 score를 입력받아 학점을 출력하라.\n",
    "\n",
    "|점수|\t학점|\n",
    "|---|---|\n",
    "|81~100|\tA|\n",
    "|61~80\t|B|\n",
    "|41~60\t|C|\n",
    "|21~40\t|D|\n",
    "|0~20\t|E|\n",
    "\n",
    "&nbsp;\n",
    ">> score: 83\n",
    "\n",
    "grade is A"
   ]
  },
  {
   "cell_type": "code",
   "execution_count": 28,
   "metadata": {},
   "outputs": [
    {
     "name": "stdout",
     "output_type": "stream",
     "text": [
      "입력하신 점수는 56 ,당신의 학점은 C입니다\n"
     ]
    }
   ],
   "source": [
    "score = int(input('점수를 입력해 주세요:'))\n",
    "\n",
    "if 81 < score <= 100:\n",
    "    print(f'입력하신 점수는 {score} , 당신의 학점은 A입니다')\n",
    "elif 61 < score <= 80:\n",
    "    print(f'입력하신 점수는 {score} ,당신의 학점은 B입니다')\n",
    "elif 41 < score <= 60:\n",
    "    print(f'입력하신 점수는 {score} ,당신의 학점은 C입니다')\n",
    "elif 21 < score <= 40:\n",
    "    print(f'입력하신 점수는 {score} ,당신의 학점은 D입니다')\n",
    "else:\n",
    "    print(f'입력하신 점수는 {score} ,당신의 학점은 E입니다')"
   ]
  },
  {
   "cell_type": "markdown",
   "metadata": {},
   "source": [
    "### 123\n",
    "사용자로부터 달러, 엔, 유로, 또는 위안 금액을 입력받은 후 이를 원으로 변환하는 프로그램을 작성하라. 각 통화별 환율은 다음과 같다. 사용자는 100 달러, 1000 엔, 13 유로, 100 위안과 같이 금액과 통화명 사이에 공백을 넣어 입력한다고 가정한다.\n",
    "\n",
    "|통화명|\t환율|\n",
    "|---|---|\n",
    "|달러\t|1167\n",
    "|엔\t|1.096|\n",
    "|유로\t|1268|\n",
    "|위안\t|171|\n",
    "\n",
    "&nbsp;\n",
    "\n",
    ">> 입력: 100 달러\n",
    "\n",
    "116700.00 원"
   ]
  },
  {
   "cell_type": "code",
   "execution_count": 10,
   "metadata": {},
   "outputs": [
    {
     "name": "stdout",
     "output_type": "stream",
     "text": [
      "입력하신 금액 : 10000 달러\n",
      "11,670,000.0 원\n"
     ]
    }
   ],
   "source": [
    "data = input('금액을 입력해 주세요:')\n",
    "\n",
    "print('입력하신 금액 :',data)\n",
    "\n",
    "tokens = data.split()       # ' ' 기준으로 분리\n",
    "\n",
    "amount,currency = tokens    # 언패킹 해서 각각 변수에 분리된 값이 바운드\n",
    "\n",
    "amount = float(amount)      # 실수형으로 변환\n",
    "\n",
    "if currency == '달러':\n",
    "    print(f'{amount * 1167:,} 원')\n",
    "elif currency == '엔':\n",
    "    print(f'{amount * 1.096:,} 원')\n",
    "elif currency == '유로':\n",
    "    print(f'{amount * 1268:,} 원')\n",
    "else:\n",
    "    print(f'{amount * 171:,} 원')"
   ]
  },
  {
   "cell_type": "markdown",
   "metadata": {},
   "source": [
    "### 124\n",
    "사용자로부터 세 개의 숫자를 입력 받은 후 가장 큰 숫자를 출력하라.\n",
    "\n",
    ">> input number1: 10\n",
    "\n",
    ">> input number2: 9\n",
    "\n",
    ">> input number3: 20\n",
    "\n",
    "20"
   ]
  },
  {
   "cell_type": "code",
   "execution_count": 12,
   "metadata": {},
   "outputs": [
    {
     "name": "stdout",
     "output_type": "stream",
     "text": [
      "20\n"
     ]
    }
   ],
   "source": [
    "nums1 = int(input('숫자를 입력해 주세요 1'))\n",
    "nums2 = int(input('숫자를 입력해 주세요 2'))\n",
    "nums3 = int(input('숫자를 입력해 주세요 3'))\n",
    "\n",
    "if nums1 > nums2 and nums1 > nums3:\n",
    "    print(nums1)\n",
    "elif nums2 > nums1 and nums2 > nums3:\n",
    "    print(nums2)\n",
    "else:\n",
    "    print(nums3)\n"
   ]
  },
  {
   "cell_type": "markdown",
   "metadata": {},
   "source": [
    "### 125\n",
    "휴대폰 번호 앞자리에 따라 통신사는 아래와 같이 구분된다. 사용자로부터 휴대전화 번호를 입력 받고, 통신사를 출력하는 프로그램을 작성하라.\n",
    "\n",
    "\n",
    "|번호|\t통신사|\n",
    "|---|---|\n",
    "|011|\tSKT|\n",
    "|016|\tKT|\n",
    "|019|\tLGU|\n",
    "|010|\t알수없음|\n",
    "\n",
    "&nbsp;\n",
    "\n",
    ">> 휴대전화 번호 입력: 011-345-1922\n",
    "\n",
    "당신은 SKT 사용자입니다."
   ]
  },
  {
   "cell_type": "code",
   "execution_count": 16,
   "metadata": {},
   "outputs": [
    {
     "name": "stdout",
     "output_type": "stream",
     "text": [
      "입력하신 전화번호는 011-345-1922\n",
      "당신의 통신사는 : SKT\n"
     ]
    }
   ],
   "source": [
    "phone = input('전화 번호를 입력해 주세요 ')\n",
    "print('입력하신 전화번호는',phone)\n",
    "\n",
    "phone = phone[:3]\n",
    "\n",
    "if phone == '011' :\n",
    "    print('당신의 통신사는 : SKT')\n",
    "elif phone == '016' :\n",
    "    print('당신의 통신사는 : KT')\n",
    "elif phone == '019' :\n",
    "    print('당신의 통신사는 : LGU')\n",
    "else  :\n",
    "    print('당신의 통신사는 : 알수 없음')\n"
   ]
  },
  {
   "cell_type": "markdown",
   "metadata": {},
   "source": [
    "### 126\n",
    "우편번호는 5자리로 구성되는데, 앞의 세자리는 구를 나타낸다. 예를들어, 강북구의 경우 010, 011, 012 세 자리로 시작한다.\n",
    "\n",
    "\n",
    "|-|\t0|\t1|\t2|\t3|\t4|\t5|\t6|\t7|\t8|\t9|\n",
    "|---|---|---|---|---|---|---|---|---|---|---|\n",
    "|01|\t강북구|\t강북구|\t강북구|\t도봉구|\t도봉구|\t도봉구|노원구|\t노원구|\t노원구|\t노원구|\n",
    "\n",
    "사용자로 부터 5자리 우편번호를 입력받고 구를 판별하라\n",
    "\n",
    ">> 우편번호: 01400\n",
    "\n",
    "도봉구"
   ]
  },
  {
   "cell_type": "code",
   "execution_count": 2,
   "metadata": {},
   "outputs": [
    {
     "name": "stdout",
     "output_type": "stream",
     "text": [
      "입력하신 우편번호는? : 01315\n",
      "해당 우편번호 지역은 도봉구\n"
     ]
    }
   ],
   "source": [
    "data = input('우편번호 :')\n",
    "print('입력하신 우편번호는? :',data)\n",
    "data = data[:3]\n",
    "\n",
    "if data in ['010','011','012']:\n",
    "    print('해당 우편번호 지역은 강북구')\n",
    "elif data in ['013','014','015']:\n",
    "    print('해당 우편번호 지역은 도봉구')\n",
    "else:\n",
    "    print('해당 우편번호 지역은 노원구')\n"
   ]
  },
  {
   "cell_type": "markdown",
   "metadata": {},
   "source": [
    "### 127\n",
    "주민등록번호 뒷 자리 7자리 중 첫째 자리는 성별을 나타내는데, 1, 3은 남자 2, 4는 여자를 의미한다. 사용자로부터 13자리의 주민등록번호를 입력 받은 후 성별 (남자, 여자)를 출력하는 프로그램을 작성하라.\n",
    "\n",
    ">> 주민등록번호: 821010-1635210\n",
    "\n",
    "남자"
   ]
  },
  {
   "cell_type": "code",
   "execution_count": 9,
   "metadata": {},
   "outputs": [
    {
     "name": "stdout",
     "output_type": "stream",
     "text": [
      "일력하신 주민번호는?  821010-1635210\n",
      "입력하신 주민번호의 성별은 남성입니다.\n"
     ]
    }
   ],
   "source": [
    "jumin = input('주민번호를 입력해 주세요')\n",
    "print('일력하신 주민번호는? ',jumin)\n",
    "\n",
    "jumin = jumin[-7]\n",
    "\n",
    "\n",
    "if jumin in ['1','3']:\n",
    "    print('입력하신 주민번호의 성별은 남성입니다.')\n",
    "\n",
    "elif jumin in ['2','4']:\n",
    "    print('입력하신 주민번호의 성별은 여성입니다.')\n",
    "\n",
    "else: \n",
    "    print('알수없습니다.')"
   ]
  },
  {
   "cell_type": "markdown",
   "metadata": {},
   "source": [
    "### 128\n",
    "주민등록번호의 뒷 자리 7자리 중 두번째와 세번째는 지역코드를 의미한다. 주민 등록 번호를 입력 받은 후 출생지가 서울인지 아닌지 판단하는 코드를 작성하라\n",
    "\n",
    "\n",
    "|지역코드|\t출생지|\n",
    "|---|---|\n",
    "|00 ~ 08|\t서울|\n",
    "|09 ~ 12|\t부산|\n",
    "\n",
    "&nbsp;\n",
    "\n",
    ">> 주민등록번호: 821010-1635210\n",
    "\n",
    "서울이 아닙니다.\n",
    "\n",
    ">> 주민등록번호: 861010-1015210\n",
    "\n",
    "서울 입니다."
   ]
  },
  {
   "cell_type": "code",
   "execution_count": 17,
   "metadata": {},
   "outputs": [
    {
     "name": "stdout",
     "output_type": "stream",
     "text": [
      "일력하신 주민번호는?  861010-1015210\n",
      "입력하신 주민번호의 지역은 서울입니다.\n"
     ]
    }
   ],
   "source": [
    "jumin = input('주민번호를 입력해 주세요')\n",
    "\n",
    "print('일력하신 주민번호는? ',jumin)\n",
    "\n",
    "jumin = jumin[-6:-4]\n",
    "\n",
    "if jumin in ['00','01','02','03','04','05','06','07','08']:\n",
    "    print('입력하신 주민번호의 지역은 서울입니다.')\n",
    "\n",
    "else: \n",
    "    print('입력하신 주민번호의 지역은 서울이 아닙니다.')"
   ]
  },
  {
   "cell_type": "markdown",
   "metadata": {},
   "source": [
    "### 129\n",
    "주민등록번호는 13자리로 구성되는데 마지막 자리수는 주민등록번호의 유효성을 체크하는데 사용된다. 먼저 앞에서부터 12자리의 숫자에 2, 3, 4, 5, 6, 7, 8, 9, 2, 3, 4, 5를 차례로 곱한 뒤 그 값을 전부 더한다. 연산 결과 값을 11로 나누면 나머지가 나오는데 11에서 나머지를 뺀 값이 주민등록번호의 마지막 번호가 된다.\n",
    "\n",
    "       8 2 1 0 1 0 - 1 6 3 5 2 1 0\n",
    "  \n",
    "     x 2 3 4 5 6 7   8 9 2 3 4 5 \n",
    "\n",
    "-----------------------------\n",
    "\n",
    "    1차 계산: (8*2 + 2*3 + 1*4 + 0*5 + 1*6 + 0*7 + 1*8 + 6*9 + 3*2 + 5*3 + 2*4 + 1*5) = (128 % 11) = 7\n",
    "\n",
    "    2차 계산: 11 -7 = 4\n",
    "\n",
    "위와 같이 821010-1635210에 대해서 계산을 해보면 마지막 자리는 4가 되어야 함을 알 수 있다. 즉, 821010-1635210은 유효하지 않은 주민등록번호임을 알 수 있다.\n",
    "\n",
    "다음과 같이 사용자로부터 주민등록번호를 입력받은 후 주민등록번호가 유효한지를 출력하는 프로그램을 작성하라.\n",
    "\n",
    ">> 주민등록번호: 821010-1635210\n",
    "\n",
    "유효하지 않은 주민등록번호입니다. "
   ]
  },
  {
   "cell_type": "code",
   "execution_count": 19,
   "metadata": {},
   "outputs": [
    {
     "name": "stdout",
     "output_type": "stream",
     "text": [
      "일력하신 주민번호는?  821010-1635210\n",
      "유효하지 않은 주민등록번호입니다.\n"
     ]
    }
   ],
   "source": [
    "num = input(\"주민등록번호: \")\n",
    "\n",
    "print('일력하신 주민번호는? ',num)\n",
    "\n",
    "num = num.replace('-','')\n",
    "\n",
    "계산1 = int(num[0]) * 2 + int(num[1]) * 3 + int(num[2]) * 4 + int(num[3]) * 5 + int(num[4]) * 6 + \\\n",
    "        int(num[5]) * 7 + int(num[7]) * 8 + int(num[8]) * 9 + int(num[9]) * 2 + int(num[10])* 3 + \\\n",
    "        int(num[11])* 4 + int(num[12]) * 5\n",
    "\n",
    "계산2 = 11 - (계산1 % 11)\n",
    "\n",
    "계산3 = str(계산2)\n",
    "\n",
    "if num[-1] == 계산3[-1]:\n",
    "    print(\"유효한 주민등록번호입니다.\")\n",
    "\n",
    "else:\n",
    "    print(\"유효하지 않은 주민등록번호입니다.\")"
   ]
  },
  {
   "cell_type": "markdown",
   "metadata": {},
   "source": [
    "### 130\n",
    "아래 코드는 비트코인의 가격 정보를 딕셔너리로 가져오는 코드이다.\n",
    "\n",
    "    import requests\n",
    "\n",
    "    btc = requests.get(\"https://api.bithumb.com/public/ticker/\").json()\n",
    "\n",
    "    ['data']\n",
    "\n",
    "btc 딕셔너리 안에는 시가, 종가, 최고가, 최저가 등이 저장되어 있다. 최고가와 최저가의 차이를 변동폭으로 정의할 때 (시가 + 변동폭)이 최고가 보다 높을 경우 \"상승장\", 그렇지 않은 경우 \"하락장\" 문자열을 출력하라.\n",
    "\n",
    "\n",
    "|Key Name\t|Description|\n",
    "|---|---|\n",
    "|opening_price|\t최근 24시간 내 시작 거래금액|\n",
    "|closing_price\t|최근 24시간 내 마지막 거래금액|\n",
    "|min_price\t|최근 24시간 내 최저 거래금액|\n",
    "|max_price\t|최근 24시간 내 최고 거래금액|"
   ]
  },
  {
   "cell_type": "code",
   "execution_count": 34,
   "metadata": {},
   "outputs": [
    {
     "name": "stdout",
     "output_type": "stream",
     "text": [
      "금일 비트코인 최고가 :99,490,000.0원, 최저가 :98,462,000.0원\n",
      "금일 비트코인 시작가 :98,550,000.0원, 마감가 :99,141,000.0원\n",
      "금일 비트코인은 상승장\n"
     ]
    }
   ],
   "source": [
    "import requests\n",
    "\n",
    "btc = requests.get(\"https://api.bithumb.com/public/ticker/\").json()['data']\n",
    "\n",
    "변동폭 = float(btc['max_price']) - float(btc['min_price'])\n",
    "\n",
    "시작가 = float(btc['opening_price'])\n",
    "\n",
    "마감가 = float(btc['closing_price'])\n",
    "\n",
    "최고가 = float(btc['max_price'])\n",
    "\n",
    "최저가 = float(btc['min_price'])\n",
    "\n",
    "print(f'금일 비트코인 최고가 :{최고가:,}원, 최저가 :{최저가:,}원')\n",
    "print(f'금일 비트코인 시작가 :{시작가:,}원, 마감가 :{마감가:,}원')\n",
    "\n",
    "if (시작가+변동폭) > 최고가:\n",
    "    print(\"금일 비트코인은 상승장\")\n",
    "\n",
    "else:\n",
    "    print(\"금일 비트코인은 하락장\")"
   ]
  },
  {
   "cell_type": "markdown",
   "metadata": {},
   "source": [
    "&nbsp;\n",
    "\n",
    "# **<span style=\"color:blue\">08. 파이썬 반복문</span>**\n",
    "\n",
    "- 파이썬 for 문은 횟수가 정해져 있거나 상대적으로 횟수가 적은 경우에 대한 반복에 주로 사용됩니다. 파이썬 while문은 횟수가 상대적으로 크거나 무한 루프 형태의 반복문에 사용됩니다.\n",
    "\n",
    "&nbsp;"
   ]
  },
  {
   "cell_type": "markdown",
   "metadata": {},
   "source": [
    "### 131\n",
    "for문의 실행결과를 예측하라.\n",
    "\n",
    "        과일 = [\"사과\", \"귤\", \"수박\"]\n",
    "\n",
    "        for 변수 in 과일:\n",
    "\n",
    "            print(변수)"
   ]
  },
  {
   "cell_type": "code",
   "execution_count": 36,
   "metadata": {},
   "outputs": [
    {
     "name": "stdout",
     "output_type": "stream",
     "text": [
      "사과\n",
      "귤\n",
      "수박\n"
     ]
    }
   ],
   "source": [
    "# 과일 리스트에 요소가 하나씩 출력\n",
    "\n",
    "과일 = ['사과','귤','수박']\n",
    "\n",
    "for 변수 in 과일:\n",
    "    print(변수)"
   ]
  },
  {
   "cell_type": "markdown",
   "metadata": {},
   "source": [
    "### 132\n",
    "for문의 실행결과를 예측하라.\n",
    "\n",
    "      과일 = [\"사과\", \"귤\", \"수박\"]\n",
    "\n",
    "      for 변수 in 과일:\n",
    "\n",
    "            print(\"#####\")"
   ]
  },
  {
   "cell_type": "code",
   "execution_count": 37,
   "metadata": {},
   "outputs": [
    {
     "name": "stdout",
     "output_type": "stream",
     "text": [
      "#####\n",
      "#####\n",
      "#####\n"
     ]
    }
   ],
   "source": [
    "# ##### 세번 출력\n",
    "\n",
    "과일 = ['사과','귤','수박']\n",
    "\n",
    "for 변수 in 과일:\n",
    "    print('#####')"
   ]
  },
  {
   "cell_type": "markdown",
   "metadata": {},
   "source": [
    "### 133\n",
    "다음 for 문과 동일한 기능을 수행하는 코드를 작성하세요.\n",
    "\n",
    "      for 변수 in [\"A\", \"B\", \"C\"]:\n",
    "\n",
    "            print(변수)"
   ]
  },
  {
   "cell_type": "code",
   "execution_count": 49,
   "metadata": {},
   "outputs": [
    {
     "name": "stdout",
     "output_type": "stream",
     "text": [
      "A\n",
      "B\n",
      "C\n"
     ]
    }
   ],
   "source": [
    "print('A')\n",
    "print('B')\n",
    "print('C')"
   ]
  },
  {
   "cell_type": "code",
   "execution_count": 50,
   "metadata": {},
   "outputs": [
    {
     "name": "stdout",
     "output_type": "stream",
     "text": [
      "A\n",
      "B\n",
      "C\n"
     ]
    }
   ],
   "source": [
    "data = ['A','B','C']\n",
    "\n",
    "print(data[0])\n",
    "print(data[1])\n",
    "print(data[2])"
   ]
  },
  {
   "cell_type": "markdown",
   "metadata": {},
   "source": [
    "### 134\n",
    "for문을 풀어서 동일한 동작을하는 코드를 작성하라.\n",
    "\n",
    "    for 변수 in [\"A\", \"B\", \"C\"]:\n",
    "\n",
    "      print(\"출력:\", 변수)"
   ]
  },
  {
   "cell_type": "code",
   "execution_count": 51,
   "metadata": {},
   "outputs": [
    {
     "name": "stdout",
     "output_type": "stream",
     "text": [
      "출력 : A\n",
      "출력 : B\n",
      "출력 : C\n"
     ]
    }
   ],
   "source": [
    "data = ['A','B','C']\n",
    "\n",
    "print('출력 :',data[0])\n",
    "print('출력 :',data[1])\n",
    "print('출력 :',data[2])"
   ]
  },
  {
   "cell_type": "markdown",
   "metadata": {},
   "source": [
    "### 135\n",
    "for문을 풀어서 동일한 동작을 하는 코드를 작성하라.\n",
    "\n",
    "        for 변수 in [\"A\", \"B\", \"C\"]:\n",
    "\n",
    "            b = 변수.lower()\n",
    "\n",
    "            print(\"변환:\", b)"
   ]
  },
  {
   "cell_type": "code",
   "execution_count": 52,
   "metadata": {},
   "outputs": [
    {
     "name": "stdout",
     "output_type": "stream",
     "text": [
      "변환 : a\n",
      "변환 : b\n",
      "변환 : c\n"
     ]
    }
   ],
   "source": [
    "print('변환 :','A'.lower())\n",
    "print('변환 :','B'.lower())\n",
    "print('변환 :','C'.lower())"
   ]
  },
  {
   "cell_type": "markdown",
   "metadata": {},
   "source": [
    "### 136\n",
    "다음 코드를 for문으로 작성하라.\n",
    "\n",
    "    변수 = 10\n",
    "\n",
    "    print(변수)\n",
    "\n",
    "    변수 = 20\n",
    "\n",
    "    print(변수)\n",
    "\n",
    "    변수 = 30\n",
    "\n",
    "    print(변수)"
   ]
  },
  {
   "cell_type": "code",
   "execution_count": 54,
   "metadata": {},
   "outputs": [
    {
     "name": "stdout",
     "output_type": "stream",
     "text": [
      "10\n",
      "20\n",
      "30\n"
     ]
    }
   ],
   "source": [
    "data = [10,20,30]\n",
    "\n",
    "for i in data:      # data 안에 있는 각각의 i에 대해서 \n",
    "    print(i)        # 순서대로 출력을 하라"
   ]
  },
  {
   "cell_type": "markdown",
   "metadata": {},
   "source": [
    "### 137\n",
    "다음 코드를 for문으로 작성하라.\n",
    "\n",
    "    print(10)\n",
    "\n",
    "    print(20)\n",
    "\n",
    "    print(30)"
   ]
  },
  {
   "cell_type": "code",
   "execution_count": 55,
   "metadata": {},
   "outputs": [
    {
     "name": "stdout",
     "output_type": "stream",
     "text": [
      "10\n",
      "20\n",
      "30\n"
     ]
    }
   ],
   "source": [
    "data = [10,20,30]\n",
    "\n",
    "for i in data:\n",
    "    print(i)"
   ]
  },
  {
   "cell_type": "code",
   "execution_count": 56,
   "metadata": {},
   "outputs": [
    {
     "name": "stdout",
     "output_type": "stream",
     "text": [
      "10\n",
      "20\n",
      "30\n"
     ]
    }
   ],
   "source": [
    "for i in [10,20,30]:\n",
    "    print(i)"
   ]
  },
  {
   "cell_type": "markdown",
   "metadata": {},
   "source": [
    "### 138\n",
    "다음 코드를 for문으로 작성하라.\n",
    "\n",
    "    print(10)\n",
    "\n",
    "    print(\"-------\")\n",
    "\n",
    "    print(20)\n",
    "\n",
    "    print(\"-------\")\n",
    "\n",
    "    print(30)\n",
    "\n",
    "    print(\"-------\")"
   ]
  },
  {
   "cell_type": "code",
   "execution_count": 58,
   "metadata": {},
   "outputs": [
    {
     "name": "stdout",
     "output_type": "stream",
     "text": [
      "10\n",
      "-------\n",
      "20\n",
      "-------\n",
      "30\n",
      "-------\n"
     ]
    }
   ],
   "source": [
    "data = [10,20,30]\n",
    "\n",
    "for i in data:\n",
    "    print(i)\n",
    "    print('-------')"
   ]
  },
  {
   "cell_type": "markdown",
   "metadata": {},
   "source": [
    "### 139\n",
    "다음 코드를 for문으로 작성하라.\n",
    "\n",
    "    print(\"++++\")\n",
    "\n",
    "    print(10)\n",
    "\n",
    "    print(20)\n",
    "\n",
    "    print(30)"
   ]
  },
  {
   "cell_type": "code",
   "execution_count": 59,
   "metadata": {},
   "outputs": [
    {
     "name": "stdout",
     "output_type": "stream",
     "text": [
      "++++\n",
      "10\n",
      "20\n",
      "30\n"
     ]
    }
   ],
   "source": [
    "data = [10,20,30]\n",
    "\n",
    "print('++++')\n",
    "\n",
    "for i in data:\n",
    "    print(i)\n",
    "    "
   ]
  },
  {
   "cell_type": "markdown",
   "metadata": {},
   "source": [
    "### 140\n",
    "다음 코드를 for문으로 작성하라.\n",
    "\n",
    "    print(\"-------\")\n",
    "\n",
    "    print(\"-------\")\n",
    "\n",
    "    print(\"-------\")\n",
    "\n",
    "    print(\"-------\")"
   ]
  },
  {
   "cell_type": "code",
   "execution_count": 62,
   "metadata": {},
   "outputs": [
    {
     "name": "stdout",
     "output_type": "stream",
     "text": [
      "-------\n",
      "-------\n",
      "-------\n",
      "-------\n"
     ]
    }
   ],
   "source": [
    "for i in range(4):      # [0,1,2,3]\n",
    "    print(\"-------\")    # i 는 임의의 문자이다"
   ]
  },
  {
   "cell_type": "markdown",
   "metadata": {},
   "source": [
    "### 141\n",
    "다음과 같이 판매가가 저장된 리스트가 있을 때 부가세가 포함된 가격을 for 문을 사용해서 화면에 출력하라. 단 부가세는 10원으로 가정한다.\n",
    "\n",
    "    리스트 = [100, 200, 300]\n",
    "\n",
    "110\n",
    "\n",
    "210\n",
    "\n",
    "310"
   ]
  },
  {
   "cell_type": "code",
   "execution_count": 91,
   "metadata": {},
   "outputs": [
    {
     "name": "stdout",
     "output_type": "stream",
     "text": [
      "판매가 + 부가세 :  110 원\n",
      "판매가 + 부가세 :  210 원\n",
      "판매가 + 부가세 :  310 원\n"
     ]
    }
   ],
   "source": [
    "data = [100,200,300]\n",
    "\n",
    "for i in data:\n",
    "    print('판매가 + 부가세 : ',i + 10,'원')"
   ]
  },
  {
   "cell_type": "markdown",
   "metadata": {},
   "source": [
    "### 142\n",
    "for 문을 사용해서 리스트에 저장된 값을 다음과 같이 출력하라.\n",
    "\n",
    "    리스트 = [\"김밥\", \"라면\", \"튀김\"]\n",
    "\n",
    "오늘의 메뉴 : 김밥\n",
    "\n",
    "오늘의 메뉴 : 라면\n",
    "\n",
    "오늘의 메뉴 : 튀김"
   ]
  },
  {
   "cell_type": "code",
   "execution_count": 92,
   "metadata": {},
   "outputs": [
    {
     "name": "stdout",
     "output_type": "stream",
     "text": [
      "오늘의 메뉴 : 김밥\n",
      "오늘의 메뉴 : 라면\n",
      "오늘의 메뉴 : 튀김\n"
     ]
    }
   ],
   "source": [
    "data = [\"김밥\", \"라면\", \"튀김\"]\n",
    "\n",
    "for i in data:\n",
    "    print('오늘의 메뉴 :', i)"
   ]
  },
  {
   "cell_type": "markdown",
   "metadata": {},
   "source": [
    "### 143\n",
    "리스트에 주식 종목이름이 저장돼 있다.\n",
    "\n",
    "    리스트 = [\"SK하이닉스\", \"삼성전자\", \"LG전자\"]\n",
    "\n",
    "저장된 문자열의 길이를 다음과 같이 출력하라.\n",
    "\n",
    "\n",
    "6\n",
    "\n",
    "4\n",
    "\n",
    "4\n"
   ]
  },
  {
   "cell_type": "code",
   "execution_count": 74,
   "metadata": {},
   "outputs": [
    {
     "name": "stdout",
     "output_type": "stream",
     "text": [
      "6\n",
      "4\n",
      "4\n"
     ]
    }
   ],
   "source": [
    "data = [\"SK하이닉스\", \"삼성전자\", \"LG전자\"]\n",
    "\n",
    "for i in data:\n",
    "    print(len(i))"
   ]
  },
  {
   "cell_type": "markdown",
   "metadata": {},
   "source": [
    "### 144\n",
    "리스트에는 동물이름이 문자열로 저장돼 있다.\n",
    "\n",
    "    리스트 = ['dog', 'cat', 'parrot']\n",
    "\n",
    "동물 이름과 글자수를 다음과 같이 출력하라.\n",
    "\n",
    "dog 3\n",
    "\n",
    "cat 3\n",
    "\n",
    "parrot 6"
   ]
  },
  {
   "cell_type": "code",
   "execution_count": 93,
   "metadata": {},
   "outputs": [
    {
     "name": "stdout",
     "output_type": "stream",
     "text": [
      "dog 3\n",
      "cat 3\n",
      "parrot 6\n"
     ]
    }
   ],
   "source": [
    "data = ['dog', 'cat', 'parrot']\n",
    "\n",
    "for i in data:\n",
    "    print(i , len(i))"
   ]
  },
  {
   "cell_type": "markdown",
   "metadata": {},
   "source": [
    "### 145\n",
    "리스트에 동물 이름 저장돼 있다.\n",
    "\n",
    "    리스트 = ['dog', 'cat', 'parrot']\n",
    "\n",
    "for문을 사용해서 동물 이름의 첫 글자만 출력하라.\n",
    "\n",
    "d\n",
    "\n",
    "c\n",
    "\n",
    "p"
   ]
  },
  {
   "cell_type": "code",
   "execution_count": 77,
   "metadata": {},
   "outputs": [
    {
     "name": "stdout",
     "output_type": "stream",
     "text": [
      "d\n",
      "c\n",
      "p\n"
     ]
    }
   ],
   "source": [
    "data = ['dog', 'cat', 'parrot']\n",
    "\n",
    "for i in data:\n",
    "    print(i[0])"
   ]
  },
  {
   "cell_type": "markdown",
   "metadata": {},
   "source": [
    "### 146\n",
    "리스트에는 세 개의 숫자가 바인딩돼 있다.\n",
    "\n",
    "    리스트 = [1, 2, 3]\n",
    "\n",
    "for문을 사용해서 다음과 같이 출력하라.\n",
    "\n",
    "3 x 1\n",
    "\n",
    "3 x 2\n",
    "\n",
    "3 x 3"
   ]
  },
  {
   "cell_type": "code",
   "execution_count": 79,
   "metadata": {},
   "outputs": [
    {
     "name": "stdout",
     "output_type": "stream",
     "text": [
      "3 X 1\n",
      "3 X 2\n",
      "3 X 3\n"
     ]
    }
   ],
   "source": [
    "data = [1,2,3]\n",
    "\n",
    "for i in data:\n",
    "    print( '3 X',i)"
   ]
  },
  {
   "cell_type": "markdown",
   "metadata": {},
   "source": [
    "### 147\n",
    "리스트에는 세 개의 숫자가 바인딩돼 있다.\n",
    "\n",
    "    리스트 = [1, 2, 3]\n",
    "\n",
    "for문을 사용해서 다음과 같이 출력하라.\n",
    "\n",
    "3 x 1 = 3\n",
    "\n",
    "3 x 2 = 6\n",
    "\n",
    "3 x 3 = 9"
   ]
  },
  {
   "cell_type": "code",
   "execution_count": 81,
   "metadata": {},
   "outputs": [
    {
     "name": "stdout",
     "output_type": "stream",
     "text": [
      "3 X 1 = 3\n",
      "3 X 2 = 6\n",
      "3 X 3 = 9\n"
     ]
    }
   ],
   "source": [
    "for i in range(1,4):\n",
    "    print(f'3 X {i} = { 3 * i }')\n"
   ]
  },
  {
   "cell_type": "markdown",
   "metadata": {},
   "source": [
    "### 148\n",
    "리스트에는 네 개의 문자열이 바인딩돼 있다.\n",
    "\n",
    "    리스트 = [\"가\", \"나\", \"다\", \"라\"]\n",
    "\n",
    "for문을 사용해서 다음과 같이 출력하라.\n",
    "\n",
    "나\n",
    "\n",
    "다\n",
    "\n",
    "라"
   ]
  },
  {
   "cell_type": "code",
   "execution_count": 86,
   "metadata": {},
   "outputs": [
    {
     "name": "stdout",
     "output_type": "stream",
     "text": [
      "나\n",
      "다\n",
      "라\n"
     ]
    }
   ],
   "source": [
    "data = [\"가\", \"나\", \"다\", \"라\"]\n",
    "\n",
    "for i in data[1:]:\n",
    "    print(i)"
   ]
  },
  {
   "cell_type": "markdown",
   "metadata": {},
   "source": [
    "### 149\n",
    "리스트에는 네 개의 문자열이 바인딩돼 있다.\n",
    "\n",
    "    리스트 = [\"가\", \"나\", \"다\", \"라\"]\n",
    "\n",
    "for문을 사용해서 다음과 같이 출력하라.\n",
    "\n",
    "가\n",
    "\n",
    "다"
   ]
  },
  {
   "cell_type": "code",
   "execution_count": 87,
   "metadata": {},
   "outputs": [
    {
     "name": "stdout",
     "output_type": "stream",
     "text": [
      "가\n",
      "다\n"
     ]
    }
   ],
   "source": [
    "data = [\"가\", \"나\", \"다\", \"라\"]\n",
    "\n",
    "for i in data[::2]:\n",
    "    print(i)"
   ]
  },
  {
   "cell_type": "markdown",
   "metadata": {},
   "source": [
    "### 150\n",
    "리스트에는 네 개의 문자열이 바인딩돼 있다.\n",
    "\n",
    "    리스트 = [\"가\", \"나\", \"다\", \"라\"]\n",
    "\n",
    "for문을 사용해서 다음과 같이 출력하라.\n",
    "\n",
    "라\n",
    "\n",
    "다\n",
    "\n",
    "나\n",
    "\n",
    "가"
   ]
  },
  {
   "cell_type": "code",
   "execution_count": 89,
   "metadata": {},
   "outputs": [
    {
     "name": "stdout",
     "output_type": "stream",
     "text": [
      "라\n",
      "다\n",
      "나\n",
      "가\n"
     ]
    }
   ],
   "source": [
    "data = [\"가\", \"나\", \"다\", \"라\"]\n",
    "\n",
    "for i in data[::-1]:\n",
    "    print(i)"
   ]
  }
 ],
 "metadata": {
  "kernelspec": {
   "display_name": "Python 3.10.9 ('base')",
   "language": "python",
   "name": "python3"
  },
  "language_info": {
   "codemirror_mode": {
    "name": "ipython",
    "version": 3
   },
   "file_extension": ".py",
   "mimetype": "text/x-python",
   "name": "python",
   "nbconvert_exporter": "python",
   "pygments_lexer": "ipython3",
   "version": "3.9.13"
  },
  "orig_nbformat": 4,
  "vscode": {
   "interpreter": {
    "hash": "57bc2b6ce032b5f0e93daa91901b7ea38a856826ef43aa9e95b6d3999f5310df"
   }
  }
 },
 "nbformat": 4,
 "nbformat_minor": 2
}
