{
 "cells": [
  {
   "cell_type": "markdown",
   "metadata": {},
   "source": [
    "&nbsp;\n",
    "\n",
    "# **<span style=\"color:blue\">09. 파이썬 함수</span>**\n",
    "\n",
    "- 함수란 자주 사용하는 코드에 대한 이름표입니다. 변수가 어떤 값을 바인딩하는 것처럼 함수는 어떤 코드를 바인딩합니다.\n",
    "\n",
    "&nbsp;\n"
   ]
  },
  {
   "cell_type": "markdown",
   "metadata": {},
   "source": [
    "### 201\n",
    "\"비트코인\" 문자열을 화면에 출력하는 print_coin() 함수를 정의하라."
   ]
  },
  {
   "cell_type": "code",
   "execution_count": 3,
   "metadata": {},
   "outputs": [],
   "source": [
    "def print_coin():\n",
    "    print('비트코인')"
   ]
  },
  {
   "cell_type": "markdown",
   "metadata": {},
   "source": [
    "### 202\n",
    "201번에서 정의한 함수를 호출하라."
   ]
  },
  {
   "cell_type": "code",
   "execution_count": 4,
   "metadata": {},
   "outputs": [
    {
     "name": "stdout",
     "output_type": "stream",
     "text": [
      "비트코인\n"
     ]
    }
   ],
   "source": [
    "print_coin()"
   ]
  },
  {
   "cell_type": "markdown",
   "metadata": {},
   "source": [
    "### 203\n",
    "201번에서 정의한 print_coin 함수를 100번호출하라."
   ]
  },
  {
   "cell_type": "code",
   "execution_count": null,
   "metadata": {},
   "outputs": [],
   "source": [
    "for i in range(100):\n",
    "    print_coin()\n",
    "\n",
    "# 비트코인 100번 출력됨"
   ]
  },
  {
   "cell_type": "markdown",
   "metadata": {},
   "source": [
    "### 204\n",
    "\"비트코인\" 문자열을 100번 화면에 출력하는 print_coins() 함수를 정의하라."
   ]
  },
  {
   "cell_type": "code",
   "execution_count": null,
   "metadata": {},
   "outputs": [],
   "source": [
    "def print_coin():\n",
    "    for i in range(100):\n",
    "        print('비트코인')\n",
    "\n",
    "print_coin()\n",
    "\n",
    "# 비트코인 100번 출력됨"
   ]
  },
  {
   "cell_type": "markdown",
   "metadata": {},
   "source": [
    "### 205\n",
    "아래의 에러가 발생하는 이유에 대해 설명하라.\n",
    "\n",
    "    hello()\n",
    "    def hello():\n",
    "        print(\"Hi\")\n",
    "\n",
    ">실행 예\n",
    "\n",
    "NameError: name 'hello' is not defined"
   ]
  },
  {
   "cell_type": "code",
   "execution_count": 33,
   "metadata": {},
   "outputs": [
    {
     "name": "stdout",
     "output_type": "stream",
     "text": [
      "Hi\n"
     ]
    }
   ],
   "source": [
    "# 아래쪽에서 함수를 호출해야한다\n",
    "\n",
    "def hello():\n",
    "    print(\"Hi\")\n",
    "\n",
    "hello()"
   ]
  },
  {
   "cell_type": "markdown",
   "metadata": {},
   "source": [
    "### 206\n",
    "아래 코드의 실행 결과를 예측하라.\n",
    "\n",
    "    def message() :\n",
    "        print(\"A\")\n",
    "        print(\"B\")\n",
    "\n",
    "    message()\n",
    "    print(\"C\")\n",
    "    message()"
   ]
  },
  {
   "cell_type": "code",
   "execution_count": 34,
   "metadata": {},
   "outputs": [
    {
     "name": "stdout",
     "output_type": "stream",
     "text": [
      "A\n",
      "B\n",
      "C\n",
      "A\n",
      "B\n"
     ]
    }
   ],
   "source": [
    "# \"A\"\n",
    "# \"B\"\n",
    "# \"C\"\n",
    "# \"A\"\n",
    "# \"B\"\n",
    "\n",
    "def message() :\n",
    "    print(\"A\")\n",
    "    print(\"B\")\n",
    "\n",
    "message()\n",
    "print(\"C\")\n",
    "message()"
   ]
  },
  {
   "cell_type": "markdown",
   "metadata": {},
   "source": [
    "### 207\n",
    "아래 코드의 실행 결과를 예측하라. (읽기 어려운 코드의 예입니다.)\n",
    "\n",
    "    print(\"A\")\n",
    "\n",
    "    def message() :\n",
    "        print(\"B\")\n",
    "\n",
    "    print(\"C\")\n",
    "    message()"
   ]
  },
  {
   "cell_type": "code",
   "execution_count": 17,
   "metadata": {},
   "outputs": [
    {
     "name": "stdout",
     "output_type": "stream",
     "text": [
      "A\n",
      "C\n",
      "B\n"
     ]
    }
   ],
   "source": [
    "# 'A'\n",
    "# 'C'\n",
    "# 'B'\n",
    "\n",
    "print(\"A\")\n",
    "\n",
    "def message() :\n",
    "    print(\"B\")\n",
    "\n",
    "print(\"C\")\n",
    "message()"
   ]
  },
  {
   "cell_type": "markdown",
   "metadata": {},
   "source": [
    "### 208\n",
    "아래 코드의 실행 결과를 예측하라. (읽기 어려운 코드의 예입니다.)\n",
    "\n",
    "    print(\"A\")\n",
    "\n",
    "    def message1() :\n",
    "        print(\"B\")\n",
    "    \n",
    "    print(\"C\")\n",
    "    \n",
    "    def message2() :\n",
    "        print(\"D\")\n",
    "\n",
    "    message1()\n",
    "    print(\"E\")\n",
    "    message2()"
   ]
  },
  {
   "cell_type": "code",
   "execution_count": 32,
   "metadata": {},
   "outputs": [
    {
     "name": "stdout",
     "output_type": "stream",
     "text": [
      "A\n",
      "C\n",
      "B\n",
      "E\n",
      "D\n"
     ]
    }
   ],
   "source": [
    "# 'A'\n",
    "# 'C'\n",
    "# 'B'\n",
    "# 'E'\n",
    "# 'D'\n",
    "\n",
    "print(\"A\")\n",
    "\n",
    "def message1() :\n",
    "    print(\"B\")\n",
    "\n",
    "print(\"C\")\n",
    "\n",
    "def message2() :\n",
    "    print(\"D\")\n",
    "\n",
    "message1()\n",
    "print(\"E\")\n",
    "message2()"
   ]
  },
  {
   "cell_type": "markdown",
   "metadata": {},
   "source": [
    "### 209\n",
    "아래 코드의 실행 결과를 예측하라.\n",
    "\n",
    "    def message1():\n",
    "        print(\"A\")\n",
    "\n",
    "    def message2():\n",
    "        print(\"B\")\n",
    "        message1()\n",
    "\n",
    "    message2()"
   ]
  },
  {
   "cell_type": "code",
   "execution_count": 28,
   "metadata": {},
   "outputs": [
    {
     "name": "stdout",
     "output_type": "stream",
     "text": [
      "B\n",
      "A\n"
     ]
    }
   ],
   "source": [
    "# 'B'\n",
    "# 'A'\n",
    "\n",
    "def message1():\n",
    "    print(\"A\")\n",
    "\n",
    "def message2():\n",
    "    print(\"B\")\n",
    "    message1()\n",
    "\n",
    "message2()"
   ]
  },
  {
   "cell_type": "markdown",
   "metadata": {},
   "source": [
    "### 210\n",
    "아래 코드의 실행 결과를 예측하라.\n",
    "\n",
    "    def message1():\n",
    "        print(\"A\")\n",
    "\n",
    "    def message2():\n",
    "        print(\"B\")\n",
    "\n",
    "    def message3():\n",
    "        for i in range (3) :\n",
    "            message2()\n",
    "            print(\"C\")\n",
    "        message1()\n",
    "\n",
    "    message3()"
   ]
  },
  {
   "cell_type": "code",
   "execution_count": 35,
   "metadata": {},
   "outputs": [
    {
     "name": "stdout",
     "output_type": "stream",
     "text": [
      "B\n",
      "C\n",
      "B\n",
      "C\n",
      "B\n",
      "C\n",
      "A\n"
     ]
    }
   ],
   "source": [
    "# 'B'\n",
    "# 'C'\n",
    "# 'B'\n",
    "# 'C'\n",
    "# 'B'\n",
    "# 'C'\n",
    "# 'A'\n",
    "\n",
    "def message1():\n",
    "    print(\"A\")\n",
    "\n",
    "def message2():\n",
    "    print(\"B\")\n",
    "\n",
    "def message3():\n",
    "    for i in range (3) :\n",
    "        message2()\n",
    "        print(\"C\")\n",
    "    message1()\n",
    "\n",
    "message3()"
   ]
  },
  {
   "cell_type": "markdown",
   "metadata": {},
   "source": [
    "### 211\n",
    "함수의 호출 결과를 예측하라.\n",
    "\n",
    "    def 함수(문자열) :\n",
    "        print(문자열)\n",
    "\n",
    "    함수(\"안녕\")\n",
    "    함수(\"Hi\")"
   ]
  },
  {
   "cell_type": "code",
   "execution_count": 36,
   "metadata": {},
   "outputs": [
    {
     "name": "stdout",
     "output_type": "stream",
     "text": [
      "안녕\n",
      "Hi\n"
     ]
    }
   ],
   "source": [
    "# 안녕\n",
    "# Hi\n",
    "\n",
    "def 함수(문자열) :       \n",
    "    # 함수(문자열) 에서 문자열은 파라메타이고 변수명이다\n",
    "    # 후에 호출될때 인자값이 대입된다\n",
    "    print(문자열)\n",
    "    # 출력문 안에 문자열 은 상단에 정의한 파라메타이고 변수명\n",
    "    # 후에 호출된 인자값이 출력이 된다        \n",
    "\n",
    "함수(\"안녕\")            \n",
    "# 함수(\"안녕\") 에서 '안녕'은 인자이고\n",
    "# 상단에 정의한 문자열에 들어가서 출력되게 된다\n",
    "함수(\"Hi\")"
   ]
  },
  {
   "cell_type": "markdown",
   "metadata": {},
   "source": [
    "### 212\n",
    "함수의 호출 결과를 예측하라.\n",
    "\n",
    "    def 함수(a, b) :\n",
    "        print(a + b)\n",
    "\n",
    "    함수(3, 4)\n",
    "    함수(7, 8)"
   ]
  },
  {
   "cell_type": "code",
   "execution_count": 52,
   "metadata": {},
   "outputs": [
    {
     "name": "stdout",
     "output_type": "stream",
     "text": [
      "7\n",
      "15\n"
     ]
    }
   ],
   "source": [
    "# 7\n",
    "# 15\n",
    "\n",
    "def 함수(a, b):\n",
    "    print(a + b)\n",
    "    # 하단에서 대입된 함수의 인자값이 계산된후 출력후 종료\n",
    "\n",
    "함수(3,4)\n",
    "함수(7,8)"
   ]
  },
  {
   "cell_type": "markdown",
   "metadata": {},
   "source": [
    "### 213\n",
    "아래와 같은 에러가 발생하는 원인을 설명하라.\n",
    "\n",
    "    def 함수(문자열) :\n",
    "        print(문자열)\n",
    "    \n",
    "    함수()\n",
    "    TypeError: 함수() missing 1 required positional argument: '문자열'"
   ]
  },
  {
   "cell_type": "code",
   "execution_count": 53,
   "metadata": {},
   "outputs": [
    {
     "ename": "TypeError",
     "evalue": "함수() missing 1 required positional argument: '문자열'",
     "output_type": "error",
     "traceback": [
      "\u001b[1;31m---------------------------------------------------------------------------\u001b[0m",
      "\u001b[1;31mTypeError\u001b[0m                                 Traceback (most recent call last)",
      "\u001b[1;32m~\\AppData\\Local\\Temp\\ipykernel_26880\\1052910503.py\u001b[0m in \u001b[0;36m<module>\u001b[1;34m\u001b[0m\n\u001b[0;32m      4\u001b[0m     \u001b[0mprint\u001b[0m\u001b[1;33m(\u001b[0m\u001b[0m문자열\u001b[0m\u001b[1;33m)\u001b[0m\u001b[1;33m\u001b[0m\u001b[1;33m\u001b[0m\u001b[0m\n\u001b[0;32m      5\u001b[0m \u001b[1;33m\u001b[0m\u001b[0m\n\u001b[1;32m----> 6\u001b[1;33m \u001b[0m함수\u001b[0m\u001b[1;33m(\u001b[0m\u001b[1;33m)\u001b[0m\u001b[1;33m\u001b[0m\u001b[1;33m\u001b[0m\u001b[0m\n\u001b[0m",
      "\u001b[1;31mTypeError\u001b[0m: 함수() missing 1 required positional argument: '문자열'"
     ]
    }
   ],
   "source": [
    "# 함수(문자열) 에서 하단에서 입력된 인자값이 없어서 에러\n",
    "\n",
    "def 함수(문자열) :\n",
    "    print(문자열)\n",
    "\n",
    "함수()"
   ]
  },
  {
   "cell_type": "markdown",
   "metadata": {},
   "source": [
    "### 214\n",
    "아래와 같은 에러가 발생하는 원인을 설명하라.\n",
    "\n",
    "    def 함수(a, b) :\n",
    "        print(a + b)\n",
    "\n",
    "    함수(\"안녕\", 3)\n",
    "\n",
    "TypeError: must be str, not int"
   ]
  },
  {
   "cell_type": "code",
   "execution_count": 55,
   "metadata": {},
   "outputs": [
    {
     "ename": "TypeError",
     "evalue": "can only concatenate str (not \"int\") to str",
     "output_type": "error",
     "traceback": [
      "\u001b[1;31m---------------------------------------------------------------------------\u001b[0m",
      "\u001b[1;31mTypeError\u001b[0m                                 Traceback (most recent call last)",
      "\u001b[1;32m~\\AppData\\Local\\Temp\\ipykernel_26880\\3988222722.py\u001b[0m in \u001b[0;36m<module>\u001b[1;34m\u001b[0m\n\u001b[0;32m      5\u001b[0m     \u001b[0mprint\u001b[0m\u001b[1;33m(\u001b[0m\u001b[0ma\u001b[0m \u001b[1;33m+\u001b[0m \u001b[0mb\u001b[0m\u001b[1;33m)\u001b[0m\u001b[1;33m\u001b[0m\u001b[1;33m\u001b[0m\u001b[0m\n\u001b[0;32m      6\u001b[0m \u001b[1;33m\u001b[0m\u001b[0m\n\u001b[1;32m----> 7\u001b[1;33m \u001b[0m함수\u001b[0m\u001b[1;33m(\u001b[0m\u001b[1;34m\"안녕\"\u001b[0m\u001b[1;33m,\u001b[0m \u001b[1;36m3\u001b[0m\u001b[1;33m)\u001b[0m\u001b[1;33m\u001b[0m\u001b[1;33m\u001b[0m\u001b[0m\n\u001b[0m",
      "\u001b[1;32m~\\AppData\\Local\\Temp\\ipykernel_26880\\3988222722.py\u001b[0m in \u001b[0;36m함수\u001b[1;34m(a, b)\u001b[0m\n\u001b[0;32m      3\u001b[0m \u001b[1;33m\u001b[0m\u001b[0m\n\u001b[0;32m      4\u001b[0m \u001b[1;32mdef\u001b[0m \u001b[0m함수\u001b[0m\u001b[1;33m(\u001b[0m\u001b[0ma\u001b[0m\u001b[1;33m,\u001b[0m \u001b[0mb\u001b[0m\u001b[1;33m)\u001b[0m \u001b[1;33m:\u001b[0m\u001b[1;33m\u001b[0m\u001b[1;33m\u001b[0m\u001b[0m\n\u001b[1;32m----> 5\u001b[1;33m     \u001b[0mprint\u001b[0m\u001b[1;33m(\u001b[0m\u001b[0ma\u001b[0m \u001b[1;33m+\u001b[0m \u001b[0mb\u001b[0m\u001b[1;33m)\u001b[0m\u001b[1;33m\u001b[0m\u001b[1;33m\u001b[0m\u001b[0m\n\u001b[0m\u001b[0;32m      6\u001b[0m \u001b[1;33m\u001b[0m\u001b[0m\n\u001b[0;32m      7\u001b[0m \u001b[0m함수\u001b[0m\u001b[1;33m(\u001b[0m\u001b[1;34m\"안녕\"\u001b[0m\u001b[1;33m,\u001b[0m \u001b[1;36m3\u001b[0m\u001b[1;33m)\u001b[0m\u001b[1;33m\u001b[0m\u001b[1;33m\u001b[0m\u001b[0m\n",
      "\u001b[1;31mTypeError\u001b[0m: can only concatenate str (not \"int\") to str"
     ]
    }
   ],
   "source": [
    "# 하단에 입력된 인자값이 문자형과 숫자형이라 계산이 불가능\n",
    "# 함수('안녕','3') 이렇게 넣어주면 정상 출력\n",
    "\n",
    "def 함수(a, b) :\n",
    "    print(a + b)\n",
    "\n",
    "함수(\"안녕\", 3)"
   ]
  },
  {
   "cell_type": "markdown",
   "metadata": {},
   "source": [
    "### 215\n",
    "하나의 문자를 입력받아 문자열 끝에 \":D\" 스마일 문자열을 이어 붙여 출력하는 print_with_smile 함수를 정의하라."
   ]
  },
  {
   "cell_type": "code",
   "execution_count": 57,
   "metadata": {},
   "outputs": [],
   "source": [
    "def print_with_smile(a):\n",
    "    print(a +':D')\n",
    "\n",
    "# 함수를 정의만 했기 때문에 별도로 출력되지 않는다"
   ]
  },
  {
   "cell_type": "markdown",
   "metadata": {},
   "source": [
    "### 216\n",
    "215에서 정의한 함수를 호출하라. 파라미터는 \"안녕하세요\"로 입력하라."
   ]
  },
  {
   "cell_type": "code",
   "execution_count": 40,
   "metadata": {},
   "outputs": [
    {
     "name": "stdout",
     "output_type": "stream",
     "text": [
      "안녕하세요 :D\n"
     ]
    }
   ],
   "source": [
    "print_with_smile('안녕하세요')"
   ]
  },
  {
   "cell_type": "markdown",
   "metadata": {},
   "source": [
    "### 217\n",
    "현재 가격을 입력 받아 상한가 (30%)를 출력하는 print_upper_price 함수를 정의하라."
   ]
  },
  {
   "cell_type": "code",
   "execution_count": 67,
   "metadata": {},
   "outputs": [
    {
     "name": "stdout",
     "output_type": "stream",
     "text": [
      "상한가 : 65,000.0 원\n",
      "상한가 : 39,000.0 원\n"
     ]
    }
   ],
   "source": [
    "def print_upper_price(a):\n",
    "    print(f'상한가 : {a * 1.3:,} 원')\n",
    "\n",
    "print_upper_price(50000)\n",
    "print_upper_price(30000)"
   ]
  },
  {
   "cell_type": "markdown",
   "metadata": {},
   "source": [
    "### 218\n",
    "두 개의 숫자를 입력받아 두 수의 합을 출력하는 print_sum 함수를 정의하라."
   ]
  },
  {
   "cell_type": "code",
   "execution_count": 45,
   "metadata": {},
   "outputs": [
    {
     "name": "stdout",
     "output_type": "stream",
     "text": [
      "8\n"
     ]
    }
   ],
   "source": [
    "def print_sum(a,b):\n",
    "    print(a + b)\n",
    "\n",
    "print_sum(5,3)"
   ]
  },
  {
   "cell_type": "markdown",
   "metadata": {},
   "source": [
    "### 219\n",
    "두 개의 숫자를 입력받아 합/차/곱/나눗셈을 출력하는 print_arithmetic_operation 함수를 작성하라.\n",
    "\n",
    "    print_arithmetic_operation(3, 4)\n",
    "\n",
    "    3 + 4 = 7\n",
    "    3 - 4 = -1\n",
    "    3 * 4 = 12\n",
    "    3 / 4 = 0.75"
   ]
  },
  {
   "cell_type": "code",
   "execution_count": 47,
   "metadata": {},
   "outputs": [
    {
     "name": "stdout",
     "output_type": "stream",
     "text": [
      "3 + 4 = 7\n",
      "3 - 4 = -1\n",
      "3 x 4 = 12\n",
      "3 ÷ 4 = 0.75\n"
     ]
    }
   ],
   "source": [
    "def print_arithmetic_operation(a,b):\n",
    "    print(f'{a} + {b} = {a + b}')\n",
    "    print(f'{a} - {b} = {a - b}')\n",
    "    print(f'{a} x {b} = {a * b}')\n",
    "    print(f'{a} ÷ {b} = {a / b}')\n",
    "\n",
    "print_arithmetic_operation(3,4)"
   ]
  },
  {
   "cell_type": "markdown",
   "metadata": {},
   "source": [
    "### 220\n",
    "세 개의 숫자를 입력받아 가장 큰수를 출력하는 print_max 함수를 정의하라. 단 if 문을 사용해서 수를 비교하라."
   ]
  },
  {
   "cell_type": "code",
   "execution_count": 70,
   "metadata": {},
   "outputs": [
    {
     "name": "stdout",
     "output_type": "stream",
     "text": [
      "9\n",
      "7\n",
      "20\n"
     ]
    }
   ],
   "source": [
    "def print_max(a,b,c):\n",
    "    if a > b and a > c:\n",
    "        print(a)\n",
    "    elif c > b and a < c:\n",
    "        print(c)\n",
    "    else:\n",
    "        print(b)\n",
    "\n",
    "print_max(2,5,9)\n",
    "print_max(5,7,2)\n",
    "print_max(20,7,2)"
   ]
  },
  {
   "cell_type": "markdown",
   "metadata": {},
   "source": [
    "### 221\n",
    "입력된 문자열을 역순으로 출력하는 print_reverse 함수를 정의하라.\n",
    "\n",
    "    print_reverse(\"python\")\n",
    "\n",
    "nohtyp"
   ]
  },
  {
   "cell_type": "code",
   "execution_count": 77,
   "metadata": {},
   "outputs": [
    {
     "name": "stdout",
     "output_type": "stream",
     "text": [
      "nohtyp\n"
     ]
    }
   ],
   "source": [
    "def print_reverse(a):\n",
    "    print(a[::-1])\n",
    "\n",
    "print_reverse('python')"
   ]
  },
  {
   "cell_type": "markdown",
   "metadata": {},
   "source": [
    "### 222\n",
    "성적 리스트를 입력 받아 평균을 출력하는 print_score 함수를 정의하라.\n",
    "\n",
    "    print_score ([1, 2, 3])\n",
    "\n",
    "2.0"
   ]
  },
  {
   "cell_type": "code",
   "execution_count": 78,
   "metadata": {},
   "outputs": [
    {
     "name": "stdout",
     "output_type": "stream",
     "text": [
      "2.0\n"
     ]
    }
   ],
   "source": [
    "def print_score(a):\n",
    "    i = sum(a) / len(a)\n",
    "    print(i)\n",
    "\n",
    "print_score([1,2,3])"
   ]
  },
  {
   "cell_type": "markdown",
   "metadata": {},
   "source": [
    "### 223\n",
    "하나의 리스트를 입력받아 짝수만 화면에 출력하는 print_even 함수를 정의하라.\n",
    "\n",
    "    print_even ([1, 3, 2, 10, 12, 11, 15])\n",
    "\n",
    "2\n",
    "\n",
    "10\n",
    "\n",
    "12"
   ]
  },
  {
   "cell_type": "code",
   "execution_count": 84,
   "metadata": {},
   "outputs": [
    {
     "name": "stdout",
     "output_type": "stream",
     "text": [
      "2\n",
      "10\n",
      "12\n"
     ]
    }
   ],
   "source": [
    "def print_even(a):\n",
    "    for i in a:\n",
    "        if i % 2 == 0:\n",
    "            print(i)\n",
    "\n",
    "print_even([1,3,2,10,12,11,15])   "
   ]
  },
  {
   "cell_type": "markdown",
   "metadata": {},
   "source": [
    "### 224\n",
    "하나의 딕셔너리를 입력받아 딕셔너리의 key 값을 화면에 출력하는 print_keys 함수를 정의하라.\n",
    "\n",
    "    print_keys ({\"이름\":\"김말똥\", \"나이\":30, \"성별\":0})\n",
    "\n",
    "이름\n",
    "\n",
    "나이\n",
    "\n",
    "성별"
   ]
  },
  {
   "cell_type": "code",
   "execution_count": 90,
   "metadata": {},
   "outputs": [
    {
     "name": "stdout",
     "output_type": "stream",
     "text": [
      "이름\n",
      "나이\n",
      "성별\n"
     ]
    }
   ],
   "source": [
    "def print_keys(a):\n",
    "    keys = a.keys()\n",
    "    for k in keys:\n",
    "        print(k)\n",
    "\n",
    "print_keys ({\"이름\":\"김말똥\", \"나이\":30, \"성별\":0})"
   ]
  },
  {
   "cell_type": "markdown",
   "metadata": {},
   "source": [
    "### 225\n",
    "my_dict에는 날짜를 키값으로 OHLC가 리스트로 저장돼 있다.\n",
    "\n",
    "    my_dict = {\"10/26\" : [100, 130, 100, 100],\n",
    "               \"10/27\" : [10, 12, 10, 11]}\n",
    "\n",
    "my_dict와 날짜 키값을 입력받아 OHLC 리스트를 출력하는 print_value_by_key 함수를 정의하라.\n",
    "\n",
    "    print_value_by_key  (my_dict, \"10/26\")\n",
    "    \n",
    "[100, 130, 100, 100]"
   ]
  },
  {
   "cell_type": "code",
   "execution_count": 92,
   "metadata": {},
   "outputs": [
    {
     "name": "stdout",
     "output_type": "stream",
     "text": [
      "[100, 130, 100, 100]\n",
      "[10, 12, 10, 11]\n"
     ]
    }
   ],
   "source": [
    "my_dict = {\"10/26\" : [100, 130, 100, 100],\n",
    "           \"10/27\" : [10, 12, 10, 11]}\n",
    "\n",
    "def print_value_by_key(a,b):    \n",
    "    # 딕셔너리 my_dict 와 key값을 a,b에 대입\n",
    "    print(a[b])\n",
    "    # 대입된 딕셔너리에서 key값을 호출해서 value값 출력\n",
    "\n",
    "print_value_by_key(my_dict, \"10/26\")\n",
    "print_value_by_key(my_dict, \"10/27\")"
   ]
  },
  {
   "cell_type": "markdown",
   "metadata": {},
   "source": [
    "### 226\n",
    "입력 문자열을 한 줄에 다섯글자씩 출력하는 print_5xn(string) 함수를 작성하라.\n",
    "\n",
    "    print_5xn(\"아이엠어보이유알어걸\")\n",
    "\n",
    "아이엠어보\n",
    "\n",
    "이유알어걸"
   ]
  },
  {
   "cell_type": "code",
   "execution_count": 107,
   "metadata": {},
   "outputs": [
    {
     "name": "stdout",
     "output_type": "stream",
     "text": [
      "아이엠어보\n",
      "이유알어걸\n",
      "\n",
      "아이엠어보\n",
      "이유알어걸\n",
      "디스이즈마\n",
      "이도그\n",
      "\n",
      "아이엠\n",
      "\n"
     ]
    }
   ],
   "source": [
    "def print_5xn(a):\n",
    "    i = len(a) / 5          # 2.0\n",
    "    # 대입된 문자열의 길이 / 5 를한 값\n",
    "\n",
    "    j = int(i + 0.9)        # 2.9 => 2 \n",
    "    # i값에 + 0.9를 더해서 정수형으로\n",
    "    \n",
    "    for x in range(j) :     \n",
    "        print(a[x * 5 : x * 5 + 5])\n",
    "    print('')\n",
    "\n",
    "print_5xn(\"아이엠어보이유알어걸\")\n",
    "print_5xn(\"아이엠어보이유알어걸디스이즈마이도그\")\n",
    "print_5xn(\"아이엠\")"
   ]
  },
  {
   "cell_type": "markdown",
   "metadata": {},
   "source": [
    "### 227\n",
    "문자열과 한줄에 출력될 글자 수를 입력을 받아 한 줄에 입력된 글자 수만큼 출력하는 print_mxn(string) 함수를 작성하라.\n",
    "\n",
    "    print_mxn(\"아이엠어보이유알어걸\", 3)\n",
    "\n",
    "아이엠\n",
    "\n",
    "어보이\n",
    "\n",
    "유알어\n",
    "\n",
    "걸"
   ]
  },
  {
   "cell_type": "code",
   "execution_count": 120,
   "metadata": {},
   "outputs": [
    {
     "name": "stdout",
     "output_type": "stream",
     "text": [
      "아이\n",
      "엠어\n",
      "보이\n",
      "유알\n",
      "어걸\n"
     ]
    }
   ],
   "source": [
    "import math\n",
    "\n",
    "def print_mxn(a,b):\n",
    "    # 문자열, 수사를 대입\n",
    "    i = len(a) / b\n",
    "    # 문자열의 길이 10 / 2 = 5.0\n",
    "    j = math.ceil(i)\n",
    "    # 5.0 을 반올림해서 5\n",
    "    # math.ceil = 나머지 값이 있으면 반올림 해준다\n",
    "    \n",
    "    for y in range(j):\n",
    "        # 5번 반복      \n",
    "        print( a[ y * b : y * b + b])\n",
    "        # 문자열 [ 0 (0*2): 2(0*2+2) ]\n",
    "        # 문자열 [ 2 (1*2): 4(1*2+2) ]\n",
    "        # 문자열 [ 4 (2*2): 6(2*2+2) ]\n",
    "        # 문자열 [ 6 : 8  ]\n",
    "        # 문자열 [ 8 : 10 ] ...\n",
    "\n",
    "print_mxn(\"아이엠어보이유알어걸\", 2)"
   ]
  },
  {
   "cell_type": "markdown",
   "metadata": {},
   "source": [
    "### 228\n",
    "연봉을 입력받아 월급을 계산하는 calc_monthly_salary(annual_salary) 함수를 정의하라. 회사는 연봉을 12개월로 나누어 분할 지급하며, 이 때 1원 미만은 버림한다.\n",
    "\n",
    "    calc_monthly_salary(12000000)\n",
    "\n",
    "1000000"
   ]
  },
  {
   "cell_type": "code",
   "execution_count": 118,
   "metadata": {},
   "outputs": [
    {
     "name": "stdout",
     "output_type": "stream",
     "text": [
      "월급 : 2,916,666원\n"
     ]
    }
   ],
   "source": [
    "def calc_monthly_salary(a):\n",
    "    i = int(a / 12)\n",
    "    print(f'월급 : {i:,}원')\n",
    "\n",
    "calc_monthly_salary(35000000)"
   ]
  },
  {
   "cell_type": "markdown",
   "metadata": {},
   "source": [
    "### 229\n",
    "아래 코드의 실행 결과를 예측하라.\n",
    "\n",
    "    def my_print (a, b) :\n",
    "        print(\"왼쪽:\", a)\n",
    "        print(\"오른쪽:\", b)\n",
    "\n",
    "    my_print(a=100, b=200)"
   ]
  },
  {
   "cell_type": "code",
   "execution_count": 121,
   "metadata": {},
   "outputs": [
    {
     "name": "stdout",
     "output_type": "stream",
     "text": [
      "왼쪽: 100\n",
      "오른쪽: 200\n"
     ]
    }
   ],
   "source": [
    "# '왼쪽: 100'\n",
    "# '오른쪽: 200'\n",
    "\n",
    "def my_print (a, b) :\n",
    "    print(\"왼쪽:\", a)\n",
    "    print(\"오른쪽:\", b)\n",
    "\n",
    "my_print(a=100, b=200)\n",
    "# 함수안에 파라메타(변수)값의 이름을 지정하고 값을 넣어주면\n",
    "# 해당 변수에 각각 인자값이 들어간다"
   ]
  },
  {
   "cell_type": "markdown",
   "metadata": {},
   "source": [
    "### 230\n",
    "아래 코드의 실행 결과를 예측하라.\n",
    "\n",
    "    def my_print (a, b) :\n",
    "        print(\"왼쪽:\", a)\n",
    "        print(\"오른쪽:\", b)\n",
    "\n",
    "    my_print(b=100, a=200)"
   ]
  },
  {
   "cell_type": "code",
   "execution_count": 123,
   "metadata": {},
   "outputs": [
    {
     "name": "stdout",
     "output_type": "stream",
     "text": [
      "왼쪽: 200\n",
      "오른쪽: 100\n"
     ]
    }
   ],
   "source": [
    "# '왼쪽: 200'\n",
    "# '오른쪽: 100'\n",
    "\n",
    "def my_print (a, b) :\n",
    "    print(\"왼쪽:\", a)\n",
    "    print(\"오른쪽:\", b)\n",
    "\n",
    "my_print(b=100, a=200)\n",
    "# 순서와는 상관없이 파라메터 값의 이름에 각각 \n",
    "# 인자 값을 넣어줄수 있다"
   ]
  },
  {
   "cell_type": "markdown",
   "metadata": {},
   "source": [
    "\n",
    "### 231\n",
    "아래 코드를 실행한 결과를 예상하라.\n",
    "\n",
    "    def n_plus_1 (n) :\n",
    "        result = n + 1\n",
    "\n",
    "    n_plus_1(3)\n",
    "    print (result)"
   ]
  },
  {
   "cell_type": "code",
   "execution_count": 125,
   "metadata": {},
   "outputs": [
    {
     "ename": "NameError",
     "evalue": "name 'result' is not defined",
     "output_type": "error",
     "traceback": [
      "\u001b[1;31m---------------------------------------------------------------------------\u001b[0m",
      "\u001b[1;31mNameError\u001b[0m                                 Traceback (most recent call last)",
      "\u001b[1;32m~\\AppData\\Local\\Temp\\ipykernel_26880\\1971359182.py\u001b[0m in \u001b[0;36m<module>\u001b[1;34m\u001b[0m\n\u001b[0;32m      5\u001b[0m \u001b[1;33m\u001b[0m\u001b[0m\n\u001b[0;32m      6\u001b[0m \u001b[0mn_plus_1\u001b[0m\u001b[1;33m(\u001b[0m\u001b[1;36m3\u001b[0m\u001b[1;33m)\u001b[0m\u001b[1;33m\u001b[0m\u001b[1;33m\u001b[0m\u001b[0m\n\u001b[1;32m----> 7\u001b[1;33m \u001b[0mprint\u001b[0m\u001b[1;33m(\u001b[0m\u001b[0mresult\u001b[0m\u001b[1;33m)\u001b[0m\u001b[1;33m\u001b[0m\u001b[1;33m\u001b[0m\u001b[0m\n\u001b[0m",
      "\u001b[1;31mNameError\u001b[0m: name 'result' is not defined"
     ]
    }
   ],
   "source": [
    "# 출력 오류\n",
    "# 함수안에 변수값을 밖에서 사용할수 없다\n",
    "\n",
    "def n_plus_1 (n) :\n",
    "    result = n + 1      # result = 4\n",
    "    # 함수 종료하면서 result 삭제\n",
    "\n",
    "n_plus_1(3)\n",
    "print(result)"
   ]
  },
  {
   "cell_type": "markdown",
   "metadata": {},
   "source": [
    "### 232\n",
    "문자열 하나를 입력받아 인터넷 주소를 반환하는 make_url 함수를 정의하라.\n",
    "\n",
    "    make_url(\"naver\")\n",
    "\n",
    "www.naver.com"
   ]
  },
  {
   "cell_type": "code",
   "execution_count": 140,
   "metadata": {},
   "outputs": [
    {
     "name": "stdout",
     "output_type": "stream",
     "text": [
      "www.naver.com\n"
     ]
    }
   ],
   "source": [
    "def make_url(a):\n",
    "    domain = 'www.'+ a + '.com'\n",
    "    return domain\n",
    "\n",
    "url = make_url(\"naver\")\n",
    "# url = domain(함수 호출에서 반환된 변수에 저장)\n",
    "# return 값을 받을 변수가 꼭 필요\n",
    "\n",
    "print(url)      # 저장된 변수값 출력                    "
   ]
  },
  {
   "cell_type": "markdown",
   "metadata": {},
   "source": [
    "### 233\n",
    "문자열을 입력받아 각 문자들로 구성된 리스트로 반환하는 make_list 함수를 정의하라.\n",
    "\n",
    "    make_list(\"abcd\")\n",
    "\n",
    "['a', 'b', 'c', 'd']"
   ]
  },
  {
   "cell_type": "code",
   "execution_count": 141,
   "metadata": {},
   "outputs": [
    {
     "data": {
      "text/plain": [
       "['a', 'b', 'c', 'd']"
      ]
     },
     "execution_count": 141,
     "metadata": {},
     "output_type": "execute_result"
    }
   ],
   "source": [
    "def make_list(a):\n",
    "    i = []\n",
    "    for j in a:\n",
    "        i.append(j)\n",
    "    return i\n",
    "\n",
    "data = make_list(\"abcd\")\n",
    "data"
   ]
  },
  {
   "cell_type": "markdown",
   "metadata": {},
   "source": [
    "### 234\n",
    "숫자로 구성된 하나의 리스트를 입력받아, 짝수들을 추출하여 리스트로 반환하는 pickup_even 함수를 구현하라.\n",
    "\n",
    "    pickup_even([3, 4, 5, 6, 7, 8])\n",
    "\n",
    "[4, 6, 8]"
   ]
  },
  {
   "cell_type": "code",
   "execution_count": 142,
   "metadata": {},
   "outputs": [
    {
     "data": {
      "text/plain": [
       "[4, 6, 8]"
      ]
     },
     "execution_count": 142,
     "metadata": {},
     "output_type": "execute_result"
    }
   ],
   "source": [
    "def pickup_even(a):\n",
    "    i = []\n",
    "    for j in a:\n",
    "        if j % 2 == 0:\n",
    "            i.append(j)\n",
    "    return i\n",
    "    \n",
    "data = pickup_even([3, 4, 5, 6, 7, 8])\n",
    "data"
   ]
  },
  {
   "cell_type": "markdown",
   "metadata": {},
   "source": [
    "### 235\n",
    "콤마가 포함된 문자열 숫자를 입력받아 정수로 변환하는 convert_int 함수를 정의하라.\n",
    "\n",
    "    convert_int(\"1,234,567\")\n",
    "\n",
    "1234567"
   ]
  },
  {
   "cell_type": "code",
   "execution_count": 143,
   "metadata": {},
   "outputs": [
    {
     "data": {
      "text/plain": [
       "1234567"
      ]
     },
     "execution_count": 143,
     "metadata": {},
     "output_type": "execute_result"
    }
   ],
   "source": [
    "def convert_int(a):\n",
    "    i = a.replace(',','')\n",
    "    return int(i)\n",
    "\n",
    "data = convert_int(\"1,234,567\")\n",
    "data"
   ]
  },
  {
   "cell_type": "markdown",
   "metadata": {},
   "source": [
    "### 236\n",
    "아래 코드의 실행 결과를 예측하라.\n",
    "\n",
    "    def 함수(num) :\n",
    "        return num + 4\n",
    "\n",
    "    a = 함수(10)\n",
    "    b = 함수(a)\n",
    "    c = 함수(b)\n",
    "    print(c)"
   ]
  },
  {
   "cell_type": "code",
   "execution_count": 144,
   "metadata": {},
   "outputs": [
    {
     "name": "stdout",
     "output_type": "stream",
     "text": [
      "22\n"
     ]
    }
   ],
   "source": [
    "def 함수(num) :\n",
    "    return num + 4\n",
    "\n",
    "a = 함수(10)    # 반환값 14 변수 a에 대입\n",
    "b = 함수(a)     # 반환값 18 변수 b에 대입\n",
    "c = 함수(b)     # 반환값 22 변수 c에 대입\n",
    "\n",
    "print(c)        # 변수값 22 출력"
   ]
  },
  {
   "cell_type": "markdown",
   "metadata": {},
   "source": [
    "### 237\n",
    "아래 코드의 실행 결과를 예측하라.\n",
    "\n",
    "    def 함수(num) :\n",
    "        return num + 4\n",
    "\n",
    "    c = 함수(함수(함수(10)))\n",
    "    print(c)"
   ]
  },
  {
   "cell_type": "code",
   "execution_count": 145,
   "metadata": {},
   "outputs": [
    {
     "name": "stdout",
     "output_type": "stream",
     "text": [
      "22\n"
     ]
    }
   ],
   "source": [
    "def 함수(num) :\n",
    "    return num + 4\n",
    "\n",
    "c = 함수(함수(함수(10)))    \n",
    "# c = 22(18(14))\n",
    "\n",
    "print(c)"
   ]
  },
  {
   "cell_type": "markdown",
   "metadata": {},
   "source": [
    "### 238\n",
    "아래 코드의 실행 결과를 예측하라.\n",
    "\n",
    "    def 함수1(num) :\n",
    "        return num + 4\n",
    "\n",
    "    def 함수2(num) :\n",
    "        return num * 10\n",
    "\n",
    "    a = 함수1(10)\n",
    "    c = 함수2(a)\n",
    "    print(c)"
   ]
  },
  {
   "cell_type": "code",
   "execution_count": 135,
   "metadata": {},
   "outputs": [
    {
     "name": "stdout",
     "output_type": "stream",
     "text": [
      "140\n"
     ]
    }
   ],
   "source": [
    "def 함수1(num) :\n",
    "    return num + 4\n",
    "\n",
    "def 함수2(num) :\n",
    "    return num * 10\n",
    "\n",
    "a = 함수1(10)   \n",
    "# 함수1()에서 호출한 10 + 4 = 14 반환값을 변수 a에 대입\n",
    "c = 함수2(a)    \n",
    "# 함수2()에서 호출한 14 * 10 = 140 반환값을 변수 c에 대입\n",
    "\n",
    "print(c)"
   ]
  },
  {
   "cell_type": "markdown",
   "metadata": {},
   "source": [
    "### 239\n",
    "아래 코드의 실행 결과를 예측하라.\n",
    "\n",
    "    def 함수1(num) :\n",
    "        return num + 4\n",
    "\n",
    "    def 함수2(num) :\n",
    "        num = num + 2\n",
    "        return 함수1(num)\n",
    "\n",
    "    c = 함수2(10)\n",
    "    print(c)"
   ]
  },
  {
   "cell_type": "code",
   "execution_count": 136,
   "metadata": {},
   "outputs": [
    {
     "name": "stdout",
     "output_type": "stream",
     "text": [
      "16\n"
     ]
    }
   ],
   "source": [
    "def 함수1(num) :\n",
    "    return num + 4\n",
    "\n",
    "def 함수2(num) :        # 호출된 10 대입\n",
    "    num = num + 2       # 대입된 10 + 2를 계산\n",
    "    return 함수1(num)   # 상단에 함수1에 12를 대입\n",
    "                        # 함수 1에서 반환된 12 + 4를 반환\n",
    "\n",
    "c = 함수2(10)\n",
    "# 함수 2에서 반환된 16을 변수 c에 대입\n",
    "\n",
    "print(c)"
   ]
  },
  {
   "cell_type": "markdown",
   "metadata": {},
   "source": [
    "### 240\n",
    "아래 코드의 실행 결과를 예측하라.\n",
    "\n",
    "    def 함수0(num) :\n",
    "        return num * 2\n",
    "\n",
    "    def 함수1(num) :\n",
    "        return 함수0(num + 2)\n",
    "\n",
    "    def 함수2(num) :\n",
    "        num = num + 10\n",
    "        return 함수1(num)\n",
    "\n",
    "    c = 함수2(2)\n",
    "    print(c)"
   ]
  },
  {
   "cell_type": "code",
   "execution_count": 137,
   "metadata": {},
   "outputs": [
    {
     "name": "stdout",
     "output_type": "stream",
     "text": [
      "28\n"
     ]
    }
   ],
   "source": [
    "def 함수0(num) :            # 14\n",
    "    return num * 2          # 14 * 2\n",
    "\n",
    "def 함수1(num) :            # 12\n",
    "    return 함수0(num + 2)   # 12 + 2\n",
    "\n",
    "def 함수2(num) :            # 2\n",
    "    num = num + 10          # 12\n",
    "    return 함수1(num)       # 최종 28을 반환\n",
    "\n",
    "c = 함수2(2)                # 반환된 28을 c에 대입\n",
    "print(c)"
   ]
  },
  {
   "cell_type": "markdown",
   "metadata": {},
   "source": [
    "&nbsp;\n",
    "\n",
    "# **<span style=\"color:blue\">10. 파이썬 모듈</span>**\n",
    "\n",
    "- 파이썬 모듈은 파이썬 파일을 의미합니다. 파이썬은 다양한 분야별로 모듈을 제공합니다. 프로그램 구현에 필요한 모듈의 기초 사용법을 알아봅시다.\n",
    "\n",
    "&nbsp;"
   ]
  },
  {
   "cell_type": "markdown",
   "metadata": {},
   "source": [
    "### 241 현재시간\n",
    "datetime 모듈을 사용해서 현재 시간을 화면에 출력해보세요."
   ]
  },
  {
   "cell_type": "code",
   "execution_count": 2,
   "metadata": {},
   "outputs": [
    {
     "name": "stdout",
     "output_type": "stream",
     "text": [
      "2024-03-29 01:39:48.933367\n"
     ]
    }
   ],
   "source": [
    "import datetime\n",
    "\n",
    "time = datetime.datetime.now()\n",
    "print(time)"
   ]
  },
  {
   "cell_type": "markdown",
   "metadata": {},
   "source": [
    "### 242 현재시간의 타입\n",
    "datetime 모듈의 now 함수의 리턴 값의 타입을 화면에 출력해보세요."
   ]
  },
  {
   "cell_type": "code",
   "execution_count": 4,
   "metadata": {},
   "outputs": [
    {
     "name": "stdout",
     "output_type": "stream",
     "text": [
      "<class 'datetime.datetime'>\n"
     ]
    }
   ],
   "source": [
    "now = datetime.datetime.now()\n",
    "print(type(now))"
   ]
  },
  {
   "cell_type": "markdown",
   "metadata": {},
   "source": [
    "### 243 timedelta\n",
    "datetime 모듈의 timedelta를 사용해서 오늘로부터 5일, 4일, 3일, 2일, 1일 전의 날짜를 화면에 출력해보세요."
   ]
  },
  {
   "cell_type": "code",
   "execution_count": 10,
   "metadata": {},
   "outputs": [
    {
     "name": "stdout",
     "output_type": "stream",
     "text": [
      "2024-03-24 01:46:38.343687\n",
      "2024-03-25 01:46:38.343687\n",
      "2024-03-26 01:46:38.343687\n",
      "2024-03-27 01:46:38.343687\n",
      "2024-03-28 01:46:38.343687\n"
     ]
    }
   ],
   "source": [
    "now = datetime.datetime.now()\n",
    "\n",
    "for i in range(-5, 0):\n",
    "    delta = datetime.timedelta(days=i)\n",
    "    print(now + delta)"
   ]
  },
  {
   "cell_type": "code",
   "execution_count": 11,
   "metadata": {},
   "outputs": [
    {
     "name": "stdout",
     "output_type": "stream",
     "text": [
      "2024-03-29 02:46:38.343687\n"
     ]
    }
   ],
   "source": [
    "delta = datetime.timedelta(hours=1)\n",
    "\n",
    "print(now + delta)      \n",
    "# 지금시간으로 부터 1시간 지난시간 출력 "
   ]
  },
  {
   "cell_type": "markdown",
   "metadata": {},
   "source": [
    "### 244 strftime\n",
    "현재시간을 얻어온 후 다음과 같은 포맷으로 시간을 출력해보세요. strftime 메서드를 사용하세요."
   ]
  },
  {
   "cell_type": "code",
   "execution_count": 20,
   "metadata": {},
   "outputs": [
    {
     "name": "stdout",
     "output_type": "stream",
     "text": [
      "01:46:38 <class 'str'>\n"
     ]
    }
   ],
   "source": [
    "hms = now.strftime('%H:%M:%S')\n",
    "        # 현재 시각 정보에서 필요한 부분만 선택 출력\n",
    "\n",
    "print(hms, type(hms))"
   ]
  },
  {
   "cell_type": "markdown",
   "metadata": {},
   "source": [
    "### 245 strptime\n",
    "datetime.datetime.strptime 메서드를 사용하면 문자열 형식의 시간을 datetime.datetime 타입의 시간 값으로 만들어줍니다. \"2020-05-04\"의 문자열을 시간 타입으로 변환해보세요."
   ]
  },
  {
   "cell_type": "code",
   "execution_count": 23,
   "metadata": {},
   "outputs": [
    {
     "name": "stdout",
     "output_type": "stream",
     "text": [
      "2024-03-29 00:00:00 <class 'datetime.datetime'>\n"
     ]
    }
   ],
   "source": [
    "# 문자형 => 시간타잎\n",
    "\n",
    "day = '2024-03-29'\n",
    "\n",
    "t_type = datetime.datetime.strptime(day, '%Y-%m-%d')\n",
    "\n",
    "print(t_type,type(t_type))"
   ]
  },
  {
   "cell_type": "markdown",
   "metadata": {},
   "source": [
    "### 246 sleep 함수\n",
    "time 모듈, datetime 모듈을 사용해서 1초에 한 번 현재 시간을 출력하는 코드를 작성하세요."
   ]
  },
  {
   "cell_type": "code",
   "execution_count": 25,
   "metadata": {},
   "outputs": [
    {
     "name": "stdout",
     "output_type": "stream",
     "text": [
      "Hello\n",
      "again\n"
     ]
    }
   ],
   "source": [
    "import time\n",
    "\n",
    "print('Hello')\n",
    "time.sleep(1)       # 1초를 쉬고 다음으로 이동\n",
    "print('again')"
   ]
  },
  {
   "cell_type": "code",
   "execution_count": 29,
   "metadata": {},
   "outputs": [
    {
     "name": "stdout",
     "output_type": "stream",
     "text": [
      "2024-03-29 02:05:09.574645\n",
      "2024-03-29 02:05:10.576706\n",
      "2024-03-29 02:05:11.591587\n",
      "2024-03-29 02:05:12.603879\n",
      "2024-03-29 02:05:13.616567\n",
      "2024-03-29 02:05:14.621648\n",
      "2024-03-29 02:05:15.623809\n",
      "2024-03-29 02:05:16.638047\n",
      "2024-03-29 02:05:17.652788\n",
      "2024-03-29 02:05:18.655606\n",
      "2024-03-29 02:05:19.668337\n"
     ]
    },
    {
     "ename": "KeyboardInterrupt",
     "evalue": "",
     "output_type": "error",
     "traceback": [
      "\u001b[1;31m---------------------------------------------------------------------------\u001b[0m",
      "\u001b[1;31mKeyboardInterrupt\u001b[0m                         Traceback (most recent call last)",
      "\u001b[1;32m~\\AppData\\Local\\Temp\\ipykernel_5112\\2892792608.py\u001b[0m in \u001b[0;36m<module>\u001b[1;34m\u001b[0m\n\u001b[0;32m      2\u001b[0m     \u001b[0mnow\u001b[0m \u001b[1;33m=\u001b[0m \u001b[0mdatetime\u001b[0m\u001b[1;33m.\u001b[0m\u001b[0mdatetime\u001b[0m\u001b[1;33m.\u001b[0m\u001b[0mnow\u001b[0m\u001b[1;33m(\u001b[0m\u001b[1;33m)\u001b[0m\u001b[1;33m\u001b[0m\u001b[1;33m\u001b[0m\u001b[0m\n\u001b[0;32m      3\u001b[0m     \u001b[0mprint\u001b[0m\u001b[1;33m(\u001b[0m\u001b[0mnow\u001b[0m\u001b[1;33m)\u001b[0m\u001b[1;33m\u001b[0m\u001b[1;33m\u001b[0m\u001b[0m\n\u001b[1;32m----> 4\u001b[1;33m     \u001b[0mtime\u001b[0m\u001b[1;33m.\u001b[0m\u001b[0msleep\u001b[0m\u001b[1;33m(\u001b[0m\u001b[1;36m1\u001b[0m\u001b[1;33m)\u001b[0m\u001b[1;33m\u001b[0m\u001b[1;33m\u001b[0m\u001b[0m\n\u001b[0m",
      "\u001b[1;31mKeyboardInterrupt\u001b[0m: "
     ]
    }
   ],
   "source": [
    "while True:\n",
    "    now = datetime.datetime.now()\n",
    "    print(now)\n",
    "    time.sleep(1)"
   ]
  },
  {
   "cell_type": "markdown",
   "metadata": {},
   "source": [
    "### 247 모듈 임포트\n",
    "모듈을 임포트하는 4가지 방식에 대해 설명해보세요."
   ]
  },
  {
   "cell_type": "code",
   "execution_count": null,
   "metadata": {},
   "outputs": [],
   "source": [
    "import os                   # os 모듈을 임포트\n",
    "from os import rename       # os 모듈중 rename함수를 임포트\n",
    "from os import *            # os 모듈의 모든 항목 임포트\n",
    "from os as myos             # os 모듈의 이름을 변형해서 임포트\n",
    "# 여러 모듈을 임포트할때 동일한 함수 이름이 있을때 구분할수 있다"
   ]
  },
  {
   "cell_type": "markdown",
   "metadata": {},
   "source": [
    "### 248 os 모듈\n",
    "os 모듈의 getcwd 함수를 호출하여 현재 디렉터리의 경로를 화면에 출력해보세요."
   ]
  },
  {
   "cell_type": "code",
   "execution_count": 30,
   "metadata": {},
   "outputs": [
    {
     "name": "stdout",
     "output_type": "stream",
     "text": [
      "h:\\공부\\Python 300 for beginners <class 'str'>\n"
     ]
    }
   ],
   "source": [
    "import os\n",
    "\n",
    "ret = os.getcwd()\n",
    "print(ret, type(ret))"
   ]
  },
  {
   "cell_type": "markdown",
   "metadata": {},
   "source": [
    "### 249 rename 함수\n",
    "바탕화면에 텍스트 파일을 하나 생성한 후 os 모듈의 rename 함수를 호출하여 해당 파일의 이름을 변경해보세요."
   ]
  },
  {
   "cell_type": "code",
   "execution_count": 32,
   "metadata": {},
   "outputs": [],
   "source": [
    "# 동일 폴더안에 before.txt 파일 생성\n",
    "\n",
    "os.rename('./before.txt', './affer.text')\n",
    "\n",
    "# 파일 이름이 변경됨"
   ]
  },
  {
   "cell_type": "markdown",
   "metadata": {},
   "source": [
    "### 250 numpy\n",
    "numpy 모듈의 arange 함수를 사용해서 0.0 부터 5.0까지 0.1씩 증가하는 값을 화면에 출력해보세요."
   ]
  },
  {
   "cell_type": "code",
   "execution_count": 33,
   "metadata": {},
   "outputs": [
    {
     "name": "stdout",
     "output_type": "stream",
     "text": [
      "0.0\n",
      "0.1\n",
      "0.2\n",
      "0.30000000000000004\n",
      "0.4\n",
      "0.5\n",
      "0.6000000000000001\n",
      "0.7000000000000001\n",
      "0.8\n",
      "0.9\n",
      "1.0\n",
      "1.1\n",
      "1.2000000000000002\n",
      "1.3\n",
      "1.4000000000000001\n",
      "1.5\n",
      "1.6\n",
      "1.7000000000000002\n",
      "1.8\n",
      "1.9000000000000001\n",
      "2.0\n",
      "2.1\n",
      "2.2\n",
      "2.3000000000000003\n",
      "2.4000000000000004\n",
      "2.5\n",
      "2.6\n",
      "2.7\n",
      "2.8000000000000003\n",
      "2.9000000000000004\n",
      "3.0\n",
      "3.1\n",
      "3.2\n",
      "3.3000000000000003\n",
      "3.4000000000000004\n",
      "3.5\n",
      "3.6\n",
      "3.7\n",
      "3.8000000000000003\n",
      "3.9000000000000004\n",
      "4.0\n",
      "4.1000000000000005\n",
      "4.2\n",
      "4.3\n",
      "4.4\n",
      "4.5\n",
      "4.6000000000000005\n",
      "4.7\n",
      "4.800000000000001\n",
      "4.9\n"
     ]
    }
   ],
   "source": [
    "import numpy\n",
    "\n",
    "for i in numpy.arange(0, 5, 0.1):\n",
    "    print(i)"
   ]
  }
 ],
 "metadata": {
  "kernelspec": {
   "display_name": "Python 3.10.9 ('base')",
   "language": "python",
   "name": "python3"
  },
  "language_info": {
   "codemirror_mode": {
    "name": "ipython",
    "version": 3
   },
   "file_extension": ".py",
   "mimetype": "text/x-python",
   "name": "python",
   "nbconvert_exporter": "python",
   "pygments_lexer": "ipython3",
   "version": "3.9.13"
  },
  "orig_nbformat": 4,
  "vscode": {
   "interpreter": {
    "hash": "57bc2b6ce032b5f0e93daa91901b7ea38a856826ef43aa9e95b6d3999f5310df"
   }
  }
 },
 "nbformat": 4,
 "nbformat_minor": 2
}
