{
 "cells": [
  {
   "cell_type": "markdown",
   "metadata": {},
   "source": [
    "&nbsp;\n",
    "\n",
    "# **<span style=\"color:blue\">11. 파이썬 클래스</span>**\n",
    "\n",
    "- 파이썬 클래스는 타입을 만들어내는 도구입니다. int, float, str과 같이 여러분의 새로운 타입을 만들 수 있습니다.\n",
    "\n",
    "&nbsp;"
   ]
  },
  {
   "cell_type": "markdown",
   "metadata": {},
   "source": [
    "### 251 클래스, 객체, 인스턴스\n",
    "클래스와 객체에 대해 설명해봅시다."
   ]
  },
  {
   "cell_type": "code",
   "execution_count": 1,
   "metadata": {},
   "outputs": [],
   "source": [
    "# 클래스는 일종의 설계도로, 하나의 타입을 정의하는 방법\n",
    "# 객체나 인스턴스의 설계도\n",
    "# 클래스에는 관련있는 데이터와 함수를 한 데 모아 정의할 수 있다 \n",
    "\n",
    "# 클래스로 만들어진 결과물을 객체, 인스턴스 라고 한다\n",
    "# 객체 : object\n",
    "\n",
    "# 자동차 설계도 = 클래스\n",
    "# 그 설계도로 만들어진 자동차 = 객체, 인스턴스"
   ]
  },
  {
   "cell_type": "markdown",
   "metadata": {},
   "source": [
    "### 252 클래스 정의\n",
    "비어있는 사람 (Human) 클래스를 \"정의\" 해보세요."
   ]
  },
  {
   "cell_type": "code",
   "execution_count": 2,
   "metadata": {},
   "outputs": [],
   "source": [
    "class Human:    \n",
    "    # 사용자가 만든 클래스 이름은 대문자를 쓴다\n",
    "    pass        \n",
    "    # 클래스 안에는 함수가 있고 메소드라고 한다"
   ]
  },
  {
   "cell_type": "markdown",
   "metadata": {},
   "source": [
    "### 253 인스턴스 생성\n",
    "사람 (Human) 클래스의 인스턴스를 \"생성\" 하고 이를 areum 변수로 바인딩해보세요."
   ]
  },
  {
   "cell_type": "code",
   "execution_count": 3,
   "metadata": {},
   "outputs": [],
   "source": [
    "class Human:\n",
    "    pass\n",
    "\n",
    "areum = Human()\n",
    "# 만들어진 객체(오브젝트),인스턴스를 변수에 \n",
    "# 대입하지 않으면 소멸된다"
   ]
  },
  {
   "cell_type": "markdown",
   "metadata": {},
   "source": [
    "### 254 클래스 생성자-1\n",
    "사람 (Human) 클래스에 \"응애응애\"를 출력하는 생성자를 추가하세요.\n",
    "\n",
    ">>> areum = Human()\n",
    "\n",
    "응애응애"
   ]
  },
  {
   "cell_type": "code",
   "execution_count": 4,
   "metadata": {},
   "outputs": [
    {
     "name": "stdout",
     "output_type": "stream",
     "text": [
      "응애응애\n"
     ]
    }
   ],
   "source": [
    "class Human:\n",
    "    def __init__(self):     \n",
    "    # 생성자 : 처음 생성하는 메소드\n",
    "    # Human 클래스 안에 {'__init__' (keys) : 함수(value)}\n",
    "    # 딕셔너리 key : value가 들어가게 된다\n",
    "        \n",
    "        print('응애응애')\n",
    "    # class Human을 호출하면 __init__ 으로 함수를 호출해서\n",
    "    # 안에 있는 출력문을 반환해준다\n",
    "    # self 인자는 아래 생성된 areum 객체 Human()을 바인딩 한다 \n",
    "        \n",
    "areum = Human()\n",
    "# 변수 = 객체 대입"
   ]
  },
  {
   "cell_type": "markdown",
   "metadata": {},
   "source": [
    "### 255 클래스 생성자-2\n",
    "사람 (Human) 클래스에 (이름, 나이, 성별)을 받는 생성자를 추가하세요.\n",
    "\n",
    ">>> areum = Human(\"아름\", 25, \"여자\")"
   ]
  },
  {
   "cell_type": "code",
   "execution_count": 2,
   "metadata": {},
   "outputs": [],
   "source": [
    "class Human:\n",
    "    def __init__(self, 이름, 나이, 성별):\n",
    "        # self : 객체에서 만들어진 인자를 받을때 \n",
    "        # 처음 받아들이는 areum 객체 변수\n",
    "        self.name = 이름      # self 안에 딕셔너리 {name : 아름}\n",
    "        self.age = 나이       # self 안에 딕셔너리 {age : 25}\n",
    "        self.sex = 성별       # self 안에 딕셔너리 {sex : 여자}\n",
    "        # self 변수 = 인자\n",
    "\n",
    "areum = Human('아름', 25, '여자')\n",
    "# self = class Human( 이름, 나이, 성별)\n"
   ]
  },
  {
   "cell_type": "markdown",
   "metadata": {},
   "source": [
    "### 256 인스턴스 속성에 접근\n",
    "255 에서 생성한 인스턴스의 이름, 나이, 성별을 출력하세요. 인스턴스 변수에 접근하여 값을 출력하면 됩니다.\n",
    "\n",
    "    이름: 조아름, 나이: 25, 성별: 여자\n",
    "\n",
    "인스턴스 변수에 접근하여 값을 가져오는 예\n",
    "\n",
    ">>> areum.age\n",
    "\n",
    "25"
   ]
  },
  {
   "cell_type": "code",
   "execution_count": 3,
   "metadata": {},
   "outputs": [
    {
     "name": "stdout",
     "output_type": "stream",
     "text": [
      "아름\n",
      "25\n",
      "여자\n"
     ]
    }
   ],
   "source": [
    "print(areum.name)\n",
    "print(areum.age)\n",
    "print(areum.sex)"
   ]
  },
  {
   "cell_type": "markdown",
   "metadata": {},
   "source": [
    "### 257 클래스 메소드 - 1\n",
    "사람 (Human) 클래스에서 이름, 나이, 성별을 출력하는 who() 메소드를 추가하세요.\n",
    "\n",
    ">>> areum.who()\n",
    "\n",
    "이름: 조아름, 나이: 25, 성별: 여자"
   ]
  },
  {
   "cell_type": "code",
   "execution_count": 5,
   "metadata": {},
   "outputs": [
    {
     "name": "stdout",
     "output_type": "stream",
     "text": [
      "이름 : 조아름, 나이 : 25, 성별 : 여자\n"
     ]
    }
   ],
   "source": [
    "class Human:\n",
    "    def __init__(self, 이름, 나이, 성별):\n",
    "        self.name = 이름     \n",
    "        self.age = 나이      \n",
    "        self.sex = 성별\n",
    "\n",
    "    def who(self):      \n",
    "        # 새로운 함수안에 (self)를 넣어야\n",
    "        # 기존에 클래스에서 받았던 객체를 호출할수 있다 \n",
    "\n",
    "        print('이름 : {0}, 나이 : {1}, 성별 : {2}'\\\n",
    "              .format(self.name, self.age, self.sex))\n",
    "\n",
    "areum = Human( '조아름', 25, '여자')\n",
    "\n",
    "areum.who()     \n",
    "# Human.who(areum) 와 의미가 같다"
   ]
  },
  {
   "cell_type": "markdown",
   "metadata": {},
   "source": [
    "### 258 클래스 메소드 - 2\n",
    "사람 (Human) 클래스에 (이름, 나이, 성별)을 받는 setInfo 메소드를 추가하세요.\n",
    "\n",
    ">>> areum = Human(\"모름\", 0, \"모름\")\n",
    "\n",
    ">>> areum.setInfo(\"아름\", 25, \"여자\")"
   ]
  },
  {
   "cell_type": "code",
   "execution_count": 10,
   "metadata": {},
   "outputs": [
    {
     "name": "stdout",
     "output_type": "stream",
     "text": [
      "이름 : 불명, 나이 : 0, 성별 : 모름\n",
      "이름 : 아름, 나이 : 25, 성별 : 여자\n"
     ]
    }
   ],
   "source": [
    "class Human:\n",
    "    def __init__(self, 이름, 나이, 성별):\n",
    "        self.name = 이름     \n",
    "        self.age = 나이      \n",
    "        self.sex = 성별\n",
    "\n",
    "    def who(self):      \n",
    "        print('이름 : {0}, 나이 : {1}, 성별 : {2}'\\\n",
    "            .format(self.name, self.age, self.sex))\n",
    "        \n",
    "    def setInfo(self, 이름, 나이, 성별):\n",
    "        self.name = 이름     \n",
    "        self.age = 나이      \n",
    "        self.sex = 성별\n",
    "\n",
    "areum = Human('불명', 0, '모름')\n",
    "areum.who()\n",
    "\n",
    "areum.setInfo('아름', 25, '여자')\n",
    "# 기존에 생성자에서 대입된 값을 \n",
    "# setInfo 메소드에서 수정할수 있다\n",
    "\n",
    "areum.who()"
   ]
  },
  {
   "cell_type": "markdown",
   "metadata": {},
   "source": [
    "### 259 클래스 소멸자\n",
    "사람 (human) 클래스에 \"나의 죽음을 알리지 말라\"를 출력하는 소멸자를 추가하세요.\n",
    "\n",
    ">>> areum = Human(\"아름\", 25, \"여자\")\n",
    "\n",
    ">>> del areum\n",
    "\n",
    "나의 죽음을 알리지 말라"
   ]
  },
  {
   "cell_type": "code",
   "execution_count": 13,
   "metadata": {},
   "outputs": [
    {
     "name": "stdout",
     "output_type": "stream",
     "text": [
      "나의 죽음을 알리지 말라\n"
     ]
    }
   ],
   "source": [
    "class Human:\n",
    "    def __init__(self, 이름, 나이, 성별):\n",
    "        self.name = 이름     \n",
    "        self.age = 나이      \n",
    "        self.sex = 성별\n",
    "\n",
    "    def __del__(self):\n",
    "        print('나의 죽음을 알리지 말라')\n",
    "\n",
    "    def who(self):      \n",
    "        print('이름 : {0}, 나이 : {1}, 성별 : {2}'\\\n",
    "            .format(self.name, self.age, self.sex))\n",
    "        \n",
    "    def setInfo(self, 이름, 나이, 성별):\n",
    "        self.name = 이름     \n",
    "        self.age = 나이      \n",
    "        self.sex = 성별\n",
    "\n",
    "areum = Human( '조아름', 25, '여자')\n",
    "\n",
    "del(areum)\n",
    "\n",
    "# print(areum.who())  = 실행하게 되면 객체 변수가 \n",
    "# 삭제되어서 출력 오류가 난다."
   ]
  },
  {
   "cell_type": "markdown",
   "metadata": {},
   "source": [
    "### 260 에러의 원인\n",
    "아래와 같은 에러가 발생한 원인에 대해 설명하세요.\n",
    "\n",
    "    class OMG : \n",
    "        def print() :\n",
    "            print(\"Oh my god\")\n",
    "\n",
    "\n",
    "    myStock = OMG()\n",
    "    myStock.print()\n",
    "\n",
    "TypeError Traceback (most recent call last)\n",
    "\n",
    "<ipython-input-233-c85c04535b22> in <module>()\n",
    "\n",
    "----> myStock.print()\n",
    "\n",
    "TypeError: print() takes 0 positional arguments but 1 was given"
   ]
  },
  {
   "cell_type": "code",
   "execution_count": 17,
   "metadata": {},
   "outputs": [
    {
     "name": "stdout",
     "output_type": "stream",
     "text": [
      "Oh My God!\n"
     ]
    }
   ],
   "source": [
    "class OMG():\n",
    "    def print(self):\n",
    "        # self 가 없으면 오류\n",
    "        print('Oh My God!')\n",
    "\n",
    "myStock = OMG()\n",
    "myStock.print()\n",
    "# OMG.print(myStock) \n",
    "# 인자가 없기때문에 출력오류"
   ]
  },
  {
   "cell_type": "markdown",
   "metadata": {},
   "source": [
    "### 261 Stock 클래스 생성\n",
    "주식 종목에 대한 정보를 저장하는 Stock 클래스를 정의해보세요. 클래스는 속성과 메서드를 갖고 있지 않습니다."
   ]
  },
  {
   "cell_type": "code",
   "execution_count": 39,
   "metadata": {},
   "outputs": [],
   "source": [
    "class Stock():\n",
    "    pass"
   ]
  },
  {
   "cell_type": "markdown",
   "metadata": {},
   "source": [
    "### 262 생성자\n",
    "Stock 클래스의 객체가 생성될 때 종목명과 종목코드를 입력 받을 수 있도록 생성자를 정의해보세요.\n",
    "\n",
    "    삼성 = Stock(\"삼성전자\", \"005930\")  "
   ]
  },
  {
   "cell_type": "code",
   "execution_count": 42,
   "metadata": {},
   "outputs": [
    {
     "name": "stdout",
     "output_type": "stream",
     "text": [
      "삼성\n",
      "005930\n"
     ]
    }
   ],
   "source": [
    "class Stock():\n",
    "    def __init__(self, name, code ):\n",
    "        self.name = name\n",
    "        self.code = code\n",
    "\n",
    "삼성 = Stock('삼성', '005930')\n",
    "\n",
    "print(삼성.name)\n",
    "print(삼성.code)"
   ]
  },
  {
   "cell_type": "markdown",
   "metadata": {},
   "source": [
    "### 263 메서드\n",
    "객체에 종목명을 입력할 수 있는 set_name 메서드를 추가해보세요.\n",
    "\n",
    "    a = Stock(None, None)\n",
    "    a.set_name(\"삼성전자\")"
   ]
  },
  {
   "cell_type": "code",
   "execution_count": 43,
   "metadata": {},
   "outputs": [
    {
     "data": {
      "text/plain": [
       "'삼성전자'"
      ]
     },
     "execution_count": 43,
     "metadata": {},
     "output_type": "execute_result"
    }
   ],
   "source": [
    "class Stock():\n",
    "    def __init__(self, name, code ):\n",
    "        self.name = name\n",
    "        self.code = code\n",
    "    \n",
    "    def set_name(self, name):\n",
    "        self.name = name\n",
    "\n",
    "a = Stock(None, None)\n",
    "a.set_name(\"삼성전자\")\n",
    "\n",
    "a.name"
   ]
  },
  {
   "cell_type": "markdown",
   "metadata": {},
   "source": [
    "### 264 메서드\n",
    "객체에 종목코드를 입력할 수 있는 set_code 메서드를 추가해보세요.\n",
    "\n",
    "    a = Stock(None, None)\n",
    "    a.set_code(\"005930\")"
   ]
  },
  {
   "cell_type": "code",
   "execution_count": 44,
   "metadata": {},
   "outputs": [
    {
     "data": {
      "text/plain": [
       "'005930'"
      ]
     },
     "execution_count": 44,
     "metadata": {},
     "output_type": "execute_result"
    }
   ],
   "source": [
    "class Stock():\n",
    "    def __init__(self, name, code ):\n",
    "        self.name = name\n",
    "        self.code = code\n",
    "\n",
    "    def set_name(self, name):\n",
    "        self.name = name\n",
    "\n",
    "    def set_code(self, code):\n",
    "        self.code = code\n",
    "\n",
    "a = Stock(None, None)\n",
    "a.set_code('005930')\n",
    "\n",
    "a.code"
   ]
  },
  {
   "cell_type": "markdown",
   "metadata": {},
   "source": [
    "### 265 메서드\n",
    "종목명과 종목코드를 리턴하는 get_name, get_code 메서드를 추가하세요. 해당 메서드를 사용하여 종목명과 종목코드를 얻고 이를 출력해보세요.\n",
    "\n",
    "    삼성 = Stock(\"삼성전자\", \"005930\")"
   ]
  },
  {
   "cell_type": "code",
   "execution_count": 47,
   "metadata": {},
   "outputs": [
    {
     "name": "stdout",
     "output_type": "stream",
     "text": [
      "삼성전자\n",
      "005930\n"
     ]
    }
   ],
   "source": [
    "class Stock():\n",
    "    def __init__(self, name, code ):\n",
    "        self.name = name\n",
    "        self.code = code\n",
    "        \n",
    "    def set_name(self, name):\n",
    "        self.name = name\n",
    "\n",
    "    def set_code(self, code):\n",
    "        self.code = code\n",
    "        \n",
    "    def get_name(self):\n",
    "        return self.name\n",
    "    \n",
    "    def get_code(self):\n",
    "        return self.code\n",
    "\n",
    "삼성 = Stock(\"삼성전자\", \"005930\")\n",
    "\n",
    "print(삼성.get_name())\n",
    "print(삼성.get_code())"
   ]
  },
  {
   "cell_type": "markdown",
   "metadata": {},
   "source": [
    "### 266 객체의 속성값 업데이트\n",
    "생성자에서 종목명, 종목코드, PER, PBR, 배당수익률을 입력 받을 수 있도록 생성자를 수정하세요. PER, PBR, 배당수익률은 float 타입입니다."
   ]
  },
  {
   "cell_type": "code",
   "execution_count": 48,
   "metadata": {},
   "outputs": [],
   "source": [
    "class Stock():\n",
    "    def __init__(self, name, code, per, pbr, dividend ):\n",
    "        self.name = name\n",
    "        self.code = code\n",
    "        self.per = float(per)\n",
    "        self.pbr = float(pbr)\n",
    "        self.dividend = float(dividend)\n",
    "\n",
    "    def Stock_print(self):\n",
    "        print('종목명 : {0}, 종목 코드 : {1}, PER : {2}, PBR : {3}, 배당수익률 : {4}'\\\n",
    "            .format(self.name,self.code,self.per, self.pbr, self.dividend))"
   ]
  },
  {
   "cell_type": "markdown",
   "metadata": {},
   "source": [
    "### 267 객체 생성\n",
    "266번에서 정의한 생성자를 통해 다음 정보를 갖는 객체를 생성해보세요.\n",
    "\n",
    "|항목\t|정보|\n",
    "|---|---|\n",
    "|종목명|\t삼성전자|\n",
    "|종목코드|\t005930|\n",
    "|PER\t|15.79|\n",
    "|PBR\t|1.33|\n",
    "|배당수익률|\t2.83|"
   ]
  },
  {
   "cell_type": "code",
   "execution_count": 49,
   "metadata": {},
   "outputs": [
    {
     "name": "stdout",
     "output_type": "stream",
     "text": [
      "종목명 : 삼성전자, 종목 코드 : 005930, PER : 15.79, PBR : 1.33, 배당수익률 : 2.83\n"
     ]
    }
   ],
   "source": [
    "samsung = Stock('삼성전자','005930',15.79,1.33,2.83)\n",
    "samsung.Stock_print()"
   ]
  },
  {
   "cell_type": "markdown",
   "metadata": {},
   "source": [
    "### 268 객체의 속성 수정\n",
    "PER, PBR, 배당수익률은 변경될 수 있는 값입니다. 이 값을 변경할 때 사용하는 set_per, set_pbr, set_dividend 메서드를 추가하세요."
   ]
  },
  {
   "cell_type": "code",
   "execution_count": 53,
   "metadata": {},
   "outputs": [],
   "source": [
    "class Stock():\n",
    "    def __init__(self, name, code, per, pbr, dividend ):\n",
    "        self.name = name\n",
    "        self.code = code\n",
    "        self.per = float(per)\n",
    "        self.pbr = float(pbr)\n",
    "        self.dividend = float(dividend)\n",
    "        \n",
    "    def set_per(self, per):\n",
    "        self.per = float(per)\n",
    "        print(self.per)\n",
    "        \n",
    "    def set_pbr(self, pbr):\n",
    "        self.pbr = float(pbr)\n",
    "\n",
    "    def set_dividend(self, dividend):\n",
    "        self.dividend = float(dividend)\n",
    "    \n",
    "    def Stock_print(self):\n",
    "        print('종목명 : {0}, 종목 코드 : {1}, PER : {2}, PBR : {3}, 배당수익률{4}'\\\n",
    "            .format(self.name,self.code,self.per, self.pbr, self.dividend))"
   ]
  },
  {
   "cell_type": "markdown",
   "metadata": {},
   "source": [
    "### 269 객체의 속성 수정\n",
    "267번에서 생성한 객체에 set_per 메서드를 호출하여 per 값을 12.75로 수정해보세요."
   ]
  },
  {
   "cell_type": "code",
   "execution_count": 56,
   "metadata": {},
   "outputs": [
    {
     "name": "stdout",
     "output_type": "stream",
     "text": [
      "12.75\n"
     ]
    }
   ],
   "source": [
    "samsung = Stock('삼성전자','005930',15.79,1.33,2.83)\n",
    "samsung.set_per(12.75)"
   ]
  },
  {
   "cell_type": "markdown",
   "metadata": {},
   "source": [
    "### 270 여러 종목의 객체 생성\n",
    "아래의 표를 참조하여 3종목에 대해 객체를 생성하고 이를 파이썬 리스트에 저장하세요. 파이썬 리스트에 저장된 각 종목에 대해 for 루프를 통해 종목코드와 PER을 출력해보세요.\n",
    "\n",
    "|종목명\t|종목코드\t|PER|\tPBR\t|배당수익률|\n",
    "|---|---|---|---|---|\n",
    "|삼성전자|\t005930|\t15.79\t|1.33|\t2.83|\n",
    "|현대차\t|005380|\t8.70\t|0.35\t|4.27|\n",
    "|LG전자\t|066570|\t317.34\t|0.69\t|1.37|"
   ]
  },
  {
   "cell_type": "code",
   "execution_count": 58,
   "metadata": {},
   "outputs": [
    {
     "name": "stdout",
     "output_type": "stream",
     "text": [
      "005930 15.79\n",
      "005380 8.7\n",
      "066570 317.34\n"
     ]
    }
   ],
   "source": [
    "stock = []\n",
    "\n",
    "samsung = Stock('삼성전자', '005930', 15.79, 1.33, 2.83)\n",
    "hyundai = Stock('현대차', '005380', 8.70, 0.35, 4.27)\n",
    "LG = Stock('LG전자', '066570', 317.34, 0.69, 1.37)\n",
    "\n",
    "# samsung.Stock_print()\n",
    "# hyundai.Stock_print()\n",
    "# LG.Stock_print()\n",
    "\n",
    "stock.append(samsung)\n",
    "stock.append(hyundai)\n",
    "stock.append(LG)\n",
    "\n",
    "for i in stock:\n",
    "    print(i.code, i.per)"
   ]
  },
  {
   "cell_type": "markdown",
   "metadata": {},
   "source": [
    "### 271 Account 클래스\n",
    "은행에 가서 계좌를 개설하면 은행이름, 예금주, 계좌번호, 잔액이 설정됩니다. Account 클래스를 생성한 후 생성자를 구현해보세요. 생성자에서는 예금주와 초기 잔액만 입력 받습니다. 은행이름은 SC은행으로 계좌번호는 3자리-2자리-6자리 형태로 랜덤하게 생성됩니다.\n",
    "\n",
    "    은행이름: SC은행\n",
    "    계좌번호: 111-11-111111"
   ]
  },
  {
   "cell_type": "code",
   "execution_count": 12,
   "metadata": {},
   "outputs": [
    {
     "name": "stdout",
     "output_type": "stream",
     "text": [
      "김민수\n",
      "100\n",
      "SC은행\n",
      "883-42-977958\n",
      "<class 'str'>\n"
     ]
    }
   ],
   "source": [
    "import random\n",
    "\n",
    "# num = random.randint(0,99)\n",
    "\n",
    "# print(num)\n",
    "# print(str(num).zfill(5))\n",
    "\n",
    "class Account():\n",
    "    def __init__(self, name, balance):\n",
    "        self.name = name\n",
    "        self.balance = balance\n",
    "\n",
    "        self.bank = 'SC은행'\n",
    "        # 계좌번호 만들기\n",
    "        num1 = random.randint(0,999)\n",
    "        num2 = random.randint(0,99)\n",
    "        num3 = random.randint(0,999999)\n",
    "\n",
    "        num1 = str(num1).zfill(3)\n",
    "        num2 = str(num2).zfill(2)\n",
    "        num3 = str(num3).zfill(6)\n",
    "\n",
    "        self.account_num = num1 + '-' + num2 + '-' + num3\n",
    "\n",
    "\n",
    "kim = Account('김민수', 100)\n",
    "\n",
    "print(kim.name)\n",
    "print(kim.balance)\n",
    "print(kim.bank)\n",
    "print(kim.account_num)\n",
    "print(type(kim.account_num))"
   ]
  },
  {
   "cell_type": "markdown",
   "metadata": {},
   "source": [
    "### 272 클래스 변수\n",
    "클래스 변수를 사용해서 Account 클래스로부터 생성된 계좌 객체의 개수를 저장하세요."
   ]
  },
  {
   "cell_type": "code",
   "execution_count": 14,
   "metadata": {},
   "outputs": [
    {
     "name": "stdout",
     "output_type": "stream",
     "text": [
      "1\n",
      "2\n"
     ]
    }
   ],
   "source": [
    "import random\n",
    "\n",
    "class Account():\n",
    "\n",
    "    # class 변수 만들기\n",
    "    account_count = 0\n",
    "\n",
    "    def __init__(self, name, balance):\n",
    "        self.name = name\n",
    "        self.balance = balance\n",
    "\n",
    "        self.bank = 'SC은행'\n",
    "        num1 = random.randint(0,999)\n",
    "        num2 = random.randint(0,99)\n",
    "        num3 = random.randint(0,999999)\n",
    "\n",
    "        num1 = str(num1).zfill(3)\n",
    "        num2 = str(num2).zfill(2)\n",
    "        num3 = str(num3).zfill(6)\n",
    "\n",
    "        self.account_num = num1 + '-' + num2 + '-' + num3\n",
    "\n",
    "        # class 변수값에 class 사용시 1회 추가\n",
    "        Account.account_count += 1\n",
    "\n",
    "\n",
    "kim = Account('김민수', 100)\n",
    "print(Account.account_count)\n",
    "\n",
    "lee = Account('이용주', 200)\n",
    "print(Account.account_count)"
   ]
  },
  {
   "cell_type": "markdown",
   "metadata": {},
   "source": [
    "### 273 클래스 변수 출력\n",
    "Account 클래스로부터 생성된 계좌의 개수를 출력하는 get_account_num() 메서드를 추가하세요."
   ]
  },
  {
   "cell_type": "code",
   "execution_count": 17,
   "metadata": {},
   "outputs": [
    {
     "name": "stdout",
     "output_type": "stream",
     "text": [
      "2\n"
     ]
    }
   ],
   "source": [
    "import random\n",
    "\n",
    "class Account():\n",
    "\n",
    "    account_count = 0\n",
    "\n",
    "    def __init__(self, name, balance):\n",
    "        self.name = name\n",
    "        self.balance = balance\n",
    "\n",
    "        self.bank = 'SC은행'\n",
    "        num1 = random.randint(0,999)\n",
    "        num2 = random.randint(0,99)\n",
    "        num3 = random.randint(0,999999)\n",
    "\n",
    "        num1 = str(num1).zfill(3)\n",
    "        num2 = str(num2).zfill(2)\n",
    "        num3 = str(num3).zfill(6)\n",
    "\n",
    "        self.account_num = num1 + '-' + num2 + '-' + num3\n",
    "\n",
    "        Account.account_count += 1\n",
    "\n",
    "    @classmethod\n",
    "    def get_account_num(cls):\n",
    "        print(cls.account_count)\n",
    "\n",
    "kim = Account('김민수', 100)\n",
    "lee = Account('이용주', 200)\n",
    "\n",
    "# Account.get_account_num()\n",
    "\n",
    "kim.get_account_num()"
   ]
  },
  {
   "cell_type": "markdown",
   "metadata": {},
   "source": [
    "### 274 입금 메서드\n",
    "Account 클래스에 입금을 위한 deposit 메서드를 추가하세요. 입금은 최소 1원 이상만 가능합니다."
   ]
  },
  {
   "cell_type": "code",
   "execution_count": 18,
   "metadata": {},
   "outputs": [],
   "source": [
    "import random\n",
    "\n",
    "class Account():\n",
    "\n",
    "    account_count = 0\n",
    "\n",
    "    def __init__(self, name, balance):\n",
    "        self.name = name\n",
    "        self.balance = balance\n",
    "\n",
    "        self.bank = 'SC은행'\n",
    "        num1 = random.randint(0,999)\n",
    "        num2 = random.randint(0,99)\n",
    "        num3 = random.randint(0,999999)\n",
    "\n",
    "        num1 = str(num1).zfill(3)\n",
    "        num2 = str(num2).zfill(2)\n",
    "        num3 = str(num3).zfill(6)\n",
    "\n",
    "        self.account_num = num1 + '-' + num2 + '-' + num3\n",
    "\n",
    "        Account.account_count += 1\n",
    "\n",
    "    @classmethod\n",
    "    def get_account_num(cls):\n",
    "        print(cls.account_count)\n",
    "\n",
    "    def deposit(self, amount):\n",
    "        if amount >= 1:\n",
    "            self.balance += amount"
   ]
  },
  {
   "cell_type": "markdown",
   "metadata": {},
   "source": [
    "### 275 출금 메서드\n",
    "Account 클래스에 출금을 위한 withdraw 메서드를 추가하세요. 출금은 계좌의 잔고 이상으로 출금할 수는 없습니다."
   ]
  },
  {
   "cell_type": "code",
   "execution_count": 20,
   "metadata": {},
   "outputs": [
    {
     "name": "stdout",
     "output_type": "stream",
     "text": [
      "10\n"
     ]
    }
   ],
   "source": [
    "import random\n",
    "\n",
    "class Account():\n",
    "\n",
    "    account_count = 0\n",
    "\n",
    "    def __init__(self, name, balance):\n",
    "        self.name = name\n",
    "        self.balance = balance\n",
    "\n",
    "        self.bank = 'SC은행'\n",
    "        num1 = random.randint(0,999)\n",
    "        num2 = random.randint(0,99)\n",
    "        num3 = random.randint(0,999999)\n",
    "\n",
    "        num1 = str(num1).zfill(3)\n",
    "        num2 = str(num2).zfill(2)\n",
    "        num3 = str(num3).zfill(6)\n",
    "\n",
    "        self.account_num = num1 + '-' + num2 + '-' + num3\n",
    "\n",
    "        Account.account_count += 1\n",
    "\n",
    "    @classmethod\n",
    "    def get_account_num(cls):\n",
    "        print(cls.account_count)\n",
    "\n",
    "    def deposit(self, amount):\n",
    "        if amount >= 1:\n",
    "            self.balance += amount\n",
    "    \n",
    "    def withdrow(self, amount):\n",
    "        if self.balance > amount :    \n",
    "            self.balance -= amount\n",
    "\n",
    "k = Account('kim',100)\n",
    "k.withdrow(90)\n",
    "\n",
    "print(k.balance)"
   ]
  },
  {
   "cell_type": "code",
   "execution_count": 21,
   "metadata": {},
   "outputs": [
    {
     "name": "stdout",
     "output_type": "stream",
     "text": [
      "110\n"
     ]
    }
   ],
   "source": [
    "k.deposit(100)\n",
    "print(k.balance)"
   ]
  },
  {
   "cell_type": "markdown",
   "metadata": {},
   "source": [
    "### 276 정보 출력 메서드\n",
    "Account 인스턴스에 저장된 정보를 출력하는 display_info() 메서드를 추가하세요. 잔고는 세자리마다 쉼표를 출력하세요.\n",
    "\n",
    "    은행이름: SC은행\n",
    "    예금주: 파이썬\n",
    "    계좌번호: 111-11-111111\n",
    "    잔고: 10,000원"
   ]
  },
  {
   "cell_type": "code",
   "execution_count": 23,
   "metadata": {},
   "outputs": [
    {
     "name": "stdout",
     "output_type": "stream",
     "text": [
      " 은행이름 : SC은행\n",
      " 예금주 : 파이썬\n",
      " 계좌번호 : 572-32-271664\n",
      " 잔고 : 10,000\n"
     ]
    }
   ],
   "source": [
    "import random\n",
    "\n",
    "class Account():\n",
    "\n",
    "    account_count = 0\n",
    "\n",
    "    def __init__(self, name, balance):\n",
    "        self.name = name\n",
    "        self.balance = balance\n",
    "\n",
    "        self.bank = 'SC은행'\n",
    "        num1 = random.randint(0,999)\n",
    "        num2 = random.randint(0,99)\n",
    "        num3 = random.randint(0,999999)\n",
    "\n",
    "        num1 = str(num1).zfill(3)\n",
    "        num2 = str(num2).zfill(2)\n",
    "        num3 = str(num3).zfill(6)\n",
    "\n",
    "        self.account_num = num1 + '-' + num2 + '-' + num3\n",
    "\n",
    "        Account.account_count += 1\n",
    "\n",
    "    @classmethod\n",
    "    def get_account_num(cls):\n",
    "        print(cls.account_count)\n",
    "\n",
    "    def deposit(self, amount):\n",
    "        if amount >= 1:\n",
    "            self.balance += amount\n",
    "    \n",
    "    def withdrow(self, amount):\n",
    "        if self.balance > amount :    \n",
    "            self.balance -= amount\n",
    "\n",
    "    def display_info(self):\n",
    "        print(' 은행이름 :',self.bank)\n",
    "        print(' 예금주 :',self.name)\n",
    "        print(' 계좌번호 :',self.account_num)\n",
    "        print(f' 잔고 : {self.balance:,}')\n",
    "\n",
    "p = Account('파이썬',10000)\n",
    "\n",
    "p.display_info()"
   ]
  },
  {
   "cell_type": "markdown",
   "metadata": {},
   "source": [
    "### 277 이자 지급하기\n",
    "입금 횟수가 5회가 될 때 잔고를 기준으로 1%의 이자가 잔고에 추가되도록 코드를 변경해보세요."
   ]
  },
  {
   "cell_type": "code",
   "execution_count": 24,
   "metadata": {},
   "outputs": [
    {
     "data": {
      "text/plain": [
       "50500.0"
      ]
     },
     "execution_count": 24,
     "metadata": {},
     "output_type": "execute_result"
    }
   ],
   "source": [
    "import random\n",
    "\n",
    "class Account():\n",
    "\n",
    "    account_count = 0\n",
    "\n",
    "    def __init__(self, name, balance):\n",
    "        self.name = name\n",
    "        self.balance = balance\n",
    "\n",
    "        # 입금 횟수 self 변수 만들기\n",
    "        self.deposit_count = 0\n",
    "\n",
    "        self.bank = 'SC은행'\n",
    "        \n",
    "        num1 = random.randint(0,999)\n",
    "        num2 = random.randint(0,99)\n",
    "        num3 = random.randint(0,999999)\n",
    "\n",
    "        num1 = str(num1).zfill(3)\n",
    "        num2 = str(num2).zfill(2)\n",
    "        num3 = str(num3).zfill(6)\n",
    "\n",
    "        self.account_num = num1 + '-' + num2 + '-' + num3\n",
    "\n",
    "        Account.account_count += 1\n",
    "\n",
    "    @classmethod\n",
    "    def get_account_num(cls):\n",
    "        print(cls.account_count)\n",
    "\n",
    "    def deposit(self, amount):\n",
    "        if amount >= 1:\n",
    "            self.balance += amount\n",
    "\n",
    "            # 입금 횟수 변수 변화값 만들기\n",
    "            self.deposit_count += 1\n",
    "            if self.deposit_count % 5 == 0:\n",
    "                # 이자 지급\n",
    "                self.balance = (self.balance * 1.01)\n",
    "    \n",
    "    def withdrow(self, amount):\n",
    "        if self.balance > amount :    \n",
    "            self.balance -= amount\n",
    "\n",
    "    def display_info(self):\n",
    "        print(' 은행이름 :',self.bank)\n",
    "        print(' 예금주 :',self.name)\n",
    "        print(' 계좌번호 :',self.account_num)\n",
    "        print(f' 잔고 : {self.balance:,}')\n",
    "    \n",
    "\n",
    "p = Account('파이썬',10000)\n",
    "\n",
    "# 입금 5번 하기\n",
    "p.deposit(10000)\n",
    "p.deposit(10000)\n",
    "p.deposit(10000)\n",
    "p.deposit(5000)\n",
    "p.deposit(5000)\n",
    "\n",
    "\n",
    "p.balance"
   ]
  },
  {
   "cell_type": "markdown",
   "metadata": {},
   "source": [
    "### 278 여러 객체 생성\n",
    "Account 클래스로부터 3개 이상 인스턴스를 생성하고 생성된 인스턴스를 리스트에 저장해보세요."
   ]
  },
  {
   "cell_type": "code",
   "execution_count": 35,
   "metadata": {},
   "outputs": [
    {
     "name": "stdout",
     "output_type": "stream",
     "text": [
      "[<__main__.Account object at 0x000001E06A10DDF0>, <__main__.Account object at 0x000001E06B3C99D0>, <__main__.Account object at 0x000001E06B3C9FA0>]\n"
     ]
    }
   ],
   "source": [
    "data = []\n",
    "kim = Account('김민수', 10005000 )\n",
    "lee = Account('이지훈', 6000 )\n",
    "bak = Account('박상중', 15000 )\n",
    "\n",
    "data.append(kim)\n",
    "data.append(lee)\n",
    "data.append(bak)\n",
    "\n",
    "print(data)"
   ]
  },
  {
   "cell_type": "code",
   "execution_count": 36,
   "metadata": {},
   "outputs": [
    {
     "name": "stdout",
     "output_type": "stream",
     "text": [
      "SC은행 818-50-368938 김민수 10,005,000원\n",
      "SC은행 047-99-255698 이지훈 6,000원\n",
      "SC은행 919-45-794823 박상중 15,000원\n"
     ]
    }
   ],
   "source": [
    "for i in data:\n",
    "    print(i.bank, i.account_num,i.name, f'{i.balance:,}원')"
   ]
  },
  {
   "cell_type": "markdown",
   "metadata": {},
   "source": [
    "### 279 객체 순회\n",
    "반복문을 통해 리스트에 있는 객체를 순회하면서 잔고가 100만원 이상인 고객의 정보만 출력하세요."
   ]
  },
  {
   "cell_type": "code",
   "execution_count": 39,
   "metadata": {},
   "outputs": [
    {
     "name": "stdout",
     "output_type": "stream",
     "text": [
      " 은행이름 : SC은행\n",
      " 예금주 : 김민수\n",
      " 계좌번호 : 818-50-368938\n",
      " 잔고 : 10,005,000\n"
     ]
    }
   ],
   "source": [
    "for c in data:\n",
    "    if c.balance >= 10000000:\n",
    "        c.display_info()"
   ]
  },
  {
   "cell_type": "markdown",
   "metadata": {},
   "source": [
    "### 280 입출금 내역\n",
    "입금과 출금 내역이 기록되도록 코드를 업데이트 하세요. 입금 내역과 출금 내역을 출력하는 deposit_history와 withdraw_history 메서드를 추가하세요."
   ]
  },
  {
   "cell_type": "code",
   "execution_count": 48,
   "metadata": {},
   "outputs": [
    {
     "name": "stdout",
     "output_type": "stream",
     "text": [
      "10000\n",
      "10000\n",
      "10000\n",
      "5000\n",
      "5000\n",
      "50000\n",
      "5000\n",
      "4000\n",
      "10000\n",
      "500\n"
     ]
    }
   ],
   "source": [
    "import random\n",
    "\n",
    "class Account():\n",
    "\n",
    "    account_count = 0\n",
    "\n",
    "    def __init__(self, name, balance):\n",
    "        self.name = name\n",
    "        self.balance = balance\n",
    "\n",
    "        self.deposit_count = 0\n",
    "        self.bank = 'SC은행'\n",
    "        \n",
    "        # 입금, 출금 기록 변수 만들기\n",
    "        self.deposit_log = []\n",
    "        self.withdrow_log = []\n",
    "\n",
    "        num1 = random.randint(0,999)\n",
    "        num2 = random.randint(0,99)\n",
    "        num3 = random.randint(0,999999)\n",
    "        num1 = str(num1).zfill(3)\n",
    "        num2 = str(num2).zfill(2)\n",
    "        num3 = str(num3).zfill(6)\n",
    "\n",
    "        self.account_num = num1 + '-' + num2 + '-' + num3\n",
    "        Account.account_count += 1\n",
    "\n",
    "    @classmethod\n",
    "    def get_account_num(cls):\n",
    "        print(cls.account_count)\n",
    "\n",
    "    def deposit(self, amount):\n",
    "        if amount >= 1:\n",
    "            # 입금 내용 기록 추가하기\n",
    "            self.deposit_log.append(amount)\n",
    "\n",
    "            self.balance += amount\n",
    "            self.deposit_count += 1\n",
    "            if self.deposit_count % 5 == 0:\n",
    "                self.balance = (self.balance * 1.01)\n",
    "    \n",
    "    def withdrow(self, amount):\n",
    "        if self.balance > amount :\n",
    "            \n",
    "            # 입금 내용 기록 추가하기\n",
    "            self.withdrow_log.append(amount)    \n",
    "            \n",
    "            self.balance -= amount\n",
    "\n",
    "    def display_info(self):\n",
    "        print(' 은행이름 :',self.bank)\n",
    "        print(' 예금주 :',self.name)\n",
    "        print(' 계좌번호 :',self.account_num)\n",
    "        print(f' 잔고 : {self.balance:,}')\n",
    "    \n",
    "    # 출금, 입금 기록 저장 메소드 만들기\n",
    "    def withdraw_history(self):\n",
    "        for amount in self.withdrow_log:\n",
    "            print(amount)\n",
    "\n",
    "    def deposit_history(self):\n",
    "        for amount in self.deposit_log:\n",
    "            print(amount)\n",
    "\n",
    "\n",
    "p = Account('파이썬',10000)\n",
    "\n",
    "# 입금 5번 하기\n",
    "p.deposit(10000)\n",
    "p.deposit(10000)\n",
    "p.deposit(10000)\n",
    "p.deposit(5000)\n",
    "p.deposit(5000)\n",
    "p.deposit(50000)\n",
    "\n",
    "p.deposit_history()\n",
    "\n",
    "\n",
    "p.withdrow(5000)\n",
    "p.withdrow(4000)\n",
    "p.withdrow(10000)\n",
    "p.withdrow(500)\n",
    "\n",
    "p.withdraw_history()"
   ]
  },
  {
   "cell_type": "markdown",
   "metadata": {},
   "source": [
    "### 281 클래스 정의\n",
    "다음 코드가 동작하도록 차 클래스를 정의하세요.\n",
    "\n",
    ">> car = 차(2, 1000)\n",
    "\n",
    ">> car.바퀴\n",
    "\n",
    "2\n",
    "\n",
    ">> car.가격\n",
    "\n",
    "1000"
   ]
  },
  {
   "cell_type": "code",
   "execution_count": 14,
   "metadata": {},
   "outputs": [
    {
     "name": "stdout",
     "output_type": "stream",
     "text": [
      "2\n",
      "1000\n"
     ]
    }
   ],
   "source": [
    "class 차():\n",
    "    def __init__(self, 바퀴, 가격):\n",
    "        self.바퀴 = 바퀴\n",
    "        self.가격 = 가격\n",
    "\n",
    "car = 차(2, 1000)\n",
    "\n",
    "print(car.바퀴)\n",
    "print(car.가격)"
   ]
  },
  {
   "cell_type": "markdown",
   "metadata": {},
   "source": [
    "### 282 클래스 상속\n",
    "차 클래스를 상속받은 자전차 클래스를 정의하세요."
   ]
  },
  {
   "cell_type": "code",
   "execution_count": 15,
   "metadata": {},
   "outputs": [],
   "source": [
    "class 자전차(차):\n",
    "    pass"
   ]
  },
  {
   "cell_type": "markdown",
   "metadata": {},
   "source": [
    "### 283 클래스 상속\n",
    "다음 코드가 동작하도록 자전차 클래스를 정의하세요. 단 자전차 클래스는 차 클래스를 상속받습니다.\n",
    "\n",
    ">> bicycle = 자전차(2, 100)\n",
    "\n",
    ">> bicycle.가격\n",
    "\n",
    "100"
   ]
  },
  {
   "cell_type": "code",
   "execution_count": 16,
   "metadata": {},
   "outputs": [
    {
     "data": {
      "text/plain": [
       "100"
      ]
     },
     "execution_count": 16,
     "metadata": {},
     "output_type": "execute_result"
    }
   ],
   "source": [
    "class 차:\n",
    "    def __init__(self, 바퀴, 가격):\n",
    "        self.바퀴 = 바퀴\n",
    "        self.가격 = 가격\n",
    "\n",
    "\n",
    "class 자전차(차):\n",
    "    def __init__(self, 바퀴, 가격):\n",
    "        self.바퀴 = 바퀴\n",
    "        self.가격 = 가격\n",
    "        \n",
    "bicycle = 자전차(2,100)\n",
    "\n",
    "bicycle.가격"
   ]
  },
  {
   "cell_type": "markdown",
   "metadata": {},
   "source": [
    "### 284 클래스 상속\n",
    "다음 코드가 동작하도록 자전차 클래스를 정의하세요. 단 자전차 클래스는 차 클래스를 상속받습니다.\n",
    "\n",
    ">> bicycle = 자전차(2, 100, \"시마노\")\n",
    "\n",
    ">> bicycle.구동계\n",
    "\n",
    "시마노"
   ]
  },
  {
   "cell_type": "code",
   "execution_count": 30,
   "metadata": {},
   "outputs": [
    {
     "name": "stdout",
     "output_type": "stream",
     "text": [
      "시마노\n",
      "2\n"
     ]
    }
   ],
   "source": [
    "class 차:\n",
    "    def __init__(self, 바퀴, 가격):\n",
    "        self.바퀴 = 바퀴\n",
    "        self.가격 = 가격\n",
    "\n",
    "\n",
    "class 자전차(차):\n",
    "    def __init__(self, 바퀴, 가격, 구동계):\n",
    "        super().__init__(바퀴, 가격)\n",
    "        # 차.__init__(self, 바퀴, 가격) :\n",
    "        # 부모 class의 내용을 가져오는 방법\n",
    "\n",
    "        self.구동계 = 구동계\n",
    "\n",
    "\n",
    "bicycle = 자전차(2, 100, \"시마노\")\n",
    "print(bicycle.구동계)\n",
    "print(bicycle.바퀴)"
   ]
  },
  {
   "cell_type": "markdown",
   "metadata": {},
   "source": [
    "### 285 클래스 상속\n",
    "다음 코드가 동작하도록 차 클래스를 상속받는 자동차 클래스를 정의하세요.\n",
    "\n",
    ">> car = 자동차(4, 1000)\n",
    "\n",
    ">> car.정보()\n",
    "\n",
    "바퀴수 4\n",
    "\n",
    "가격 1000"
   ]
  },
  {
   "cell_type": "code",
   "execution_count": 21,
   "metadata": {},
   "outputs": [
    {
     "name": "stdout",
     "output_type": "stream",
     "text": [
      "바퀴수 4\n",
      "가격 1000\n"
     ]
    }
   ],
   "source": [
    "class 자동차(차):\n",
    "    def 정보(self):\n",
    "        print('바퀴수',self.바퀴)\n",
    "        print('가격',self.가격)\n",
    "        \n",
    "car = 자동차(4,1000)\n",
    "\n",
    "car.정보()"
   ]
  },
  {
   "cell_type": "code",
   "execution_count": 31,
   "metadata": {},
   "outputs": [
    {
     "name": "stdout",
     "output_type": "stream",
     "text": [
      "바퀴수  4\n",
      "가격  1000\n"
     ]
    }
   ],
   "source": [
    "class 차:\n",
    "    def __init__(self, 바퀴, 가격):\n",
    "        self.바퀴 = 바퀴\n",
    "        self.가격 = 가격\n",
    "\n",
    "\n",
    "class 자동차(차):\n",
    "    def __init__(self, 바퀴, 가격):\n",
    "        super().__init__(바퀴, 가격)\n",
    "\n",
    "    def 정보(self):\n",
    "        print(\"바퀴수 \", self.바퀴)\n",
    "        print(\"가격 \", self.가격)\n",
    "\n",
    "\n",
    "car = 자동차(4, 1000)\n",
    "car.정보()"
   ]
  },
  {
   "cell_type": "markdown",
   "metadata": {},
   "source": [
    "### 286 부모 클래스 생성자 호출\n",
    "다음 코드가 동작하도록 차 클래스를 수정하세요.\n",
    "\n",
    ">> bicycle = 자전차(2, 100, \"시마노\")\n",
    "\n",
    ">> bicycle.정보()\n",
    "\n",
    "바퀴수 2\n",
    "\n",
    "가격 100"
   ]
  },
  {
   "cell_type": "code",
   "execution_count": 22,
   "metadata": {},
   "outputs": [
    {
     "name": "stdout",
     "output_type": "stream",
     "text": [
      "바퀴수 2\n",
      "가격 100\n"
     ]
    }
   ],
   "source": [
    "class 차():\n",
    "    def __init__(self, 바퀴, 가격, 구동계):\n",
    "        self.바퀴 = 바퀴\n",
    "        self.가격 = 가격\n",
    "        self.구동계 = 구동계\n",
    "    \n",
    "class 자전차(차):\n",
    "    def 정보(self):\n",
    "        print('바퀴수',self.바퀴)\n",
    "        print('가격',self.가격)\n",
    "\n",
    "bicycle = 자전차(2,100,'시마노')\n",
    "\n",
    "bicycle.정보()"
   ]
  },
  {
   "cell_type": "markdown",
   "metadata": {},
   "source": [
    "### 287 부모 클래스 메서드 호출\n",
    "자전차의 정보() 메서드로 구동계 정보까지 출력하도록 수정해보세요.\n",
    "\n",
    ">> bicycle = 자전차(2, 100, \"시마노\")\n",
    "\n",
    ">> bicycle.정보()\n",
    "\n",
    "바퀴수 2\n",
    "\n",
    "가격 100\n",
    "\n",
    "구동계 시마노"
   ]
  },
  {
   "cell_type": "code",
   "execution_count": 23,
   "metadata": {},
   "outputs": [
    {
     "name": "stdout",
     "output_type": "stream",
     "text": [
      "바퀴수 2\n",
      "가격 100\n",
      "구동계 시마노\n"
     ]
    }
   ],
   "source": [
    "class 자전차(차):\n",
    "    def 정보(self):\n",
    "        print('바퀴수',self.바퀴)\n",
    "        print('가격',self.가격)\n",
    "        print('구동계',self.구동계)\n",
    "\n",
    "bicycle = 자전차(2,100,'시마노')\n",
    "\n",
    "bicycle.정보()"
   ]
  },
  {
   "cell_type": "markdown",
   "metadata": {},
   "source": [
    "### 288 메서드 오버라이딩\n",
    "다음 코드의 실행 결과를 예상해보세요.\n",
    "\n",
    "    class 부모:\n",
    "        def 호출(self):\n",
    "            print(\"부모호출\")\n",
    "\n",
    "    class 자식(부모):\n",
    "        def 호출(self):\n",
    "            print(\"자식호출\")\n",
    "\n",
    "    나 = 자식()\n",
    "    나.호출()"
   ]
  },
  {
   "cell_type": "code",
   "execution_count": 25,
   "metadata": {},
   "outputs": [
    {
     "name": "stdout",
     "output_type": "stream",
     "text": [
      "자식호출\n"
     ]
    }
   ],
   "source": [
    "# '자식호출'\n",
    "\n",
    "class 부모:\n",
    "    def 호출(self):\n",
    "        print(\"부모호출\")\n",
    "\n",
    "class 자식(부모):\n",
    "    def 호출(self):\n",
    "        print(\"자식호출\")\n",
    "\n",
    "나 = 자식()\n",
    "나.호출()"
   ]
  },
  {
   "cell_type": "markdown",
   "metadata": {},
   "source": [
    "### 289 생성자\n",
    "다음 코드의 실행 결과를 예상해보세요.\n",
    "\n",
    "    class 부모:\n",
    "        def __init__(self):\n",
    "            print(\"부모생성\")\n",
    "\n",
    "    class 자식(부모):\n",
    "        def __init__(self):\n",
    "            print(\"자식생성\")\n",
    "\n",
    "    나 = 자식()"
   ]
  },
  {
   "cell_type": "code",
   "execution_count": 27,
   "metadata": {},
   "outputs": [
    {
     "name": "stdout",
     "output_type": "stream",
     "text": [
      "자식생성\n"
     ]
    }
   ],
   "source": [
    "# 자식생성\n",
    "\n",
    "class 부모:\n",
    "    def __init__(self):\n",
    "        print(\"부모생성\")\n",
    "\n",
    "class 자식(부모):\n",
    "    def __init__(self):\n",
    "        print(\"자식생성\")\n",
    "\n",
    "나 = 자식()"
   ]
  },
  {
   "cell_type": "markdown",
   "metadata": {},
   "source": [
    "### 290 부모클래스 생성자 호출\n",
    "다음 코드의 실행 결과를 예상해보세요.\n",
    "\n",
    "    class 부모:\n",
    "        def __init__(self):\n",
    "            print(\"부모생성\")\n",
    "\n",
    "    class 자식(부모):\n",
    "        def __init__(self):\n",
    "            print(\"자식생성\")\n",
    "            super().__init__()\n",
    "\n",
    "    나 = 자식()"
   ]
  },
  {
   "cell_type": "code",
   "execution_count": 29,
   "metadata": {},
   "outputs": [
    {
     "name": "stdout",
     "output_type": "stream",
     "text": [
      "자식생성\n",
      "부모생성\n"
     ]
    }
   ],
   "source": [
    "# 자식생성\n",
    "# 부모생성\n",
    "\n",
    "\n",
    "class 부모:\n",
    "    def __init__(self):\n",
    "        print(\"부모생성\")\n",
    "\n",
    "class 자식(부모):\n",
    "    def __init__(self):\n",
    "        print(\"자식생성\")\n",
    "        super().__init__()\n",
    "        # 부모클래스 생성자 호출\n",
    "        # self는 생략 가능\n",
    "\n",
    "나 = 자식()"
   ]
  },
  {
   "cell_type": "markdown",
   "metadata": {},
   "source": [
    "&nbsp;\n",
    "\n",
    "# **<span style=\"color:blue\">12. 파일 입출력과 예외처리</span>**\n",
    "\n",
    "-파이썬을 이용한 컴퓨터에 저장된 파일을 읽거나 반대로 파일을 쓸 수 있습니다. 프로그램을 작성하다보면 예외가 발생할 수 있는데 이를 잘 처리하는 것이 중요합니다.\n",
    "\n",
    "&nbsp;"
   ]
  },
  {
   "cell_type": "markdown",
   "metadata": {},
   "source": [
    "### 291 파일 쓰기\n",
    "바탕화면에 '매수종목1.txt' 파일을 생성한 후 다음과 같이 종목코드를 파일에 써보세요.\n",
    "\n",
    "    005930\n",
    "    005380\n",
    "    035420"
   ]
  },
  {
   "cell_type": "code",
   "execution_count": 6,
   "metadata": {},
   "outputs": [],
   "source": [
    "f = open('./매수종목1.txt', mode='wt',encoding='utf-8')\n",
    "# 파일경로, 모드(쓰기), 한글작성시 인코딩\n",
    "# f = open('.\\\\매수종목1.txt')  \\\\ 이나 / 으로 경로 설정\n",
    "\n",
    "f.write('005930\\n005380\\n035420')\n",
    "\n",
    "f.close()\n",
    "# 꼭 파일을 닫아주어야 한다"
   ]
  },
  {
   "cell_type": "markdown",
   "metadata": {},
   "source": [
    "### 292 파일 쓰기\n",
    "바탕화면에 '매수종목2.txt' 파일을 생성한 후 다음과 같이 종목코드와 종목명을 파일에 써보세요.\n",
    "\n",
    "    005930 삼성전자\n",
    "    005380 현대차\n",
    "    035420 NAVER"
   ]
  },
  {
   "cell_type": "code",
   "execution_count": 7,
   "metadata": {},
   "outputs": [],
   "source": [
    "f = open('./매수종목2.txt', mode='wt',encoding='utf-8')\n",
    "\n",
    "f.write('005930 삼성전자\\n005380 현대차\\n035420 NAVER')\n",
    "\n",
    "f.close()"
   ]
  },
  {
   "cell_type": "markdown",
   "metadata": {},
   "source": [
    "### 293 CSV 파일 쓰기\n",
    "바탕화면에 '매수종목.csv' 파일을 생성한 후 다음과 같이 종목코드와 종목명을 파일에 써보세요. 인코딩은 'cp949'를 사용해야합니다.\n",
    "\n",
    "![](2024-03-29-05-18-07.png)"
   ]
  },
  {
   "cell_type": "code",
   "execution_count": 16,
   "metadata": {},
   "outputs": [],
   "source": [
    "import csv\n",
    "\n",
    "f = open('./매수종목.csv', mode='wt',encoding='cp949',newline='')\n",
    "\n",
    "writer = csv.writer(f)\n",
    "\n",
    "writer.writerow(['종목명','종목코드','PER'])\n",
    "writer.writerow(['삼성전자','005930',15.79])\n",
    "writer.writerow(['NAVER','035420',55.82])\n",
    "\n",
    "f.close()"
   ]
  },
  {
   "cell_type": "markdown",
   "metadata": {},
   "source": [
    "### 294 파일 읽기\n",
    "바탕화면에 생성한 '매수종목1.txt' 파일을 읽은 후 종목코드를 리스트에 저장해보세요.\n",
    "\n",
    "    005930\n",
    "    005380\n",
    "    035420"
   ]
  },
  {
   "cell_type": "code",
   "execution_count": 22,
   "metadata": {},
   "outputs": [
    {
     "name": "stdout",
     "output_type": "stream",
     "text": [
      "['005930\\n', '005380\\n', '035420']\n",
      "['005930', '005380', '035420']\n"
     ]
    }
   ],
   "source": [
    "f = open('./매수종목1.txt', mode='rt', encoding='utf-8')\n",
    "\n",
    "lines = f.readlines()\n",
    "# 그대로 읽으면 \\n이 표시\n",
    "\n",
    "codes = []\n",
    "\n",
    "for line in lines:\n",
    "    code = line.strip()\n",
    "    # 줄바꿈 기호 제거\n",
    "    \n",
    "    codes.append(code)\n",
    "    # 제거된 코드를 codes 리스트에 추가\n",
    "    \n",
    "print(lines)\n",
    "print(codes)\n",
    "\n",
    "f.close()"
   ]
  },
  {
   "cell_type": "markdown",
   "metadata": {},
   "source": [
    "### 295 파일 읽기\n",
    "바탕화면에 생성한 '매수종목2.txt' 파일을 읽은 후 종목코드와 종목명을 딕셔너리로 저장해보세요. 종목명을 key로 종목명을 value로 저장합니다.\n",
    "\n",
    "    005930 삼성전자\n",
    "    005380 현대차\n",
    "    035420 NAVER"
   ]
  },
  {
   "cell_type": "code",
   "execution_count": 29,
   "metadata": {},
   "outputs": [
    {
     "name": "stdout",
     "output_type": "stream",
     "text": [
      "005930 삼성전자\n",
      "005380 현대차\n",
      "035420 NAVER\n",
      "{'005930': '삼성전자', '005380': '현대차', '035420': 'NAVER'}\n"
     ]
    }
   ],
   "source": [
    "f = open('./매수종목2.txt', encoding='utf-8')\n",
    "# 읽을때는 mode를 지정 안해도 된다\n",
    "\n",
    "lines = f.readlines()\n",
    "\n",
    "data = {}\n",
    "for line in lines:\n",
    "    line = line.strip()\n",
    "    # 줄바꿈 기호 제거\n",
    "\n",
    "    k, v = line.split()\n",
    "    # 빈칸을 기준으로 key, value로 각각 나눠서 저장\n",
    "\n",
    "    print(k,v)\n",
    "    # key 값과, value 값으로 각각 저장됨\n",
    "\n",
    "    data[k] = v\n",
    "    # 딕셔녀리로 저장\n",
    "    # 딕셔너리 이름 [key] = value\n",
    "\n",
    "print(data)\n",
    "f.close()"
   ]
  },
  {
   "cell_type": "markdown",
   "metadata": {},
   "source": [
    "### 296 예외처리 - try, except\n",
    "문자열 PER (Price to Earning Ratio) 값을 실수로 변환할 때 에러가 발생합니다. 예외처리를 통해 에러가 발생하는 PER은 0으로 출력하세요.\n",
    "\n",
    "    per = [\"10.31\", \"\", \"8.00\"]\n",
    "\n",
    "    for i in per:\n",
    "        print(float(i))"
   ]
  },
  {
   "cell_type": "code",
   "execution_count": 31,
   "metadata": {},
   "outputs": [
    {
     "name": "stdout",
     "output_type": "stream",
     "text": [
      "10.31\n",
      "0\n",
      "8.0\n"
     ]
    }
   ],
   "source": [
    "per = [\"10.31\", \"\", \"8.00\"]\n",
    "\n",
    "for i in per:\n",
    "    try:                # 일단 시도 하다가...\n",
    "        print(float(i))\n",
    "\n",
    "    except:             # 에러가 발생하면 0을 출력\n",
    "        print(0)"
   ]
  },
  {
   "cell_type": "markdown",
   "metadata": {},
   "source": [
    "### 297 예외처리 및 리스트에 저장\n",
    "문자열로 표현된 PER 값을 실수로 변환한 후 이를 새로운 리스트에 저장해보세요.\n",
    "\n",
    "    per = [\"10.31\", \"\", \"8.00\"]\n",
    "\n",
    "    for i in per:\n",
    "        print(float(i))"
   ]
  },
  {
   "cell_type": "code",
   "execution_count": 33,
   "metadata": {},
   "outputs": [
    {
     "name": "stdout",
     "output_type": "stream",
     "text": [
      "[10.31, 0, 8.0]\n"
     ]
    }
   ],
   "source": [
    "per = [\"10.31\", \"\", \"8.00\"]\n",
    "\n",
    "new_per = []\n",
    "# 빈 리스트 만들기\n",
    "\n",
    "for i in per:\n",
    "    try:                # per 값을 실수형으로 변환\n",
    "        v = float(i)\n",
    "    except:             # 에러가 나면 0으로 변환\n",
    "        v = 0\n",
    "    new_per.append(v)   # 변환된 실수값을 새 리스트에 저장\n",
    "\n",
    "print(new_per)    "
   ]
  },
  {
   "cell_type": "markdown",
   "metadata": {},
   "source": [
    "### 298 특정 예외만 처리하기\n",
    "어떤 값을 0으로 나누면 ZeroDivisionError 에러가 발생합니다. try ~ except로 모든 에러에 대해 예외처리하지 말고 ZeroDivisionError 에러만 예외처리해보세요."
   ]
  },
  {
   "cell_type": "code",
   "execution_count": 34,
   "metadata": {},
   "outputs": [
    {
     "name": "stdout",
     "output_type": "stream",
     "text": [
      "ZeroDivisionError\n"
     ]
    }
   ],
   "source": [
    "try:\n",
    "    a = 3 / 0\n",
    "except ZeroDivisionError:\n",
    "    print('ZeroDivisionError')\n",
    "\n",
    "# ZeroDivisionError 에러만 예외처리되고\n",
    "# 나머지는 에러가 난다"
   ]
  },
  {
   "cell_type": "markdown",
   "metadata": {},
   "source": [
    "### 299 예외의 메시지 출력하기\n",
    "다음과 같은 코드 구조를 사용하면 예외 발생 시 에러 메시지를 변수로 바인딩할 수 있습니다.\n",
    "\n",
    "&nbsp;\n",
    "\n",
    "    try:\n",
    "        실행코드\n",
    "    except 예외 as 변수:\n",
    "        예외처리코드 \n",
    "\n",
    "&nbsp;\n",
    "\n",
    "리스트의 인덱싱에 대해 에러를 출력해보세요.\n",
    "\n",
    "&nbsp;\n",
    "\n",
    "    data = [1, 2, 3]\n",
    "\n",
    "    for i in range(5):\n",
    "        print(data[i])\n",
    "\n",
    "&nbsp;\n"
   ]
  },
  {
   "cell_type": "code",
   "execution_count": 37,
   "metadata": {},
   "outputs": [
    {
     "name": "stdout",
     "output_type": "stream",
     "text": [
      "1\n",
      "2\n",
      "3\n",
      "인덱스 에러\n",
      "list index out of range\n",
      "인덱스 에러\n",
      "list index out of range\n"
     ]
    }
   ],
   "source": [
    "data = [1, 2, 3]\n",
    "\n",
    "for i in range(5):\n",
    "    try:\n",
    "        print(data[i])\n",
    "    \n",
    "    except IndexError as e :\n",
    "        # IndexError가 발생시 에러코드를 e에 저장\n",
    "        print('인덱스 에러')\n",
    "        print(e)\n",
    "        # 저장된 에러코드 출력"
   ]
  },
  {
   "cell_type": "markdown",
   "metadata": {},
   "source": [
    "### 300 try, except, else, finally 구조 사용해보기\n",
    "파이썬 예외처리는 다음과 같은 구조를 가질 수 있습니다.\n",
    "\n",
    "&nbsp;\n",
    "\n",
    "    try:\n",
    "        실행 코드\n",
    "    except:\n",
    "        예외가 발생했을 때 수행할 코드\n",
    "    else:\n",
    "        예외가 발생하지 않았을 때 수행할 코드\n",
    "    finally:\n",
    "        예외 발생 여부와 상관없이 항상 수행할 코드\n",
    "\n",
    "&nbsp;\n",
    "\n",
    "아래의 코드에 대해서 예외처리를 사용하고 try, except, else, finally에 적당한 코드를 작성해봅시다. else와 finally는 적당한 문구를 print하시면 됩니다.\n",
    "\n",
    "&nbsp;\n",
    "\n",
    "    per = [\"10.31\", \"\", \"8.00\"]\n",
    "\n",
    "    for i in per:\n",
    "        print(float(i))\n",
    "\n",
    "&nbsp;\n"
   ]
  },
  {
   "cell_type": "code",
   "execution_count": 41,
   "metadata": {},
   "outputs": [
    {
     "name": "stdout",
     "output_type": "stream",
     "text": [
      "변환값 :  10.31\n",
      "clean data\n",
      "변환 완료\n",
      "변환값 :  0\n",
      "error data\n",
      "변환 완료\n",
      "변환값 :  8.0\n",
      "clean data\n",
      "변환 완료\n"
     ]
    }
   ],
   "source": [
    "per = [\"10.31\", \"\", \"8.00\"]\n",
    "\n",
    "for i in per:\n",
    "    try:\n",
    "        print('변환값 : ',float(i))\n",
    "    except:\n",
    "        print('변환값 : ', 0)\n",
    "        print('error data')\n",
    "    else:\n",
    "        print('clean data')\n",
    "    finally:\n",
    "        print('변환 완료')"
   ]
  }
 ],
 "metadata": {
  "kernelspec": {
   "display_name": "Python 3.10.9 ('base')",
   "language": "python",
   "name": "python3"
  },
  "language_info": {
   "codemirror_mode": {
    "name": "ipython",
    "version": 3
   },
   "file_extension": ".py",
   "mimetype": "text/x-python",
   "name": "python",
   "nbconvert_exporter": "python",
   "pygments_lexer": "ipython3",
   "version": "3.9.13"
  },
  "orig_nbformat": 4,
  "vscode": {
   "interpreter": {
    "hash": "57bc2b6ce032b5f0e93daa91901b7ea38a856826ef43aa9e95b6d3999f5310df"
   }
  }
 },
 "nbformat": 4,
 "nbformat_minor": 2
}
