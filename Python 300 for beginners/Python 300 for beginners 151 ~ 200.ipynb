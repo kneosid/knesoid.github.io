{
 "cells": [
  {
   "cell_type": "markdown",
   "metadata": {},
   "source": [
    "### 151\n",
    "\n",
    "리스트에는 네 개의 정수가 저장돼 있다.\n",
    "\n",
    "    리스트 = [3, -20, -3, 44]\n",
    "\n",
    "for문을 사용해서 리스트의 음수를 출력하라.\n",
    "\n",
    "-20\n",
    "\n",
    "-3"
   ]
  },
  {
   "cell_type": "code",
   "execution_count": 9,
   "metadata": {},
   "outputs": [
    {
     "name": "stdout",
     "output_type": "stream",
     "text": [
      "-20\n",
      "-3\n"
     ]
    }
   ],
   "source": [
    "data = [3, -20, -3, 44]\n",
    "\n",
    "for i in data:      # 반복문\n",
    "    if i < 0:       # 조건문 \n",
    "        print(i)"
   ]
  },
  {
   "cell_type": "markdown",
   "metadata": {},
   "source": [
    "### 152\n",
    "for문을 사용해서 3의 배수만을 출력하라.\n",
    "\n",
    "    리스트 = [3, 100, 23, 44]\n",
    "\n",
    "3"
   ]
  },
  {
   "cell_type": "code",
   "execution_count": 11,
   "metadata": {},
   "outputs": [
    {
     "name": "stdout",
     "output_type": "stream",
     "text": [
      "3\n"
     ]
    }
   ],
   "source": [
    "data = [3, 100, 23, 44]\n",
    "\n",
    "for i in data:\n",
    "    if i % 3 == 0 :\n",
    "        print(i)"
   ]
  },
  {
   "cell_type": "markdown",
   "metadata": {},
   "source": [
    "### 153\n",
    "리스트에서 20 보다 작은 3의 배수를 출력하라\n",
    "\n",
    "    리스트 = [13, 21, 12, 14, 30, 18]\n",
    "\n",
    "12\n",
    "\n",
    "18"
   ]
  },
  {
   "cell_type": "code",
   "execution_count": 14,
   "metadata": {},
   "outputs": [
    {
     "name": "stdout",
     "output_type": "stream",
     "text": [
      "12\n",
      "18\n"
     ]
    }
   ],
   "source": [
    "data = [13, 21, 12, 14, 30, 18]\n",
    "\n",
    "for i in data:\n",
    "    if 20 > i and i % 3 == 0:\n",
    "        print(i)"
   ]
  },
  {
   "cell_type": "markdown",
   "metadata": {},
   "source": [
    "### 154\n",
    "리스트에서 세 글자 이상의 문자를 화면에 출력하라\n",
    "\n",
    "    리스트 = [\"I\", \"study\", \"python\", \"language\", \"!\"]\n",
    "\n",
    "study\n",
    "\n",
    "python\n",
    "\n",
    "language"
   ]
  },
  {
   "cell_type": "code",
   "execution_count": 22,
   "metadata": {},
   "outputs": [
    {
     "name": "stdout",
     "output_type": "stream",
     "text": [
      "study\n",
      "python\n",
      "language\n"
     ]
    }
   ],
   "source": [
    "data = [\"I\", \"study\", \"python\", \"language\", \"!\"]\n",
    "\n",
    "for i in data:\n",
    "    if len(i) >= 3:\n",
    "        print(i)"
   ]
  },
  {
   "cell_type": "markdown",
   "metadata": {},
   "source": [
    "### 155\n",
    "리스트에서 대문자만 화면에 출력하라.\n",
    "\n",
    "    리스트 = [\"A\", \"b\", \"c\", \"D\"]\n",
    "\n",
    "A\n",
    "\n",
    "D\n",
    "\n",
    "(참고) isupper() 메서드는 대문자 여부를 판별합니다.\n",
    "\n",
    ">> 변수 = \"A\"\n",
    "\n",
    ">> 변수.isupper()\n",
    "\n",
    "True\n",
    "\n",
    ">> 변수 = \"a\"\n",
    "\n",
    ">> 변수.isupper()\n",
    "\n",
    "False"
   ]
  },
  {
   "cell_type": "code",
   "execution_count": 17,
   "metadata": {},
   "outputs": [
    {
     "name": "stdout",
     "output_type": "stream",
     "text": [
      "A\n",
      "D\n"
     ]
    }
   ],
   "source": [
    "data = [\"A\", \"b\", \"c\", \"D\"]\n",
    "\n",
    "for i in data:\n",
    "    if i.isupper():     # 대문자 구분\n",
    "        print(i)"
   ]
  },
  {
   "cell_type": "markdown",
   "metadata": {},
   "source": [
    "### 156\n",
    "리스트에서 소문자만 화면에 출력하라.\n",
    "\n",
    "    리스트 = [\"A\", \"b\", \"c\", \"D\"]\n",
    "\n",
    "b\n",
    "\n",
    "c"
   ]
  },
  {
   "cell_type": "code",
   "execution_count": 19,
   "metadata": {},
   "outputs": [
    {
     "name": "stdout",
     "output_type": "stream",
     "text": [
      "b\n",
      "c\n"
     ]
    }
   ],
   "source": [
    "data = [\"A\", \"b\", \"c\", \"D\"]\n",
    "\n",
    "for i in data:\n",
    "    if i.islower():     # 소문자 구분\n",
    "        print(i)"
   ]
  },
  {
   "cell_type": "markdown",
   "metadata": {},
   "source": [
    "### 157\n",
    "이름의 첫 글자를 대문자로 변경해서 출력하라.\n",
    "\n",
    "    리스트 = ['dog', 'cat', 'parrot']\n",
    "\n",
    "Dog\n",
    "\n",
    "Cat\n",
    "\n",
    "Parrot\n",
    "\n",
    "(참고) upper() 메서드는 문자열을 대문자로 변경합니다.\n",
    "\n",
    ">> 변수 = \"a\"\n",
    "\n",
    ">> a.upper()\n",
    "\n",
    "A\n",
    "\n",
    ">> 변수 = \"abc\"\n",
    "\n",
    ">> 변수.upper()\n",
    "\n",
    "ABC"
   ]
  },
  {
   "cell_type": "code",
   "execution_count": 23,
   "metadata": {},
   "outputs": [
    {
     "name": "stdout",
     "output_type": "stream",
     "text": [
      "Dog\n",
      "Cat\n",
      "Parrot\n"
     ]
    }
   ],
   "source": [
    "data =  ['dog', 'cat', 'parrot']\n",
    "\n",
    "\n",
    "for i in data:\n",
    "    print(i.capitalize())       # 첫글자만 대문자로 변경"
   ]
  },
  {
   "cell_type": "markdown",
   "metadata": {},
   "source": [
    "### 158\n",
    "파일 이름이 저장된 리스트에서 확장자를 제거하고 파일 이름만 화면에 출력하라. (힌트: split() 메서드)\n",
    "\n",
    "    리스트 = ['hello.py', 'ex01.py', 'intro.hwp']\n",
    "\n",
    "hello\n",
    "\n",
    "ex01\n",
    "\n",
    "intro"
   ]
  },
  {
   "cell_type": "code",
   "execution_count": 26,
   "metadata": {},
   "outputs": [
    {
     "name": "stdout",
     "output_type": "stream",
     "text": [
      "hello\n",
      "ex01\n",
      "intro\n"
     ]
    }
   ],
   "source": [
    "data = ['hello.py', 'ex01.py', 'intro.hwp']\n",
    "\n",
    "for i in data:\n",
    "    name,ext = i.split('.')     \n",
    "    # split 으로 . 기준으로 분리후 각각 변수에 대입\n",
    "    \n",
    "    print(name)"
   ]
  },
  {
   "cell_type": "markdown",
   "metadata": {},
   "source": [
    "### 159\n",
    "파일 이름이 저장된 리스트에서 확장자가 .h인 파일 이름을 출력하라.\n",
    "\n",
    "    리스트 = ['intra.h', 'intra.c', 'define.h', 'run.py']\n",
    "\n",
    "intra.h\n",
    "\n",
    "define.h"
   ]
  },
  {
   "cell_type": "code",
   "execution_count": 31,
   "metadata": {},
   "outputs": [
    {
     "name": "stdout",
     "output_type": "stream",
     "text": [
      "intra.h\n",
      "define.h\n"
     ]
    }
   ],
   "source": [
    "data = ['intra.h', 'intra.c', 'define.h', 'run.py']\n",
    "\n",
    "for i in data:\n",
    "    name, ext = i.split('.')\n",
    "    if ext == 'h':\n",
    "        print(i)"
   ]
  },
  {
   "cell_type": "code",
   "execution_count": 32,
   "metadata": {},
   "outputs": [
    {
     "name": "stdout",
     "output_type": "stream",
     "text": [
      "intra.h\n",
      "define.h\n"
     ]
    }
   ],
   "source": [
    "for i in data:\n",
    "    if i.endswith('.h'):\n",
    "        print(i)"
   ]
  },
  {
   "cell_type": "markdown",
   "metadata": {},
   "source": [
    "### 160\n",
    "파일 이름이 저장된 리스트에서 확장자가 .h나 .c인 파일을 화면에 출력하라.\n",
    "\n",
    "    리스트 = ['intra.h', 'intra.c', 'define.h', 'run.py']\n",
    "\n",
    "intra.h\n",
    "\n",
    "intra.c\n",
    "\n",
    "define.h"
   ]
  },
  {
   "cell_type": "code",
   "execution_count": 36,
   "metadata": {},
   "outputs": [
    {
     "name": "stdout",
     "output_type": "stream",
     "text": [
      "intra.h\n",
      "intra.c\n",
      "define.h\n"
     ]
    }
   ],
   "source": [
    "data = ['intra.h', 'intra.c', 'define.h', 'run.py']\n",
    "\n",
    "for i in data:\n",
    "    name, ext = i.split('.')\n",
    "    if ext == 'h' or ext == 'c':\n",
    "        print(i)"
   ]
  },
  {
   "cell_type": "code",
   "execution_count": 34,
   "metadata": {},
   "outputs": [
    {
     "name": "stdout",
     "output_type": "stream",
     "text": [
      "intra.h\n",
      "intra.c\n",
      "define.h\n"
     ]
    }
   ],
   "source": [
    "for i in data:\n",
    "    if i.endswith(('.h','.c')):\n",
    "        print(i)"
   ]
  },
  {
   "cell_type": "markdown",
   "metadata": {},
   "source": [
    "### 161\n",
    "for문과 range 구문을 사용해서 0~99까지 한 라인에 하나씩 순차적으로 출력하는 프로그램을 작성하라."
   ]
  },
  {
   "cell_type": "code",
   "execution_count": 56,
   "metadata": {},
   "outputs": [
    {
     "name": "stdout",
     "output_type": "stream",
     "text": [
      "0\n",
      "1\n",
      "2\n",
      "3\n",
      "4\n",
      "5\n",
      "6\n",
      "7\n",
      "8\n",
      "9\n",
      "10\n",
      "11\n",
      "12\n",
      "13\n",
      "14\n",
      "15\n",
      "16\n",
      "17\n",
      "18\n",
      "19\n",
      "20\n",
      "21\n",
      "22\n",
      "23\n",
      "24\n",
      "25\n",
      "26\n",
      "27\n",
      "28\n",
      "29\n",
      "30\n",
      "31\n",
      "32\n",
      "33\n",
      "34\n",
      "35\n",
      "36\n",
      "37\n",
      "38\n",
      "39\n",
      "40\n",
      "41\n",
      "42\n",
      "43\n",
      "44\n",
      "45\n",
      "46\n",
      "47\n",
      "48\n",
      "49\n",
      "50\n",
      "51\n",
      "52\n",
      "53\n",
      "54\n",
      "55\n",
      "56\n",
      "57\n",
      "58\n",
      "59\n",
      "60\n",
      "61\n",
      "62\n",
      "63\n",
      "64\n",
      "65\n",
      "66\n",
      "67\n",
      "68\n",
      "69\n",
      "70\n",
      "71\n",
      "72\n",
      "73\n",
      "74\n",
      "75\n",
      "76\n",
      "77\n",
      "78\n",
      "79\n",
      "80\n",
      "81\n",
      "82\n",
      "83\n",
      "84\n",
      "85\n",
      "86\n",
      "87\n",
      "88\n",
      "89\n",
      "90\n",
      "91\n",
      "92\n",
      "93\n",
      "94\n",
      "95\n",
      "96\n",
      "97\n",
      "98\n",
      "99\n"
     ]
    }
   ],
   "source": [
    "for i in range(0,100):\n",
    "    print(i)"
   ]
  },
  {
   "cell_type": "markdown",
   "metadata": {},
   "source": [
    "### 162\n",
    "월드컵은 4년에 한 번 개최된다. range()를 사용하여 2002~2050년까지 중 월드컵이 개최되는 연도를 출력하라.\n",
    "\n",
    "2002\n",
    "\n",
    "2006\n",
    "\n",
    "...\n",
    "\n",
    "2046\n",
    "\n",
    "2050\n",
    "\n",
    "참고) range의 세번 째 파라미터는 증감폭을 결정합니다.\n",
    "\n",
    ">> print(list(range(0, 10, 2)))\n",
    "\n",
    "[0, 2, 4, 6, 8]"
   ]
  },
  {
   "cell_type": "code",
   "execution_count": 57,
   "metadata": {},
   "outputs": [
    {
     "name": "stdout",
     "output_type": "stream",
     "text": [
      "2002\n",
      "2006\n",
      "2010\n",
      "2014\n",
      "2018\n",
      "2022\n",
      "2026\n",
      "2030\n",
      "2034\n",
      "2038\n",
      "2042\n",
      "2046\n",
      "2050\n"
     ]
    }
   ],
   "source": [
    "for i in range(2002,2051,4):\n",
    "    print(i)"
   ]
  },
  {
   "cell_type": "markdown",
   "metadata": {},
   "source": [
    "### 163\n",
    "1부터 30까지의 숫자 중 3의 배수를 출력하라.\n",
    "\n",
    "3 \n",
    "\n",
    "6 \n",
    "\n",
    "9 \n",
    "\n",
    "12 \n",
    "\n",
    "15 \n",
    "\n",
    "18 \n",
    "\n",
    "21 \n",
    "\n",
    "24 \n",
    "\n",
    "27\n",
    "\n",
    "30"
   ]
  },
  {
   "cell_type": "code",
   "execution_count": 59,
   "metadata": {},
   "outputs": [
    {
     "name": "stdout",
     "output_type": "stream",
     "text": [
      "3\n",
      "6\n",
      "9\n",
      "12\n",
      "15\n",
      "18\n",
      "21\n",
      "24\n",
      "27\n",
      "30\n"
     ]
    }
   ],
   "source": [
    "for i in range(3,31,3):\n",
    "    print(i)"
   ]
  },
  {
   "cell_type": "markdown",
   "metadata": {},
   "source": [
    "### 164\n",
    "99부터 0까지 1씩 감소하는 숫자들을, 한 라인에 하나씩 출력하라."
   ]
  },
  {
   "cell_type": "code",
   "execution_count": 60,
   "metadata": {},
   "outputs": [
    {
     "name": "stdout",
     "output_type": "stream",
     "text": [
      "99\n",
      "98\n",
      "97\n",
      "96\n",
      "95\n",
      "94\n",
      "93\n",
      "92\n",
      "91\n",
      "90\n",
      "89\n",
      "88\n",
      "87\n",
      "86\n",
      "85\n",
      "84\n",
      "83\n",
      "82\n",
      "81\n",
      "80\n",
      "79\n",
      "78\n",
      "77\n",
      "76\n",
      "75\n",
      "74\n",
      "73\n",
      "72\n",
      "71\n",
      "70\n",
      "69\n",
      "68\n",
      "67\n",
      "66\n",
      "65\n",
      "64\n",
      "63\n",
      "62\n",
      "61\n",
      "60\n",
      "59\n",
      "58\n",
      "57\n",
      "56\n",
      "55\n",
      "54\n",
      "53\n",
      "52\n",
      "51\n",
      "50\n",
      "49\n",
      "48\n",
      "47\n",
      "46\n",
      "45\n",
      "44\n",
      "43\n",
      "42\n",
      "41\n",
      "40\n",
      "39\n",
      "38\n",
      "37\n",
      "36\n",
      "35\n",
      "34\n",
      "33\n",
      "32\n",
      "31\n",
      "30\n",
      "29\n",
      "28\n",
      "27\n",
      "26\n",
      "25\n",
      "24\n",
      "23\n",
      "22\n",
      "21\n",
      "20\n",
      "19\n",
      "18\n",
      "17\n",
      "16\n",
      "15\n",
      "14\n",
      "13\n",
      "12\n",
      "11\n",
      "10\n",
      "9\n",
      "8\n",
      "7\n",
      "6\n",
      "5\n",
      "4\n",
      "3\n",
      "2\n",
      "1\n",
      "0\n"
     ]
    }
   ],
   "source": [
    "for i in range(99,-1,-1):\n",
    "    print(i)"
   ]
  },
  {
   "cell_type": "markdown",
   "metadata": {},
   "source": [
    "### 165\n",
    "for문을 사용해서 아래와 같이 출력하라.\n",
    "\n",
    "0.0\n",
    "0.1\n",
    "0.2\n",
    "0.3\n",
    "0.4\n",
    "0.5\n",
    "...\n",
    "0.9"
   ]
  },
  {
   "cell_type": "code",
   "execution_count": 63,
   "metadata": {},
   "outputs": [
    {
     "name": "stdout",
     "output_type": "stream",
     "text": [
      "0.0\n",
      "0.1\n",
      "0.2\n",
      "0.3\n",
      "0.4\n",
      "0.5\n",
      "0.6\n",
      "0.7\n",
      "0.8\n",
      "0.9\n"
     ]
    }
   ],
   "source": [
    "for i in range(0,10):\n",
    "    print('0.',i,sep='')"
   ]
  },
  {
   "cell_type": "markdown",
   "metadata": {},
   "source": [
    "### 166\n",
    "구구단 3단을 출력하라.\n",
    "\n",
    "3x1 = 3\n",
    "\n",
    "3x2 = 6\n",
    "\n",
    "3x3 = 9\n",
    "\n",
    "3x4 = 12\n",
    "\n",
    "3x5 = 15\n",
    "\n",
    "3x6 = 18\n",
    "\n",
    "3x7 = 21\n",
    "\n",
    "3x8 = 24\n",
    "\n",
    "3x9 = 27"
   ]
  },
  {
   "cell_type": "code",
   "execution_count": 64,
   "metadata": {},
   "outputs": [
    {
     "name": "stdout",
     "output_type": "stream",
     "text": [
      " 3 x 1 = 3\n",
      " 3 x 2 = 6\n",
      " 3 x 3 = 9\n",
      " 3 x 4 = 12\n",
      " 3 x 5 = 15\n",
      " 3 x 6 = 18\n",
      " 3 x 7 = 21\n",
      " 3 x 8 = 24\n",
      " 3 x 9 = 27\n"
     ]
    }
   ],
   "source": [
    "for i in range(1,10):\n",
    "    print(f' 3 x {i} = { i * 3}')"
   ]
  },
  {
   "cell_type": "markdown",
   "metadata": {},
   "source": [
    "### 167\n",
    "구구단 3단을 출력하라. 단 홀수 번째만 출력한다.\n",
    "\n",
    "3x1 = 3\n",
    "\n",
    "3x3 = 9\n",
    "\n",
    "3x5 = 15\n",
    "\n",
    "3x7 = 21\n",
    "\n",
    "3x9 = 27"
   ]
  },
  {
   "cell_type": "code",
   "execution_count": 65,
   "metadata": {},
   "outputs": [
    {
     "name": "stdout",
     "output_type": "stream",
     "text": [
      " 3 x 1 = 3\n",
      " 3 x 3 = 9\n",
      " 3 x 5 = 15\n",
      " 3 x 7 = 21\n",
      " 3 x 9 = 27\n"
     ]
    }
   ],
   "source": [
    "for i in range(1,10,2):\n",
    "    print(f' 3 x {i} = { i * 3}')"
   ]
  },
  {
   "cell_type": "markdown",
   "metadata": {},
   "source": [
    "### 168\n",
    "1~10까지의 숫자에 대해 모두 더한 값을 출력하는 프로그램을 for 문을 사용하여 작성하라.\n",
    "\n",
    "합 : 55"
   ]
  },
  {
   "cell_type": "code",
   "execution_count": 69,
   "metadata": {},
   "outputs": [
    {
     "name": "stdout",
     "output_type": "stream",
     "text": [
      "합 : 55\n"
     ]
    }
   ],
   "source": [
    "sum = 0\n",
    "\n",
    "for i in range(1,11):\n",
    "    sum = sum + i\n",
    "    \n",
    "print('합 :',sum)"
   ]
  },
  {
   "cell_type": "markdown",
   "metadata": {},
   "source": [
    "### 169\n",
    "1~10까지의 숫자 중 모든 홀수의 합을 출력하는 프로그램을 for 문을 사용하여 작성하라.\n",
    "\n",
    "합: 25"
   ]
  },
  {
   "cell_type": "code",
   "execution_count": 70,
   "metadata": {},
   "outputs": [
    {
     "name": "stdout",
     "output_type": "stream",
     "text": [
      "합 :  25\n"
     ]
    }
   ],
   "source": [
    "sum = 0\n",
    "\n",
    "for i in range(1,11,2):\n",
    "    sum += i\n",
    "\n",
    "print('합 : ', sum)"
   ]
  },
  {
   "cell_type": "markdown",
   "metadata": {},
   "source": [
    "### 170\n",
    "1~10까지의 숫자를 모두 곱한 값을 출력하는 프로그램을 for 문을 사용하여 작성하라."
   ]
  },
  {
   "cell_type": "code",
   "execution_count": 72,
   "metadata": {},
   "outputs": [
    {
     "name": "stdout",
     "output_type": "stream",
     "text": [
      "합 : 3628800\n"
     ]
    }
   ],
   "source": [
    "mul = 1\n",
    "\n",
    "for i in range(1,11):\n",
    "    mul *= i\n",
    "\n",
    "print('합 :',mul)"
   ]
  },
  {
   "cell_type": "markdown",
   "metadata": {},
   "source": [
    "### 171\n",
    "아래와 같이 리스트의 데이터를 출력하라. 단, for문과 range문을 사용하라.\n",
    "\n",
    "    price_list = [32100, 32150, 32000, 32500]\n",
    "\n",
    "32100\n",
    "\n",
    "32150\n",
    "\n",
    "32000\n",
    "\n",
    "32500"
   ]
  },
  {
   "cell_type": "code",
   "execution_count": 3,
   "metadata": {},
   "outputs": [
    {
     "name": "stdout",
     "output_type": "stream",
     "text": [
      "32100\n",
      "32150\n",
      "32000\n",
      "32500\n"
     ]
    }
   ],
   "source": [
    "data = [32100, 32150, 32000, 32500]\n",
    "\n",
    "for i in range(0,4):\n",
    "    print(data[i])"
   ]
  },
  {
   "cell_type": "markdown",
   "metadata": {},
   "source": [
    "### 172\n",
    "아래와 같이 리스트의 데이터를 출력하라. 단, for문과 range문을 사용하라.\n",
    "\n",
    "    price_list = [32100, 32150, 32000, 32500]\n",
    "\n",
    "0 32100\n",
    "\n",
    "1 32150\n",
    "\n",
    "2 32000\n",
    "\n",
    "3 32500"
   ]
  },
  {
   "cell_type": "code",
   "execution_count": 9,
   "metadata": {},
   "outputs": [
    {
     "name": "stdout",
     "output_type": "stream",
     "text": [
      "0 32100\n",
      "1 32150\n",
      "2 32000\n",
      "3 32500\n"
     ]
    }
   ],
   "source": [
    "data = [32100, 32150, 32000, 32500]\n",
    "\n",
    "for i in range(0,4):\n",
    "    print(i,data[i])"
   ]
  },
  {
   "cell_type": "markdown",
   "metadata": {},
   "source": [
    "### 173\n",
    "아래와 같이 리스트의 데이터를 출력하라. 단, for문과 range문을 사용하라.\n",
    "\n",
    "    price_list = [32100, 32150, 32000, 32500]\n",
    "\n",
    "3 32100\n",
    "\n",
    "2 32150\n",
    "\n",
    "1 32000\n",
    "\n",
    "0 32500"
   ]
  },
  {
   "cell_type": "code",
   "execution_count": 12,
   "metadata": {},
   "outputs": [
    {
     "name": "stdout",
     "output_type": "stream",
     "text": [
      "3 32100\n",
      "2 32150\n",
      "1 32000\n",
      "0 32500\n"
     ]
    }
   ],
   "source": [
    "data = [32100, 32150, 32000, 32500]\n",
    "\n",
    "for i in range(0,4):\n",
    "    print(3-i , data[i])"
   ]
  },
  {
   "cell_type": "markdown",
   "metadata": {},
   "source": [
    "### 174\n",
    "아래와 같이 리스트의 데이터를 출력하라. 단, for문과 range문을 사용하라.\n",
    "\n",
    "    price_list = [32100, 32150, 32000, 32500]\n",
    "\n",
    "100 32150\n",
    "\n",
    "110 32000\n",
    "\n",
    "120 32500"
   ]
  },
  {
   "cell_type": "code",
   "execution_count": 13,
   "metadata": {},
   "outputs": [
    {
     "name": "stdout",
     "output_type": "stream",
     "text": [
      "100 32150\n",
      "110 32000\n",
      "120 32500\n"
     ]
    }
   ],
   "source": [
    "data = [32100, 32150, 32000, 32500]\n",
    "\n",
    "for i in range(1,4):\n",
    "    print( 90 + 10*i , data[i])"
   ]
  },
  {
   "cell_type": "markdown",
   "metadata": {},
   "source": [
    "### 175\n",
    "my_list를 아래와 같이 출력하라.\n",
    "\n",
    "    my_list = [\"가\", \"나\", \"다\", \"라\"]\n",
    "\n",
    "가 나\n",
    "\n",
    "나 다\n",
    "\n",
    "다 라"
   ]
  },
  {
   "cell_type": "code",
   "execution_count": 14,
   "metadata": {},
   "outputs": [
    {
     "name": "stdout",
     "output_type": "stream",
     "text": [
      "가 나\n",
      "나 다\n",
      "다 라\n"
     ]
    }
   ],
   "source": [
    "my_list = [\"가\", \"나\", \"다\", \"라\"]\n",
    "\n",
    "for i in range(0,3):\n",
    "    print(my_list[i],my_list[i + 1])"
   ]
  },
  {
   "cell_type": "markdown",
   "metadata": {},
   "source": [
    "### 176\n",
    "리스트를 아래와 같이 출력하라.\n",
    "\n",
    "    my_list = [\"가\", \"나\", \"다\", \"라\", \"마\"]\n",
    "\n",
    "가 나 다\n",
    "\n",
    "나 다 라\n",
    "\n",
    "다 라 마"
   ]
  },
  {
   "cell_type": "code",
   "execution_count": 15,
   "metadata": {},
   "outputs": [
    {
     "name": "stdout",
     "output_type": "stream",
     "text": [
      "가 나 다\n",
      "나 다 라\n",
      "다 라 마\n"
     ]
    }
   ],
   "source": [
    "my_list = [\"가\", \"나\", \"다\", \"라\", \"마\"]\n",
    "\n",
    "for i in range(0,3):\n",
    "    print(my_list[i],my_list[i+1],my_list[i+2])"
   ]
  },
  {
   "cell_type": "markdown",
   "metadata": {},
   "source": [
    "### 177\n",
    "반복문과 range 함수를 사용해서 my_list를 아래와 같이 출력하라.\n",
    "\n",
    "    my_list = [\"가\", \"나\", \"다\", \"라\"]\n",
    "\n",
    "라 다\n",
    "\n",
    "다 나\n",
    "\n",
    "나 가"
   ]
  },
  {
   "cell_type": "code",
   "execution_count": 20,
   "metadata": {},
   "outputs": [
    {
     "name": "stdout",
     "output_type": "stream",
     "text": [
      "라 다\n",
      "다 나\n",
      "나 가\n"
     ]
    }
   ],
   "source": [
    "my_list = [\"가\", \"나\", \"다\", \"라\"]\n",
    "\n",
    "for i in range(3,0,-1):\n",
    "    print(my_list[i],my_list[i - 1])"
   ]
  },
  {
   "cell_type": "markdown",
   "metadata": {},
   "source": [
    "### 178\n",
    "리스트에는 네 개의 정수가 저장되어 있다. 각각의 데이터에 대해서 자신과 우측값과의 차분값을 화면에 출력하라.\n",
    "\n",
    "    my_list = [100, 200, 400, 800]\n",
    "\n",
    "예를들어 100을 기준으로 우측에 위치한 200과의 차분 값를 화면에 출력하고, 200을 기준으로 우측에 위치한 400과의 차분값을 화면에 출력한다. 이어서 400을 기준으로 우측에 위치한 800과의 차분값을 화면에 출력한다.\n",
    "\n",
    "100\n",
    "\n",
    "200\n",
    "\n",
    "400"
   ]
  },
  {
   "cell_type": "code",
   "execution_count": 21,
   "metadata": {},
   "outputs": [
    {
     "name": "stdout",
     "output_type": "stream",
     "text": [
      "100\n",
      "200\n",
      "400\n"
     ]
    }
   ],
   "source": [
    "my_list = [100, 200, 400, 800]\n",
    "\n",
    "for i in range(0,3):\n",
    "    print(my_list[i + 1] - my_list[i])"
   ]
  },
  {
   "cell_type": "markdown",
   "metadata": {},
   "source": [
    "### 179\n",
    "리스트에는 6일 간의 종가 데이터가 저장되어 있다. 종가 데이터의 3일 이동 평균을 계산하고 이를 화면에 출력하라.\n",
    "\n",
    "    my_list = [100, 200, 400, 800, 1000, 1300]\n",
    "\n",
    "첫 번째 줄에는 100, 200, 400의 평균값이 출력된다. 두 번째 줄에는 200, 400, 800의 평균값이 출력된다. 같은 방식으로 나머지 데이터의 평균을 출력한다.\n",
    "\n",
    "233.33333333333334\n",
    "\n",
    "466.6666666666667\n",
    "\n",
    "733.3333333333334\n",
    "\n",
    "1033.3333333333333"
   ]
  },
  {
   "cell_type": "code",
   "execution_count": 22,
   "metadata": {},
   "outputs": [
    {
     "name": "stdout",
     "output_type": "stream",
     "text": [
      "233.33333333333334\n",
      "466.6666666666667\n",
      "733.3333333333334\n",
      "1033.3333333333333\n"
     ]
    }
   ],
   "source": [
    "my_list = [100, 200, 400, 800, 1000, 1300]\n",
    "\n",
    "for i in range(0,4):        # 0, 1, 2, 3\n",
    "    sum = my_list[i] + my_list[i+1] + my_list[i+2]\n",
    "    print(sum/3)"
   ]
  },
  {
   "cell_type": "markdown",
   "metadata": {},
   "source": [
    "### 180\n",
    "리스트에 5일간의 저가, 고가 정보가 저장돼 있다. 고가와 저가의 차를 변동폭이라고 정의할 때, low, high 두 개의 리스트를 사용해서 5일간의 변동폭을 volatility 리스트에 저장하라.\n",
    "\n",
    "    low_prices  = [100, 200, 400, 800, 1000]\n",
    "\n",
    "    high_prices = [150, 300, 430, 880, 1000]"
   ]
  },
  {
   "cell_type": "code",
   "execution_count": 23,
   "metadata": {},
   "outputs": [
    {
     "data": {
      "text/plain": [
       "[50, 100, 30, 80, 0]"
      ]
     },
     "execution_count": 23,
     "metadata": {},
     "output_type": "execute_result"
    }
   ],
   "source": [
    "low_prices  = [100, 200, 400, 800, 1000]\n",
    "high_prices = [150, 300, 430, 880, 1000]\n",
    "\n",
    "volatility = []\n",
    "\n",
    "for i in range(5):\n",
    "    diff = high_prices[i] - low_prices[i]\n",
    "    volatility.append(diff)\n",
    "\n",
    "volatility"
   ]
  },
  {
   "cell_type": "markdown",
   "metadata": {},
   "source": [
    "### 181\n",
    "아래 표에서 하나의 행을 하나의 리스트로, 총 3개의 리스트를 갖는 이차원 리스트 apart를 정의하라.\n",
    "\n",
    "|101호|\t102호|\n",
    "|---|---|\n",
    "|201호|\t202호|\n",
    "|301호|\t302호|"
   ]
  },
  {
   "cell_type": "code",
   "execution_count": 24,
   "metadata": {},
   "outputs": [
    {
     "data": {
      "text/plain": [
       "[['101호', '102호'], ['201호', '202호'], ['301호', '302호']]"
      ]
     },
     "execution_count": 24,
     "metadata": {},
     "output_type": "execute_result"
    }
   ],
   "source": [
    "apart = [ ['101호','102호'],\n",
    "         ['201호','202호'],\n",
    "         ['301호','302호']]\n",
    "\n",
    "apart"
   ]
  },
  {
   "cell_type": "markdown",
   "metadata": {},
   "source": [
    "### 182\n",
    "아래 표에서 하나의 열을 하나의 리스트로, 총 2개의 리스트를 갖는 이차원 리스트 stock을 정의하라.\n",
    "\n",
    "|시가\t| 종가|\n",
    "|---|---|\n",
    "|100\t    |80|\n",
    "|200\t    |210|\n",
    "|300\t    |330|"
   ]
  },
  {
   "cell_type": "code",
   "execution_count": 25,
   "metadata": {},
   "outputs": [
    {
     "data": {
      "text/plain": [
       "[['시가', 100, 200, 300], ['종가', 80, 210, 330]]"
      ]
     },
     "execution_count": 25,
     "metadata": {},
     "output_type": "execute_result"
    }
   ],
   "source": [
    "stock = [['시가',100,200,300],\n",
    "         ['종가',80,210,330]]\n",
    "\n",
    "stock"
   ]
  },
  {
   "cell_type": "markdown",
   "metadata": {},
   "source": [
    "### 183\n",
    "아래 표를 stock 이름의 딕셔너리로 표현하라.시가를 key로 저장하고, 나머지 같은 열의 데이터를 리스트로 저장해서 value로 저장한다. 종가 역시 key로 저장하고 나머지 같은 열의 데이터를 리스트로 저장해서 value로 저장한다.\n",
    "\n",
    "|시가|\t종가|\n",
    "|---|---|\n",
    "|100|\t80|\n",
    "|200|\t210|\n",
    "|300|\t330|"
   ]
  },
  {
   "cell_type": "code",
   "execution_count": 27,
   "metadata": {},
   "outputs": [
    {
     "data": {
      "text/plain": [
       "{'시가': [100, 200, 300], '종가': [80, 210, 330]}"
      ]
     },
     "execution_count": 27,
     "metadata": {},
     "output_type": "execute_result"
    }
   ],
   "source": [
    "stock = {\n",
    "    '시가': [100,200,300],\n",
    "    '종가': [80,210,330]\n",
    "}\n",
    "\n",
    "stock"
   ]
  },
  {
   "cell_type": "markdown",
   "metadata": {},
   "source": [
    "### 184\n",
    "아래 표를 stock 이라는 이름의 딕셔너리로 표현하라. 날짜를 key로 저장하고, 나머지 같은 행의 데이터를 리스트로 저장해서 value로 저장한다. 첫 열이 날짜이다.\n",
    "\n",
    "|10/10|\t80|\t110|\t70|\t90|\n",
    "|---|---|---|---|---|\n",
    "|10/11\t|210\t|230\t|190\t|200|"
   ]
  },
  {
   "cell_type": "code",
   "execution_count": 28,
   "metadata": {},
   "outputs": [
    {
     "data": {
      "text/plain": [
       "{'10/10': [80, 110, 70, 90], '10/11': [210, 230, 190, 200]}"
      ]
     },
     "execution_count": 28,
     "metadata": {},
     "output_type": "execute_result"
    }
   ],
   "source": [
    "stock = {\n",
    "    '10/10': [80,110,70,90],\n",
    "    '10/11': [210,230,190,200]\n",
    "}\n",
    "\n",
    "stock"
   ]
  },
  {
   "cell_type": "code",
   "execution_count": 29,
   "metadata": {},
   "outputs": [
    {
     "data": {
      "text/plain": [
       "190"
      ]
     },
     "execution_count": 29,
     "metadata": {},
     "output_type": "execute_result"
    }
   ],
   "source": [
    "stock['10/11'][2]"
   ]
  },
  {
   "cell_type": "markdown",
   "metadata": {},
   "source": [
    "### 185\n",
    "리스트에 저장된 데이터를 아래와 같이 출력하라.\n",
    "\n",
    "    apart = [ [101, 102], [201, 202], [301, 302] ]\n",
    "\n",
    "101 호\n",
    "\n",
    "102 호\n",
    "\n",
    "201 호\n",
    "\n",
    "202 호\n",
    "\n",
    "301 호\n",
    "\n",
    "302 호"
   ]
  },
  {
   "cell_type": "code",
   "execution_count": 34,
   "metadata": {},
   "outputs": [
    {
     "name": "stdout",
     "output_type": "stream",
     "text": [
      "101 호\n",
      "102 호\n",
      "201 호\n",
      "202 호\n",
      "301 호\n",
      "302 호\n"
     ]
    }
   ],
   "source": [
    "apart = [ [101, 102],\n",
    "          [201, 202],\n",
    "          [301, 302] ]\n",
    "\n",
    "for i in apart:         # apart 의 3개 리스트 를 차례로 i에 대입\n",
    "    for j in i:         # i에 대입된 리스트의 요소 2개를 차례로 j에 대입\n",
    "        print(j,'호')   # j에 대입된 리스트의 요소를 순서대로 출력 "
   ]
  },
  {
   "cell_type": "markdown",
   "metadata": {},
   "source": [
    "### 186\n",
    "리스트에 저장된 데이터를 아래와 같이 출력하라.\n",
    "\n",
    "    apart = [ [101, 102], [201, 202], [301, 302] ]\n",
    "\n",
    "301 호\n",
    "\n",
    "302 호\n",
    "\n",
    "201 호\n",
    "\n",
    "202 호\n",
    "\n",
    "101 호\n",
    "\n",
    "102 호"
   ]
  },
  {
   "cell_type": "code",
   "execution_count": 37,
   "metadata": {},
   "outputs": [
    {
     "name": "stdout",
     "output_type": "stream",
     "text": [
      "301 호\n",
      "302 호\n",
      "201 호\n",
      "202 호\n",
      "101 호\n",
      "102 호\n"
     ]
    }
   ],
   "source": [
    "apart = [ [101, 102],\n",
    "          [201, 202],\n",
    "          [301, 302] ]\n",
    "\n",
    "for i in apart[::-1]:       # 리스트의 끝에 요소부터 반대로 i에 대입\n",
    "    for j in i:             # 3개의 리스트 목록을 하나씩 j에 대입\n",
    "        print(j,'호' )      # 처음 대입한 [301, 302] 중 하나씩 출력\n",
    "                            # 모두 출력 되었으면 다음 [201, 202]를 출력"
   ]
  },
  {
   "cell_type": "markdown",
   "metadata": {},
   "source": [
    "### 187\n",
    "리스트에 저장된 데이터를 아래와 같이 출력하라.\n",
    "\n",
    "    apart = [ [101, 102], [201, 202], [301, 302] ]\n",
    "\n",
    "302 호\n",
    "\n",
    "301 호\n",
    "\n",
    "202 호\n",
    "\n",
    "201 호\n",
    "\n",
    "102 호\n",
    "\n",
    "101 호"
   ]
  },
  {
   "cell_type": "code",
   "execution_count": 38,
   "metadata": {},
   "outputs": [
    {
     "name": "stdout",
     "output_type": "stream",
     "text": [
      "302 호\n",
      "301 호\n",
      "202 호\n",
      "201 호\n",
      "102 호\n",
      "101 호\n"
     ]
    }
   ],
   "source": [
    "apart = [ [101, 102], [201, 202], [301, 302] ]\n",
    "\n",
    "for i in apart[::-1]:\n",
    "    for j in i[::-1]:   # i에 대입한 리스트를 뒤에서부터 차례로 j에 대입\n",
    "        print(j , '호')"
   ]
  },
  {
   "cell_type": "markdown",
   "metadata": {},
   "source": [
    "### 188\n",
    "리스트에 저장된 데이터를 아래와 같이 출력하라.\n",
    "\n",
    "    apart = [ [101, 102], [201, 202], [301, 302] ]\n",
    "\n",
    "101 호\n",
    "\n",
    "-----\n",
    "\n",
    "102 호\n",
    "\n",
    "\n",
    "-----\n",
    "\n",
    "201 호\n",
    "\n",
    "-----\n",
    "\n",
    "\n",
    "202 호\n",
    "\n",
    "-----\n",
    "\n",
    "\n",
    "301 호\n",
    "\n",
    "-----\n",
    "\n",
    "\n",
    "302 호\n",
    "\n",
    "-----\n"
   ]
  },
  {
   "cell_type": "code",
   "execution_count": 45,
   "metadata": {},
   "outputs": [
    {
     "name": "stdout",
     "output_type": "stream",
     "text": [
      "101 호\n",
      "-----\n",
      "102 호\n",
      "-----\n",
      "201 호\n",
      "-----\n",
      "202 호\n",
      "-----\n",
      "301 호\n",
      "-----\n",
      "302 호\n",
      "-----\n"
     ]
    }
   ],
   "source": [
    "apart = [ [101, 102], [201, 202], [301, 302] ]\n",
    "\n",
    "for i in apart:\n",
    "    for j in i:\n",
    "        print(j, '호')\n",
    "        print('-----')"
   ]
  },
  {
   "cell_type": "markdown",
   "metadata": {},
   "source": [
    "### 189\n",
    "리스트에 저장된 데이터를 아래와 같이 출력하라.\n",
    "\n",
    "    apart = [ [101, 102], [201, 202], [301, 302] ]\n",
    "\n",
    "101 호\n",
    "\n",
    "102 호\n",
    "\n",
    "-----\n",
    "\n",
    "201 호\n",
    "\n",
    "202 호\n",
    "\n",
    "-----\n",
    "\n",
    "301 호\n",
    "\n",
    "302 호\n",
    "\n",
    "-----"
   ]
  },
  {
   "cell_type": "code",
   "execution_count": 46,
   "metadata": {},
   "outputs": [
    {
     "name": "stdout",
     "output_type": "stream",
     "text": [
      "101 호\n",
      "102 호\n",
      "-----\n",
      "201 호\n",
      "202 호\n",
      "-----\n",
      "301 호\n",
      "302 호\n",
      "-----\n"
     ]
    }
   ],
   "source": [
    "apart = [ [101, 102], [201, 202], [301, 302] ]\n",
    "\n",
    "for i in apart:\n",
    "    for j in i:\n",
    "        print(j, '호')\n",
    "    print('-----')"
   ]
  },
  {
   "cell_type": "markdown",
   "metadata": {},
   "source": [
    "### 190\n",
    "리스트에 저장된 데이터를 아래와 같이 출력하라.\n",
    "\n",
    "    apart = [ [101, 102], [201, 202], [301, 302] ]\n",
    "\n",
    "101 호\n",
    "\n",
    "102 호\n",
    "\n",
    "201 호\n",
    "\n",
    "202 호\n",
    "\n",
    "301 호\n",
    "\n",
    "302 호\n",
    "\n",
    "-----"
   ]
  },
  {
   "cell_type": "code",
   "execution_count": 47,
   "metadata": {},
   "outputs": [
    {
     "name": "stdout",
     "output_type": "stream",
     "text": [
      "101 호\n",
      "102 호\n",
      "201 호\n",
      "202 호\n",
      "301 호\n",
      "302 호\n",
      "-----\n"
     ]
    }
   ],
   "source": [
    "apart = [ [101, 102], [201, 202], [301, 302] ]\n",
    "\n",
    "for i in apart:\n",
    "    for j in i:\n",
    "        print(j, '호')\n",
    "\n",
    "print('-----')"
   ]
  },
  {
   "cell_type": "markdown",
   "metadata": {},
   "source": [
    "### 구구단\n",
    "- 2중 for 문으로 구구단 만들기 \n",
    "\n",
    "&nbsp;"
   ]
  },
  {
   "cell_type": "code",
   "execution_count": 43,
   "metadata": {},
   "outputs": [
    {
     "name": "stdout",
     "output_type": "stream",
     "text": [
      "2 X 1 = 2\n",
      "2 X 2 = 4\n",
      "2 X 3 = 6\n",
      "2 X 4 = 8\n",
      "2 X 5 = 10\n",
      "2 X 6 = 12\n",
      "2 X 7 = 14\n",
      "2 X 8 = 16\n",
      "2 X 9 = 18\n",
      "----------\n",
      "3 X 1 = 3\n",
      "3 X 2 = 6\n",
      "3 X 3 = 9\n",
      "3 X 4 = 12\n",
      "3 X 5 = 15\n",
      "3 X 6 = 18\n",
      "3 X 7 = 21\n",
      "3 X 8 = 24\n",
      "3 X 9 = 27\n",
      "----------\n",
      "4 X 1 = 4\n",
      "4 X 2 = 8\n",
      "4 X 3 = 12\n",
      "4 X 4 = 16\n",
      "4 X 5 = 20\n",
      "4 X 6 = 24\n",
      "4 X 7 = 28\n",
      "4 X 8 = 32\n",
      "4 X 9 = 36\n",
      "----------\n",
      "5 X 1 = 5\n",
      "5 X 2 = 10\n",
      "5 X 3 = 15\n",
      "5 X 4 = 20\n",
      "5 X 5 = 25\n",
      "5 X 6 = 30\n",
      "5 X 7 = 35\n",
      "5 X 8 = 40\n",
      "5 X 9 = 45\n",
      "----------\n",
      "6 X 1 = 6\n",
      "6 X 2 = 12\n",
      "6 X 3 = 18\n",
      "6 X 4 = 24\n",
      "6 X 5 = 30\n",
      "6 X 6 = 36\n",
      "6 X 7 = 42\n",
      "6 X 8 = 48\n",
      "6 X 9 = 54\n",
      "----------\n",
      "7 X 1 = 7\n",
      "7 X 2 = 14\n",
      "7 X 3 = 21\n",
      "7 X 4 = 28\n",
      "7 X 5 = 35\n",
      "7 X 6 = 42\n",
      "7 X 7 = 49\n",
      "7 X 8 = 56\n",
      "7 X 9 = 63\n",
      "----------\n",
      "8 X 1 = 8\n",
      "8 X 2 = 16\n",
      "8 X 3 = 24\n",
      "8 X 4 = 32\n",
      "8 X 5 = 40\n",
      "8 X 6 = 48\n",
      "8 X 7 = 56\n",
      "8 X 8 = 64\n",
      "8 X 9 = 72\n",
      "----------\n",
      "9 X 1 = 9\n",
      "9 X 2 = 18\n",
      "9 X 3 = 27\n",
      "9 X 4 = 36\n",
      "9 X 5 = 45\n",
      "9 X 6 = 54\n",
      "9 X 7 = 63\n",
      "9 X 8 = 72\n",
      "9 X 9 = 81\n",
      "----------\n"
     ]
    }
   ],
   "source": [
    "for i in range(2,10):                   # 2 ~ 9\n",
    "    for j in range(1,10):               # 1 ~ 9\n",
    "        print(f\"{i} X {j} = {i * j}\")   # 2 x 1 = 2 \n",
    "                                        # 2 X 2 = 4\n",
    "                                        # ....\n",
    "\n",
    "    print('----------')                      \n",
    "    # 2차 반복문이 끝나면 ---------- 으로 구분하고 1차 반복문으로 이동 "
   ]
  },
  {
   "cell_type": "markdown",
   "metadata": {},
   "source": [
    "### 191\n",
    "data에는 매수한 종목들의 OHLC (open/high/low/close) 가격 정보가 바인딩 되어있다.\n",
    "\n",
    "        data = [\n",
    "\n",
    "                [ 2000,  3050,  2050,  1980],\n",
    "\n",
    "                [ 7500,  2050,  2050,  1980],\n",
    "\n",
    "                [15450, 15050, 15550, 14900]\n",
    "\n",
    "                ]\n",
    "\n",
    "수수료를 0.014 %로 가정할 때, 각 가격에 수수료를 포함한 가격을 한라인에 하나씩 출력하라.\n",
    "\n",
    "2000.28\n",
    "\n",
    "3050.427\n",
    "\n",
    "2050.2870000000003\n",
    "\n",
    "..."
   ]
  },
  {
   "cell_type": "code",
   "execution_count": 48,
   "metadata": {},
   "outputs": [
    {
     "name": "stdout",
     "output_type": "stream",
     "text": [
      "2000.28\n",
      "3050.427\n",
      "2050.287\n",
      "1980.2772\n",
      "7501.05\n",
      "2050.287\n",
      "2050.287\n",
      "1980.2772\n",
      "15452.163\n",
      "15052.107\n",
      "15552.177\n",
      "14902.086\n"
     ]
    }
   ],
   "source": [
    "data = [[ 2000,  3050,  2050,  1980],\n",
    "        [ 7500,  2050,  2050,  1980],\n",
    "        [15450, 15050, 15550, 14900]]\n",
    "\n",
    "for i in data:\n",
    "    for j in i:\n",
    "        print(j + (j * 0.014 * 0.01))"
   ]
  },
  {
   "cell_type": "markdown",
   "metadata": {},
   "source": [
    "### 192\n",
    "191번의 출력 결과에 행단위로 \"----\" 구분자를 추가하라.\n",
    "\n",
    "2000.28\n",
    "\n",
    "3050.427\n",
    "\n",
    "2050.2870000000003\n",
    "\n",
    "1980.2772\n",
    "\n",
    "----\n",
    "\n",
    "7501.05\n",
    "\n",
    "2050.2870000000003\n",
    "\n",
    "2050.2870000000003\n",
    "\n",
    "1980.2772\n",
    "\n",
    "----\n",
    "\n",
    "15452.163\n",
    "\n",
    "15052.107\n",
    "\n",
    "15552.177\n",
    "\n",
    "14902.086000000001\n",
    "\n",
    "----"
   ]
  },
  {
   "cell_type": "code",
   "execution_count": 49,
   "metadata": {},
   "outputs": [
    {
     "name": "stdout",
     "output_type": "stream",
     "text": [
      "2000.28\n",
      "3050.427\n",
      "2050.287\n",
      "1980.2772\n",
      "----------\n",
      "7501.05\n",
      "2050.287\n",
      "2050.287\n",
      "1980.2772\n",
      "----------\n",
      "15452.163\n",
      "15052.107\n",
      "15552.177\n",
      "14902.086\n",
      "----------\n"
     ]
    }
   ],
   "source": [
    "for i in data:\n",
    "    for j in i:\n",
    "        print(j + (j * 0.014 * 0.01))\n",
    "    print('-'*10)"
   ]
  },
  {
   "cell_type": "markdown",
   "metadata": {},
   "source": [
    "### 193\n",
    "192 번 문제의 결괏값을 result 이름의 리스트에 1차원 배열로 저장하라.\n",
    "\n",
    ">> print(result)\n",
    "\n",
    "[2000.28, 3050.427, 2050.2870000000003, 1980.2772, 7501.05, 2050.2870000000003, 2050.2870000000003, ...]"
   ]
  },
  {
   "cell_type": "code",
   "execution_count": 62,
   "metadata": {},
   "outputs": [
    {
     "data": {
      "text/plain": [
       "[2000.28,\n",
       " 3050.427,\n",
       " 2050.287,\n",
       " 1980.2772,\n",
       " 7501.05,\n",
       " 2050.287,\n",
       " 2050.287,\n",
       " 1980.2772,\n",
       " 15452.163,\n",
       " 15052.107,\n",
       " 15552.177,\n",
       " 14902.086]"
      ]
     },
     "execution_count": 62,
     "metadata": {},
     "output_type": "execute_result"
    }
   ],
   "source": [
    "result = [ ]\n",
    "\n",
    "for i in data:\n",
    "    for j in i:\n",
    "        result.append(j + (j * 0.014 * 0.01))\n",
    "\n",
    "result"
   ]
  },
  {
   "cell_type": "markdown",
   "metadata": {},
   "source": [
    "### 194\n",
    "191번 문제의 결괏값을 result 이름의 리스트에 2차원 배열로 저장하라. 저장 포맷은 아래와 같다. 각 행에 대한 데이터끼리 리스트에 저장되어야 한다.\n",
    "\n",
    ">> print(result)\n",
    "\n",
    "[\n",
    "\n",
    " [2000.28, 3050.427, 2050.2870000000003, 1980.2772],\n",
    "\n",
    " [7501.05, 2050.2870000000003, 2050.2870000000003, 1980.2772],\n",
    "\n",
    " [15452.163, 15052.107, 15552.177, 14902.086000000001]\n",
    "\n",
    "]"
   ]
  },
  {
   "cell_type": "code",
   "execution_count": 63,
   "metadata": {},
   "outputs": [
    {
     "data": {
      "text/plain": [
       "[[2000.28, 3050.427, 2050.287, 1980.2772],\n",
       " [7501.05, 2050.287, 2050.287, 1980.2772],\n",
       " [15452.163, 15052.107, 15552.177, 14902.086]]"
      ]
     },
     "execution_count": 63,
     "metadata": {},
     "output_type": "execute_result"
    }
   ],
   "source": [
    "result = [ ]\n",
    "\n",
    "for i in data:\n",
    "    i_price = [ ]\n",
    "    # result 리스트 안에 넣을 i_price 리스트를 만들어준다\n",
    "    \n",
    "    for j in i:\n",
    "        j_price = j + (j * 0.014 * 0.01)\n",
    "        # 각 값에 수수료를 더한 값을 더하고 j_price 에 하나씩 대입\n",
    "        i_price.append(j_price) \n",
    "        # 대입된 j_price를 비어있는 i_price에 하나씩 넣어준다\n",
    "    \n",
    "    result.append(i_price)\n",
    "    # i_price 리스트에 모두 넣어준후 비어있는 result리스트에 넣어주고\n",
    "    # 1차 for문으로 나가서 다시 반복한다\n",
    "\n",
    "result"
   ]
  },
  {
   "cell_type": "markdown",
   "metadata": {},
   "source": [
    "### 195\n",
    "ohlc 리스트에는 시가(open), 고가 (high), 저가 (low) , 종가(close)가 날짜별로 저장돼 있다. 화면에 종가데이터를 출력하라.\n",
    "\n",
    "        ohlc = [[\"open\", \"high\", \"low\", \"close\"],\n",
    "\n",
    "                [100, 110, 70, 100],\n",
    "\n",
    "                [200, 210, 180, 190],\n",
    "\n",
    "                [300, 310, 300, 310]]\n",
    "\n",
    "100\n",
    "\n",
    "190\n",
    "\n",
    "310"
   ]
  },
  {
   "cell_type": "code",
   "execution_count": 64,
   "metadata": {},
   "outputs": [
    {
     "name": "stdout",
     "output_type": "stream",
     "text": [
      "100\n",
      "190\n",
      "310\n"
     ]
    }
   ],
   "source": [
    "ohlc = [[\"open\", \"high\", \"low\", \"close\"],\n",
    "        [100, 110, 70, 100],\n",
    "        [200, 210, 180, 190],\n",
    "        [300, 310, 300, 310]]\n",
    "\n",
    "for i in ohlc[1:]:      \n",
    "    # ohlc 리스트안에 1번을 뺀 나머지 리스트 대입\n",
    "    \n",
    "    print(i[3])\n",
    "    # 대입된 리스트에 4번째 요소만 슬라이스 출력후 다시 반복 "
   ]
  },
  {
   "cell_type": "markdown",
   "metadata": {},
   "source": [
    "### 196\n",
    "ohlc 리스트에는 시가(open), 고가 (high), 저가 (low) , 종가(close)가 날짜별로 저장돼 있다. 종가가 150원보다 큰경우에만 종가를 출력하라.\n",
    "\n",
    "        ohlc = [[\"open\", \"high\", \"low\", \"close\"],\n",
    "\n",
    "                [100, 110, 70, 100],\n",
    "\n",
    "                [200, 210, 180, 190],\n",
    "\n",
    "                [300, 310, 300, 310]]\n",
    "\n",
    "190\n",
    "\n",
    "310"
   ]
  },
  {
   "cell_type": "code",
   "execution_count": 78,
   "metadata": {},
   "outputs": [
    {
     "name": "stdout",
     "output_type": "stream",
     "text": [
      "190\n",
      "310\n"
     ]
    }
   ],
   "source": [
    "for i in ohlc[1:]:\n",
    "    # ohlc 리스트안에 1번을 뺀 나머지 리스트 대입\n",
    "        \n",
    "    j = i[3]        # 대입된 리스트의 4번째 요소만 j에 대입\n",
    "    if j > 150:     # 대입된 값이 150 초과 일경우\n",
    "        print(j)    # 그 값만 출력"
   ]
  },
  {
   "cell_type": "markdown",
   "metadata": {},
   "source": [
    "### 197\n",
    "ohlc 리스트에는 시가(open), 고가 (high), 저가 (low) , 종가(close)가 날짜별로 저장돼 있다. 종가가 시가 보다 크거나 같은 경우에만 종가를 출력하라.\n",
    "\n",
    "    ohlc = [[\"open\", \"high\", \"low\", \"close\"],\n",
    "            [100, 110, 70, 100],\n",
    "            [200, 210, 180, 190],\n",
    "            [300, 310, 300, 310]]\n",
    "\n",
    "100\n",
    "\n",
    "310"
   ]
  },
  {
   "cell_type": "code",
   "execution_count": 80,
   "metadata": {},
   "outputs": [
    {
     "name": "stdout",
     "output_type": "stream",
     "text": [
      "100\n",
      "310\n"
     ]
    }
   ],
   "source": [
    "for i in ohlc[1:]:\n",
    "    # ohlc 리스트안에 1번을 뺀 나머지 리스트 대입\n",
    "        \n",
    "    j = i[3]        # 대입된 리스트의 4번째 요소만 j에 대입\n",
    "    e = i[0]        # 대입된 리스트의 1번째 요소만 e에 대입\n",
    "    if j >= e:      # j가 e보다 크거나 같을때\n",
    "        print(j)    # j를 출력"
   ]
  },
  {
   "cell_type": "markdown",
   "metadata": {},
   "source": [
    "### 198\n",
    "ohlc 리스트에는 시가(open), 고가 (high), 저가 (low) , 종가(close)가 날짜별로 저장돼 있다. 고가와 저가의 차이를 변동폭으로 정의할 때 변동폭을 volatility 이름의 리스트에 저장하라.\n",
    "\n",
    "    ohlc = [[\"open\", \"high\", \"low\", \"close\"],\n",
    "            \n",
    "            [100, 110, 70, 100],\n",
    "        \n",
    "            [200, 210, 180, 190],\n",
    "    \n",
    "            [300, 310, 300, 310]]\n",
    "\n",
    ">> print(volatility)\n",
    "\n",
    "[40, 30, 10]"
   ]
  },
  {
   "cell_type": "code",
   "execution_count": 81,
   "metadata": {},
   "outputs": [
    {
     "data": {
      "text/plain": [
       "[40, 30, 10]"
      ]
     },
     "execution_count": 81,
     "metadata": {},
     "output_type": "execute_result"
    }
   ],
   "source": [
    "volatility = []\n",
    "\n",
    "for i in ohlc[1:]:\n",
    "    # ohlc 리스트안에 1번을 뺀 나머지 리스트 대입\n",
    "        \n",
    "    j = i[1]        # 대입된 리스트의 2번째 요소만 j에 대입\n",
    "    e = i[2]        # 대입된 리스트의 3번째 요소만 e에 대입\n",
    "    volatility.append( j - e)\n",
    "\n",
    "volatility"
   ]
  },
  {
   "cell_type": "markdown",
   "metadata": {},
   "source": [
    "### 199\n",
    "리스트에는 3일 간의 ohlc 데이터가 저장돼 있다. 종가가 시가보다 높은 날의 변동성 (고가 - 저가)을 화면에 출력하라.\n",
    "\n",
    "    ohlc = [[\"open\", \"high\", \"low\", \"close\"],\n",
    "            \n",
    "            [100, 110, 70, 100],\n",
    "            \n",
    "            [200, 210, 180, 190],\n",
    "            \n",
    "            [300, 310, 300, 310]]\n",
    "\n",
    "종가가 시가보다 높은 거래일의 OHLC는 [300, 310, 300, 310] 이다. 따라서 이 거래일의 변동성은 10 (310 - 300)이다.\n",
    "\n",
    "10"
   ]
  },
  {
   "cell_type": "code",
   "execution_count": 83,
   "metadata": {},
   "outputs": [
    {
     "name": "stdout",
     "output_type": "stream",
     "text": [
      "10\n"
     ]
    }
   ],
   "source": [
    "for i in ohlc[1:]:\n",
    "    open,high,low,close = i     \n",
    "    # 언패킹으로 i에 대입된 리스트 요소를 각각의 변수에 대입\n",
    "\n",
    "    if close > open:        # 종가가 시가 보다 클때만\n",
    "        print(high - low)   # 고가에서 저가를 뺀 가격을 출력한다"
   ]
  },
  {
   "cell_type": "markdown",
   "metadata": {},
   "source": [
    "### 200\n",
    "리스트에는 3일 간의 ohlc 데이터가 저장돼 있다. 시가에 매수해서 종가에 매도 했을 경우 총 수익금을 계산하라.\n",
    "\n",
    "    ohlc = [[\"open\", \"high\", \"low\", \"close\"],\n",
    "            \n",
    "            [100, 110, 70, 100],\n",
    "        \n",
    "            [200, 210, 180, 190],\n",
    "    \n",
    "            [300, 310, 300, 310]]\n",
    "\n",
    "1일차 수익 0원 (100 - 100), 2일차 수익 -10원 (190 - 200), 3일차 수익 10원 (310 - 300) 이다.\n",
    "\n",
    "0"
   ]
  },
  {
   "cell_type": "code",
   "execution_count": 84,
   "metadata": {},
   "outputs": [
    {
     "data": {
      "text/plain": [
       "0"
      ]
     },
     "execution_count": 84,
     "metadata": {},
     "output_type": "execute_result"
    }
   ],
   "source": [
    "# 각 거래일 수익금 : 시가 - 종가\n",
    "# 총 수익금\n",
    "\n",
    "total = 0\n",
    "for i in ohlc[1:]:\n",
    "    j = i[0] - i[3]\n",
    "\n",
    "    total = total + j\n",
    "\n",
    "total"
   ]
  }
 ],
 "metadata": {
  "kernelspec": {
   "display_name": "Python 3.10.9 ('base')",
   "language": "python",
   "name": "python3"
  },
  "language_info": {
   "codemirror_mode": {
    "name": "ipython",
    "version": 3
   },
   "file_extension": ".py",
   "mimetype": "text/x-python",
   "name": "python",
   "nbconvert_exporter": "python",
   "pygments_lexer": "ipython3",
   "version": "3.9.13"
  },
  "orig_nbformat": 4,
  "vscode": {
   "interpreter": {
    "hash": "57bc2b6ce032b5f0e93daa91901b7ea38a856826ef43aa9e95b6d3999f5310df"
   }
  }
 },
 "nbformat": 4,
 "nbformat_minor": 2
}
