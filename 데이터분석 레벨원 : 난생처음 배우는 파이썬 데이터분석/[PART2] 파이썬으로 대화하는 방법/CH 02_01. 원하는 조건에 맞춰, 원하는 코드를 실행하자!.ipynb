{
 "cells": [
  {
   "cell_type": "markdown",
   "metadata": {
    "id": "Es1-Z2qdUi3u"
   },
   "source": [
    "## If statement (조건문)"
   ]
  },
  {
   "cell_type": "markdown",
   "metadata": {
    "id": "Hsk1YRFMUi3u"
   },
   "source": [
    "### 이번 실습에서는 다음 내용들을 배웁니다.\n",
    "\n",
    "\n",
    "- 조건을 판단하여 프로그램이 다른 명령을 수행할 수 있는 방법에 대해 배웁니다.\n",
    "\n",
    "\n",
    "- 파이썬에서 if를 사용하는 방법에 대해 배웁니다."
   ]
  },
  {
   "cell_type": "code",
   "execution_count": 9,
   "metadata": {},
   "outputs": [
    {
     "name": "stdout",
     "output_type": "stream",
     "text": [
      "True\n",
      "조건이 맞으면\n",
      "그때만 출력\n",
      "조건과 상관없이 출력\n"
     ]
    }
   ],
   "source": [
    "a = 5\n",
    "\n",
    "if a == 5:\n",
    "    print(True)\n",
    "    print('조건이 맞으면')\n",
    "    print('그때만 출력')\n",
    "    \n",
    "print('조건과 상관없이 출력')"
   ]
  },
  {
   "cell_type": "code",
   "execution_count": 10,
   "metadata": {
    "id": "xzKBABrIUi3v"
   },
   "outputs": [
    {
     "name": "stdout",
     "output_type": "stream",
     "text": [
      "무조건 출력\n"
     ]
    }
   ],
   "source": [
    "a = 4\n",
    "b = 6\n",
    "# a가 5인데, a가 5와 같으면, True를 출력하고 싶다.\n",
    "if a == 5 :\n",
    "    print(True)\n",
    "\n",
    "print('무조건 출력')"
   ]
  },
  {
   "cell_type": "markdown",
   "metadata": {
    "id": "Pzwrwqv3Ui3w"
   },
   "source": [
    "> 조건문을 사용하기 위해선, 비교연산과 논리연산을 알아야 한다."
   ]
  },
  {
   "cell_type": "code",
   "execution_count": null,
   "metadata": {
    "id": "hXV39i8KUi3w"
   },
   "outputs": [],
   "source": [
    "# 같다, 같지 않다, 크다, 작다, 크거나 같다, 작거나 같다\n",
    "a == b\n",
    "a != b\n",
    "a > b\n",
    "a < b\n",
    "a >= b\n",
    "a <= b"
   ]
  },
  {
   "cell_type": "code",
   "execution_count": null,
   "metadata": {
    "id": "R1JySrQyUi3x"
   },
   "outputs": [],
   "source": [
    "# e.g. (a % 15 == 0) and (a % 60 != 0)\n",
    "a and b     # a와 b 둘 다 만족해야 True\n",
    "a or b      # a와 b 둘 중 하나만 만족해도  True\n",
    "not a       # a가 아닌것"
   ]
  },
  {
   "cell_type": "markdown",
   "metadata": {
    "id": "dEkOoiCbUi3x"
   },
   "source": [
    "> 비교연산과 논리연산의 공통점은 결과가 참(True) 또는 거짓(False)라는 것이다."
   ]
  },
  {
   "cell_type": "markdown",
   "metadata": {
    "id": "ObfTcWwhUi3x"
   },
   "source": [
    "#### 자판기를 만들어보자."
   ]
  },
  {
   "cell_type": "markdown",
   "metadata": {
    "id": "dVQXP68aUi3x"
   },
   "source": [
    "> **자판기에 들어갈 프로그램을 만들어야 한다.** 자판기에 입력된 돈이 300원이면 커피를 주고, 300원보다 적은 경우엔 돈을 그냥 돌려주고, 300원보다 많은 경우에는 커피와 함께 거스름돈을 주어야 한다. 이를 어떻게 구현할 수 있을까?"
   ]
  },
  {
   "cell_type": "code",
   "execution_count": 11,
   "metadata": {
    "id": "6F0CsTxgUi3x"
   },
   "outputs": [],
   "source": [
    "money = 500\n",
    "# 돈이 300원인데, 돈이 300원이랑 같으면 coffee를 준다.\n",
    "if money == 300:\n",
    "    print('coffee')"
   ]
  },
  {
   "cell_type": "code",
   "execution_count": 12,
   "metadata": {
    "id": "cxuFUyqYUi3y"
   },
   "outputs": [
    {
     "name": "stdout",
     "output_type": "stream",
     "text": [
      "거스름돈 200원을 돌려줍니다\n"
     ]
    }
   ],
   "source": [
    "money = 200\n",
    "# 돈이 200원 있다. 그러면 어떻게 해야할까?\n",
    "if money < 300 :\n",
    "    print(f'거스름돈 {money}원을 돌려줍니다')"
   ]
  },
  {
   "cell_type": "code",
   "execution_count": 15,
   "metadata": {
    "id": "k6V0Tk29Ui3y"
   },
   "outputs": [
    {
     "name": "stdout",
     "output_type": "stream",
     "text": [
      "coffee\n",
      "거스름돈 700원을 돌려줍니다\n"
     ]
    }
   ],
   "source": [
    "money = 1000\n",
    "# 돈이 1000원이 있는 경우에는?\n",
    "if money > 300:\n",
    "    print('coffee')\n",
    "    print(f'거스름돈 {money - 300}원을 돌려줍니다')"
   ]
  },
  {
   "cell_type": "code",
   "execution_count": 18,
   "metadata": {},
   "outputs": [
    {
     "name": "stdout",
     "output_type": "stream",
     "text": [
      "노트를 드립니다\n"
     ]
    }
   ],
   "source": [
    "note = 500  \n",
    "if note == 500:\n",
    "    print('노트를 드립니다')"
   ]
  },
  {
   "cell_type": "code",
   "execution_count": 20,
   "metadata": {},
   "outputs": [
    {
     "name": "stdout",
     "output_type": "stream",
     "text": [
      "잔돈 300원을 드립니다\n"
     ]
    }
   ],
   "source": [
    "note = 300\n",
    "if note < 500:\n",
    "    print(f'잔돈 {note}원을 드립니다')"
   ]
  },
  {
   "cell_type": "code",
   "execution_count": 19,
   "metadata": {},
   "outputs": [
    {
     "name": "stdout",
     "output_type": "stream",
     "text": [
      "노트를 드립니다\n",
      "잔돈 500원을 드립니다\n"
     ]
    }
   ],
   "source": [
    "note = 1000\n",
    "if note > 500:\n",
    "    print('노트를 드립니다')\n",
    "    print(f'잔돈 {note - 500}원을 드립니다')"
   ]
  },
  {
   "cell_type": "markdown",
   "metadata": {
    "id": "yqWtTRVLUi3y"
   },
   "source": [
    "#### 자판기 코드 다시 생각해보기\n",
    "\n",
    "> if문에는 if가 아닌 경우에 해당하는 조건을 체크할 수 있는 elif(else if) 구문이 있다.\n",
    "\n",
    "> 모든 if, elif 조건에 체크되지 않는 나머지 경우를 처리하는 else 구문도 있다.\n",
    "\n",
    "**이를 자판기 예제에 다시 적용해보자.**"
   ]
  },
  {
   "cell_type": "code",
   "execution_count": 19,
   "metadata": {
    "id": "hOfIxc0QUi3y"
   },
   "outputs": [
    {
     "name": "stdout",
     "output_type": "stream",
     "text": [
      "커피가 나옵니다\n",
      "거스름돈 200원을 돌려줍니다.\n"
     ]
    }
   ],
   "source": [
    "money = int(input( ))\n",
    "if money == 300 :\n",
    "    print('커피가 나옵니다.')\n",
    "elif money < 300 :\n",
    "    print('요금이 모자랍니다')\n",
    "    print(f'거스름돈 {money}원을 돌려줍니다.')\n",
    "else :\n",
    "    print('커피가 나옵니다')\n",
    "    print(f'거스름돈 {money-300}원을 돌려줍니다.')\n"
   ]
  },
  {
   "cell_type": "code",
   "execution_count": 35,
   "metadata": {},
   "outputs": [
    {
     "name": "stdout",
     "output_type": "stream",
     "text": [
      "노트를 3개를 드립니다\n",
      "거스름돈 300원을 드립니다.\n"
     ]
    }
   ],
   "source": [
    "note = int(input())\n",
    "\n",
    "if note == 500:\n",
    "    print('노트를 1개 드립니다')\n",
    "    print('거스름돈은 없습니다.')\n",
    "\n",
    "elif note < 500:\n",
    "    print(f'돈이 모자랍니다. 거스름돈 {note}원을 드립니다.')\n",
    "\n",
    "else:\n",
    "    print(f'노트를 {note // 500}개를 드립니다')\n",
    "    print(f'거스름돈 {note % 500}원을 드립니다.')"
   ]
  },
  {
   "cell_type": "markdown",
   "metadata": {
    "id": "w0IIbaoBUi3y"
   },
   "source": [
    "#### if-elif-else 말고 nested 구조를 이용해 작성해보자. "
   ]
  },
  {
   "cell_type": "code",
   "execution_count": 21,
   "metadata": {
    "id": "mkwWeE7mUi3y"
   },
   "outputs": [
    {
     "name": "stdout",
     "output_type": "stream",
     "text": [
      "요금이 모자랍니다\n",
      "거스름돈 200원을 돌려줍니다.\n"
     ]
    }
   ],
   "source": [
    "# 다중 if 문 : nested if 문\n",
    "\n",
    "money = int(input( ))\n",
    "if money == 300 :\n",
    "    print('커피가 나옵니다.')\n",
    "else:\n",
    "    if money < 300 :\n",
    "        print('요금이 모자랍니다')\n",
    "        print(f'거스름돈 {money}원을 돌려줍니다.')\n",
    "    else:\n",
    "        print('커피가 나옵니다')\n",
    "        print(f'거스름돈 {money-300}원을 돌려줍니다.')"
   ]
  },
  {
   "cell_type": "code",
   "execution_count": 38,
   "metadata": {},
   "outputs": [
    {
     "name": "stdout",
     "output_type": "stream",
     "text": [
      "노트 1권의 가격은 500원 입니다.\n",
      "돈 2000원을 받았습니다\n",
      "노트를 4개를 드립니다\n",
      "거스름돈 0원을 드립니다.\n"
     ]
    }
   ],
   "source": [
    "note = int(input())\n",
    "print('노트 1권의 가격은 500원 입니다.')\n",
    "print(f'돈 {note}원을 받았습니다')\n",
    "\n",
    "if note == 500:\n",
    "    print('노트를 1개 드립니다')\n",
    "    print('거스름돈은 없습니다.')\n",
    "\n",
    "else:\n",
    "    if note < 500:\n",
    "        print(f'돈이 모자랍니다. 거스름돈 {note}원을 드립니다.')\n",
    "\n",
    "    else:\n",
    "        print(f'노트를 {note // 500}개를 드립니다')\n",
    "        print(f'거스름돈 {note % 500}원을 드립니다.')"
   ]
  }
 ],
 "metadata": {
  "colab": {
   "collapsed_sections": [],
   "name": "Chapter.01 파이썬 프로그래밍-06. IF (실습).ipynb",
   "provenance": []
  },
  "kernelspec": {
   "display_name": "Python 3.9.16 ('base')",
   "language": "python",
   "name": "python3"
  },
  "language_info": {
   "codemirror_mode": {
    "name": "ipython",
    "version": 3
   },
   "file_extension": ".py",
   "mimetype": "text/x-python",
   "name": "python",
   "nbconvert_exporter": "python",
   "pygments_lexer": "ipython3",
   "version": "3.10.9"
  },
  "vscode": {
   "interpreter": {
    "hash": "57bc2b6ce032b5f0e93daa91901b7ea38a856826ef43aa9e95b6d3999f5310df"
   }
  }
 },
 "nbformat": 4,
 "nbformat_minor": 1
}
