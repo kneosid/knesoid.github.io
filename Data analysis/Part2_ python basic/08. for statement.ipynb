{
 "cells": [
  {
   "cell_type": "markdown",
   "metadata": {
    "id": "iZgZ2ODQkInN"
   },
   "source": [
    "## 8. `for` statement"
   ]
  },
  {
   "cell_type": "markdown",
   "metadata": {
    "id": "KDtdz3TSkInN"
   },
   "source": [
    "- while문은 조건이 만족하는 동안 반복을 수행했지만, for문은 지정 횟수동안 반복을 수행한다.\n",
    "> 여기서 지정된 횟수라는 것은 반복 대상의 크기가 된다.\n",
    "\n",
    "\n",
    "- 보통 iteratable object(반복 가능한 객체)를 대상으로 수행되며, 연속형 데이터 타입 변수들이 여기에 해당된다.\n",
    "> List, Tuple, string, ...\n",
    "\n",
    "\n",
    "- for 변수 in 리스트(튜플, 문자열, iterator):\n",
    "\n",
    "      <statement1>\n",
    "      <statement2>\n",
    "      <statement3>\n",
    "\n",
    "      \n",
    "- 리스트(나 반복가능한 변수들)의 모든 원소를 (자동으로 끝까지) 반복한다."
   ]
  },
  {
   "cell_type": "code",
   "execution_count": 1,
   "metadata": {
    "id": "nfCa2WREkInN"
   },
   "outputs": [
    {
     "name": "stdout",
     "output_type": "stream",
     "text": [
      "1\n",
      "2\n",
      "3\n"
     ]
    }
   ],
   "source": [
    "# 원소가 1, 2, 3인 리스트의 원소를 하나하나 출력하는 반복문을 만든다.\n",
    "\n",
    "L = [1,2,3]\n",
    "\n",
    "for i in L:    # 리스트 L 안의 원소를 차례대로 출력한다\n",
    "     print(i)"
   ]
  },
  {
   "cell_type": "code",
   "execution_count": 2,
   "metadata": {},
   "outputs": [
    {
     "name": "stdout",
     "output_type": "stream",
     "text": [
      "1\n",
      "2\n",
      "3\n",
      "10\n",
      "20\n"
     ]
    }
   ],
   "source": [
    "L = [1,2,3,10,20]\n",
    "\n",
    "for i in L:\n",
    "     print(i)"
   ]
  },
  {
   "cell_type": "markdown",
   "metadata": {
    "id": "5nqRCpEXkInO"
   },
   "source": [
    "#### 6개의 커피 음료가 담긴 리스트가 있다. 카페에 있는 모든 음료를 출력해보자!"
   ]
  },
  {
   "cell_type": "code",
   "execution_count": 4,
   "metadata": {
    "id": "iSuqlRBwkInO"
   },
   "outputs": [
    {
     "name": "stdout",
     "output_type": "stream",
     "text": [
      "아메리카노\n",
      "카페라떼\n",
      "카페모카\n",
      "바닐라라떼\n",
      "핸드드립\n",
      "콜드브루\n"
     ]
    }
   ],
   "source": [
    "coffees = ['아메리카노', '카페라떼', '카페모카', '바닐라라떼', '핸드드립', '콜드브루']\n",
    "\n",
    "for coffee in coffees:\n",
    "     print(coffee)"
   ]
  },
  {
   "cell_type": "markdown",
   "metadata": {
    "id": "mouwfUf0kInO"
   },
   "source": [
    "#### for문의 단짝 range() 함수"
   ]
  },
  {
   "cell_type": "markdown",
   "metadata": {
    "id": "lm_EMsqJkInO"
   },
   "source": [
    "- for문은 특정 횟수동안 반복을 하기 때문에, 횟수를 자동으로 만들어주는 기능이 있으면 좋다.\n",
    "\n",
    "- 파이썬에서 기본적으로 제공하는 range 함수는 특정 숫자 범위내의 값들을 자동으로 생성해주는 함수이다.\n",
    "\n",
    "\n",
    "e.g. range(1, 5)는 1, 2, 3, 4를 차례대로 생성해준다. (5는 범위에서 제외된다. 즉, 마지막 숫자는 제외된다. 1 <= x < 5)"
   ]
  },
  {
   "cell_type": "code",
   "execution_count": 6,
   "metadata": {
    "id": "buAK4mW-kInP"
   },
   "outputs": [
    {
     "name": "stdout",
     "output_type": "stream",
     "text": [
      "1\n",
      "2\n",
      "3\n",
      "4\n"
     ]
    }
   ],
   "source": [
    "# range 함수를 이용해 1부터 4까지 출력하는 프로그램을 작성해보자. for문을 이용해서!\n",
    "\n",
    "for i in range(1,5):     # 1,2,3,4\n",
    "     print(i)\n"
   ]
  },
  {
   "cell_type": "code",
   "execution_count": 8,
   "metadata": {},
   "outputs": [
    {
     "name": "stdout",
     "output_type": "stream",
     "text": [
      "0\n",
      "1\n",
      "2\n",
      "3\n",
      "4\n"
     ]
    }
   ],
   "source": [
    "for i in range(5):       # 인덱싱 0~4 \n",
    "     print(i)"
   ]
  },
  {
   "cell_type": "code",
   "execution_count": 10,
   "metadata": {},
   "outputs": [
    {
     "name": "stdout",
     "output_type": "stream",
     "text": [
      "hi\n",
      "hi\n",
      "hi\n",
      "hi\n",
      "hi\n"
     ]
    }
   ],
   "source": [
    "for i in range(5):\n",
    "     print('hi')         # range에 지정된 횟수만큼 출력됨"
   ]
  },
  {
   "cell_type": "markdown",
   "metadata": {
    "id": "FM9yUoBykInP"
   },
   "source": [
    "#### 6개의 커피 음료와 음료의 가격이 담긴 리스트가 있다. 가지고 있는 돈이 5,000원일 때 먹을 수 있는 모든 음료를 찾아보자!"
   ]
  },
  {
   "cell_type": "code",
   "execution_count": 15,
   "metadata": {
    "id": "rgPKn43YkInP"
   },
   "outputs": [
    {
     "name": "stdout",
     "output_type": "stream",
     "text": [
      "아메리카노\n",
      "카페라떼\n",
      "카페모카\n",
      "콜드브루\n"
     ]
    }
   ],
   "source": [
    "coffees = ['아메리카노', '카페라떼', '카페모카', '바닐라라떼', '핸드드립', '콜드브루']\n",
    "prices = [4100, 4600, 4600, 5100, 6000, 5000]\n",
    "\n",
    "for i in range(6):            # 0 ~ 5 반복\n",
    "     if prices[i] <= 5000:    # prices의 요소들 중\n",
    "                              # 5000 이하일때만 \n",
    "          \n",
    "          print(coffees[i])   # coffees 안에 해당 인덱스 출력"
   ]
  },
  {
   "cell_type": "code",
   "execution_count": 17,
   "metadata": {},
   "outputs": [
    {
     "name": "stdout",
     "output_type": "stream",
     "text": [
      "아메리카노\n",
      "카페라떼\n",
      "카페모카\n",
      "콜드브루\n"
     ]
    }
   ],
   "source": [
    "# enumerate 함수 사용하면 인덱스와 세트로 만들수 있다\n",
    "\n",
    "for i, price in enumerate(prices):\n",
    "     if price <= 5000:\n",
    "          print(coffees[i])"
   ]
  },
  {
   "cell_type": "code",
   "execution_count": 34,
   "metadata": {},
   "outputs": [
    {
     "name": "stdout",
     "output_type": "stream",
     "text": [
      "아메리카노\n",
      "카페라떼\n",
      "카페모카\n",
      "콜드브루\n"
     ]
    }
   ],
   "source": [
    "# zip 함수를 사용하면 두개의 리스트를 세트로 만들수 있다.\n",
    "\n",
    "for coffee, price in zip(coffees, prices):\n",
    "     if price <= 5000:\n",
    "          print(coffee)"
   ]
  },
  {
   "cell_type": "markdown",
   "metadata": {
    "id": "o-lUiJGSkInP"
   },
   "source": [
    "#### RE : 6개의 커피 음료와 음료의 가격이 담긴 리스트가 있다. 오늘은 할인 행사를 하여 모든 음료가 500원 할인 되었다!\n",
    "\n",
    "#### 가지고 있는 돈이 5,000원일 때 먹을 수 있는 모든 음료를 찾아보자!"
   ]
  },
  {
   "cell_type": "code",
   "execution_count": 36,
   "metadata": {
    "id": "eULxqazskInQ"
   },
   "outputs": [
    {
     "name": "stdout",
     "output_type": "stream",
     "text": [
      "아메리카노\n",
      "카페라떼\n",
      "카페모카\n",
      "바닐라라떼\n",
      "콜드브루\n"
     ]
    }
   ],
   "source": [
    "coffees = ['아메리카노', '카페라떼', '카페모카', '바닐라라떼', '핸드드립', '콜드브루']\n",
    "prices = [4100, 4600, 4600, 5100, 6000, 5000]\n",
    "\n",
    "for coffee, price in zip(coffees, prices):\n",
    "     if price <= 5500:\n",
    "          print(coffee)"
   ]
  },
  {
   "cell_type": "markdown",
   "metadata": {
    "id": "LRxrNS8GkInR"
   },
   "source": [
    "#### 전설의 구구단 구현. nested loop를 연습해보자!"
   ]
  },
  {
   "cell_type": "code",
   "execution_count": 25,
   "metadata": {
    "id": "1Hw2C_kGkInR"
   },
   "outputs": [
    {
     "name": "stdout",
     "output_type": "stream",
     "text": [
      "--------------------\n",
      "2 x 1 = 2\n",
      "2 x 2 = 4\n",
      "2 x 3 = 6\n",
      "2 x 4 = 8\n",
      "2 x 5 = 10\n",
      "2 x 6 = 12\n",
      "2 x 7 = 14\n",
      "2 x 8 = 16\n",
      "2 x 9 = 18\n",
      "--------------------\n",
      "3 x 1 = 3\n",
      "3 x 2 = 6\n",
      "3 x 3 = 9\n",
      "3 x 4 = 12\n",
      "3 x 5 = 15\n",
      "3 x 6 = 18\n",
      "3 x 7 = 21\n",
      "3 x 8 = 24\n",
      "3 x 9 = 27\n",
      "--------------------\n",
      "4 x 1 = 4\n",
      "4 x 2 = 8\n",
      "4 x 3 = 12\n",
      "4 x 4 = 16\n",
      "4 x 5 = 20\n",
      "4 x 6 = 24\n",
      "4 x 7 = 28\n",
      "4 x 8 = 32\n",
      "4 x 9 = 36\n",
      "--------------------\n",
      "5 x 1 = 5\n",
      "5 x 2 = 10\n",
      "5 x 3 = 15\n",
      "5 x 4 = 20\n",
      "5 x 5 = 25\n",
      "5 x 6 = 30\n",
      "5 x 7 = 35\n",
      "5 x 8 = 40\n",
      "5 x 9 = 45\n",
      "--------------------\n",
      "6 x 1 = 6\n",
      "6 x 2 = 12\n",
      "6 x 3 = 18\n",
      "6 x 4 = 24\n",
      "6 x 5 = 30\n",
      "6 x 6 = 36\n",
      "6 x 7 = 42\n",
      "6 x 8 = 48\n",
      "6 x 9 = 54\n",
      "--------------------\n",
      "7 x 1 = 7\n",
      "7 x 2 = 14\n",
      "7 x 3 = 21\n",
      "7 x 4 = 28\n",
      "7 x 5 = 35\n",
      "7 x 6 = 42\n",
      "7 x 7 = 49\n",
      "7 x 8 = 56\n",
      "7 x 9 = 63\n",
      "--------------------\n",
      "8 x 1 = 8\n",
      "8 x 2 = 16\n",
      "8 x 3 = 24\n",
      "8 x 4 = 32\n",
      "8 x 5 = 40\n",
      "8 x 6 = 48\n",
      "8 x 7 = 56\n",
      "8 x 8 = 64\n",
      "8 x 9 = 72\n",
      "--------------------\n",
      "9 x 1 = 9\n",
      "9 x 2 = 18\n",
      "9 x 3 = 27\n",
      "9 x 4 = 36\n",
      "9 x 5 = 45\n",
      "9 x 6 = 54\n",
      "9 x 7 = 63\n",
      "9 x 8 = 72\n",
      "9 x 9 = 81\n"
     ]
    }
   ],
   "source": [
    "# nested loop를 이용하여 구구단을 구현합시다. \n",
    "\n",
    "for dan in range(2,10):\n",
    "     print('-' * 20)\n",
    "     for i in range(1,10):\n",
    "          print(f'{dan} x {i} = {dan * i }')\n"
   ]
  },
  {
   "cell_type": "markdown",
   "metadata": {},
   "source": [
    "### 연습문제. 단어 갯수 구하기\n",
    "\n",
    "* 다음과 같은 영어기사 5개가 있다.\n",
    "* 철수는 다음 뉴스기사들의 어떤 단어가 얼마나 나왔는지 궁금해졌다.\n",
    "* 뉴스기사에서 등장하는 모든 단어마다 개수를 세어보자!\n",
    "\n",
    "\n",
    "**[HINT]**\n",
    "\n",
    "1. 각 문장을 단어로 나누려면 어떻게 해야할지 고민해보세요.\n",
    "\n",
    "\n",
    "2. 각 단어를 저장할 data type을 고민해보세요. 어떤 구조가 좋을까요?\n",
    "\n",
    "\n",
    "3. 반복문을 통해서 단어 하나하나의 count를 계산합니다."
   ]
  },
  {
   "cell_type": "code",
   "execution_count": 27,
   "metadata": {
    "id": "qybRJqu1kInR"
   },
   "outputs": [],
   "source": [
    "#아래 5개의 변수들은 각각 하나의 문서를 의미합니다.\n",
    "news1 = \"earn champion products ch approves stock split champion products inc said its board of directors approved a two for one stock split of its common shares for shareholders of record as of april the company also said its board voted to recommend to shareholders at the annual meeting april an increase in the authorized capital stock from five mln to mln shares reuter\"\n",
    "news2 = \"acq computer terminal systems cpml completes sale computer terminal systems inc said it has completed the sale of shares of its common stock and warrants to acquire an additional one mln shares to sedio n v of lugano switzerland for dlrs the company said the warrants are exercisable for five years at a purchase price of dlrs per share computer terminal said sedio also has the right to buy additional shares and increase its total holdings up to pct of the computer terminal s outstanding common stock under certain circumstances involving change of control at the company the company said if the conditions occur the warrants would be exercisable at a price equal to pct of its common stock s market price at the time not to exceed dlrs per share computer terminal also said it sold the technolgy rights to its dot matrix impact technology including any future improvements to woodco inc of houston tex for dlrs but it said it would continue to be the exclusive worldwide licensee of the technology for woodco the company said the moves were part of its reorganization plan and would help pay current operation costs and ensure product delivery computer terminal makes computer generated labels forms tags and ticket printers and terminals reuter\"\n",
    "news3 = \"earn cobanco inc cbco year net shr cts vs dlrs net vs assets mln vs mln deposits mln vs mln loans mln vs mln note th qtr not available year includes extraordinary gain from tax carry forward of dlrs or five cts per shr reuter\"\n",
    "news4 = \"earn am international inc am nd qtr jan oper shr loss two cts vs profit seven cts oper shr profit vs profit revs mln vs mln avg shrs mln vs mln six mths oper shr profit nil vs profit cts oper net profit vs profit revs mln vs mln avg shrs mln vs mln note per shr calculated after payment of preferred dividends results exclude credits of or four cts and or nine cts for qtr and six mths vs or six cts and or cts for prior periods from operating loss carryforwards reuter\"\n",
    "news5 = \"earn brown forman inc bfd th qtr net shr one dlr vs cts net mln vs mln revs mln vs mln nine mths shr dlrs vs dlrs net mln vs mln revs billion vs mln reuter\""
   ]
  },
  {
   "cell_type": "code",
   "execution_count": 29,
   "metadata": {},
   "outputs": [
    {
     "data": {
      "text/plain": [
       "{'earn': 4,\n",
       " 'champion': 2,\n",
       " 'products': 2,\n",
       " 'ch': 1,\n",
       " 'approves': 1,\n",
       " 'stock': 6,\n",
       " 'split': 2,\n",
       " 'inc': 6,\n",
       " 'said': 9,\n",
       " 'its': 8,\n",
       " 'board': 2,\n",
       " 'of': 17,\n",
       " 'directors': 1,\n",
       " 'approved': 1,\n",
       " 'a': 3,\n",
       " 'two': 2,\n",
       " 'for': 8,\n",
       " 'one': 3,\n",
       " 'common': 4,\n",
       " 'shares': 5,\n",
       " 'shareholders': 2,\n",
       " 'record': 1,\n",
       " 'as': 1,\n",
       " 'april': 2,\n",
       " 'the': 18,\n",
       " 'company': 5,\n",
       " 'also': 3,\n",
       " 'voted': 1,\n",
       " 'to': 12,\n",
       " 'recommend': 1,\n",
       " 'at': 5,\n",
       " 'annual': 1,\n",
       " 'meeting': 1,\n",
       " 'an': 2,\n",
       " 'increase': 2,\n",
       " 'in': 1,\n",
       " 'authorized': 1,\n",
       " 'capital': 1,\n",
       " 'from': 3,\n",
       " 'five': 3,\n",
       " 'mln': 24,\n",
       " 'reuter': 5,\n",
       " 'acq': 1,\n",
       " 'computer': 7,\n",
       " 'terminal': 6,\n",
       " 'systems': 2,\n",
       " 'cpml': 1,\n",
       " 'completes': 1,\n",
       " 'sale': 2,\n",
       " 'it': 4,\n",
       " 'has': 2,\n",
       " 'completed': 1,\n",
       " 'and': 9,\n",
       " 'warrants': 3,\n",
       " 'acquire': 1,\n",
       " 'additional': 2,\n",
       " 'sedio': 2,\n",
       " 'n': 1,\n",
       " 'v': 1,\n",
       " 'lugano': 1,\n",
       " 'switzerland': 1,\n",
       " 'dlrs': 8,\n",
       " 'are': 1,\n",
       " 'exercisable': 2,\n",
       " 'years': 1,\n",
       " 'purchase': 1,\n",
       " 'price': 3,\n",
       " 'per': 4,\n",
       " 'share': 2,\n",
       " 'right': 1,\n",
       " 'buy': 1,\n",
       " 'total': 1,\n",
       " 'holdings': 1,\n",
       " 'up': 1,\n",
       " 'pct': 2,\n",
       " 's': 2,\n",
       " 'outstanding': 1,\n",
       " 'under': 1,\n",
       " 'certain': 1,\n",
       " 'circumstances': 1,\n",
       " 'involving': 1,\n",
       " 'change': 1,\n",
       " 'control': 1,\n",
       " 'if': 1,\n",
       " 'conditions': 1,\n",
       " 'occur': 1,\n",
       " 'would': 3,\n",
       " 'be': 2,\n",
       " 'equal': 1,\n",
       " 'market': 1,\n",
       " 'time': 1,\n",
       " 'not': 2,\n",
       " 'exceed': 1,\n",
       " 'sold': 1,\n",
       " 'technolgy': 1,\n",
       " 'rights': 1,\n",
       " 'dot': 1,\n",
       " 'matrix': 1,\n",
       " 'impact': 1,\n",
       " 'technology': 2,\n",
       " 'including': 1,\n",
       " 'any': 1,\n",
       " 'future': 1,\n",
       " 'improvements': 1,\n",
       " 'woodco': 2,\n",
       " 'houston': 1,\n",
       " 'tex': 1,\n",
       " 'but': 1,\n",
       " 'continue': 1,\n",
       " 'exclusive': 1,\n",
       " 'worldwide': 1,\n",
       " 'licensee': 1,\n",
       " 'moves': 1,\n",
       " 'were': 1,\n",
       " 'part': 1,\n",
       " 'reorganization': 1,\n",
       " 'plan': 1,\n",
       " 'help': 1,\n",
       " 'pay': 1,\n",
       " 'current': 1,\n",
       " 'operation': 1,\n",
       " 'costs': 1,\n",
       " 'ensure': 1,\n",
       " 'product': 1,\n",
       " 'delivery': 1,\n",
       " 'makes': 1,\n",
       " 'generated': 1,\n",
       " 'labels': 1,\n",
       " 'forms': 1,\n",
       " 'tags': 1,\n",
       " 'ticket': 1,\n",
       " 'printers': 1,\n",
       " 'terminals': 1,\n",
       " 'cobanco': 1,\n",
       " 'cbco': 1,\n",
       " 'year': 2,\n",
       " 'net': 6,\n",
       " 'shr': 8,\n",
       " 'cts': 10,\n",
       " 'vs': 20,\n",
       " 'assets': 1,\n",
       " 'deposits': 1,\n",
       " 'loans': 1,\n",
       " 'note': 2,\n",
       " 'th': 2,\n",
       " 'qtr': 4,\n",
       " 'available': 1,\n",
       " 'includes': 1,\n",
       " 'extraordinary': 1,\n",
       " 'gain': 1,\n",
       " 'tax': 1,\n",
       " 'carry': 1,\n",
       " 'forward': 1,\n",
       " 'or': 5,\n",
       " 'am': 2,\n",
       " 'international': 1,\n",
       " 'nd': 1,\n",
       " 'jan': 1,\n",
       " 'oper': 4,\n",
       " 'loss': 2,\n",
       " 'profit': 7,\n",
       " 'seven': 1,\n",
       " 'revs': 4,\n",
       " 'avg': 2,\n",
       " 'shrs': 2,\n",
       " 'six': 3,\n",
       " 'mths': 3,\n",
       " 'nil': 1,\n",
       " 'calculated': 1,\n",
       " 'after': 1,\n",
       " 'payment': 1,\n",
       " 'preferred': 1,\n",
       " 'dividends': 1,\n",
       " 'results': 1,\n",
       " 'exclude': 1,\n",
       " 'credits': 1,\n",
       " 'four': 1,\n",
       " 'nine': 2,\n",
       " 'prior': 1,\n",
       " 'periods': 1,\n",
       " 'operating': 1,\n",
       " 'carryforwards': 1,\n",
       " 'brown': 1,\n",
       " 'forman': 1,\n",
       " 'bfd': 1,\n",
       " 'dlr': 1,\n",
       " 'billion': 1}"
      ]
     },
     "execution_count": 29,
     "metadata": {},
     "output_type": "execute_result"
    }
   ],
   "source": [
    "## 코드를 작성해보세요.\n",
    "news = news1.split() +news2.split() +news3.split() +news4.split() +news5.split()\n",
    "dict = {}\n",
    "\n",
    "for word in news:\n",
    "     dict[word] = 0\n",
    "\n",
    "for word in news:\n",
    "     dict[word] = dict[word] + 1\n",
    "dict"
   ]
  }
 ],
 "metadata": {
  "colab": {
   "collapsed_sections": [],
   "name": "Chapter.01 파이썬 프로그래밍-08. for, while (실습).ipynb",
   "provenance": []
  },
  "kernelspec": {
   "display_name": "Python 3 (ipykernel)",
   "language": "python",
   "name": "python3"
  },
  "language_info": {
   "codemirror_mode": {
    "name": "ipython",
    "version": 3
   },
   "file_extension": ".py",
   "mimetype": "text/x-python",
   "name": "python",
   "nbconvert_exporter": "python",
   "pygments_lexer": "ipython3",
   "version": "3.9.13"
  }
 },
 "nbformat": 4,
 "nbformat_minor": 1
}
