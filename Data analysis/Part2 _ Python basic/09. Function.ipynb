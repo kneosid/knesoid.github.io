{
 "cells": [
  {
   "cell_type": "markdown",
   "metadata": {
    "id": "asH4-Ll7yF0P"
   },
   "source": [
    "## Function이란?\n",
    "\n",
    "**수학적인 의미의 함수와 개념은 비슷하지만 역할이 다르다.**\n",
    "\n",
    "\n",
    "- input이 들어와서 output이 정해진 규칙에 따라 나온다는 개념은 같지만, 프로그램에서의 하나의 함수는 **하나의 기능**을 나타낸다.\n",
    "\n",
    "\n",
    "- 정확하게 함수는 특정 기능을 구현한 **코드 묶음**이다.\n",
    "\n",
    "\n",
    "- def 함수이름(param1, param2, ... ):\n",
    "\n",
    "        <statement1>\n",
    "        <statement2>\n",
    "      return\n",
    "\n",
    "\n",
    "- 함수를 쓰는 이유는 **재사용성** 때문이다."
   ]
  },
  {
   "cell_type": "markdown",
   "metadata": {
    "id": "sh1ZNG2GyF0P"
   },
   "source": [
    "> 함수를 사용하는 가장 중요한 이유는 재사용성 때문이다. Reusability라고 하며, ***똑같은 구조의 코드가 반복되는 것을 피하기 위해 사용***된다. 똑같은 구조의 코드는 보통 한 가지의 기능 단위로 묶이게 되며, 이 기능 단위를 코드로 묶어서 함수로 만든다."
   ]
  },
  {
   "cell_type": "markdown",
   "metadata": {
    "id": "8fPSbSXzyF0Q"
   },
   "source": [
    "## Python Function Definition \n",
    "## = 파이썬 함수 정의"
   ]
  },
  {
   "cell_type": "code",
   "execution_count": 14,
   "metadata": {
    "id": "tB-3gkTGyF0Q"
   },
   "outputs": [
    {
     "name": "stdout",
     "output_type": "stream",
     "text": [
      "8\n",
      "11\n",
      "ab\n",
      "[1, 2, 3, 4, 5]\n"
     ]
    }
   ],
   "source": [
    "# 입력받은 a, b를 더한 값을 돌려주는 함수.\n",
    "\n",
    "def add(a,b):       # Python Function Definition \n",
    "     c = a + b\n",
    "     return c\n",
    "\n",
    "print(add(3,5))            # Python Function call\n",
    "print(add(5,6))\n",
    "print(add('a','b'))\n",
    "print(add([1,2],[3,4,5]))"
   ]
  },
  {
   "cell_type": "markdown",
   "metadata": {
    "id": "8yTnxs3ByF0R"
   },
   "source": [
    "#### 기억해야 할 것은, input --- (Function) ----> output 의 구조이며, 이 때 어떤 input parameter가 들어가서, 어떤 output parameter가 나오는지 주목해야한다."
   ]
  },
  {
   "cell_type": "markdown",
   "metadata": {
    "id": "cMW-5h7OyF0R"
   },
   "source": [
    "#### 연습삼아, 사칙연산을 모두 함수로 만들어보자."
   ]
  },
  {
   "cell_type": "code",
   "execution_count": 13,
   "metadata": {
    "id": "BGO2MfZbyF0S"
   },
   "outputs": [
    {
     "name": "stdout",
     "output_type": "stream",
     "text": [
      "-2\n",
      "10\n",
      "3.3333333333333335\n",
      "0\n"
     ]
    }
   ],
   "source": [
    "def sub(a, b):\n",
    "     return a - b\n",
    "\n",
    "\n",
    "def mul(a, b):\n",
    "     return a * b\n",
    "\n",
    "\n",
    "def div(a, b):\n",
    "     if b == 0:\n",
    "          return 0\n",
    "     else:\n",
    "          return a / b\n",
    "\n",
    "print(sub(3,5))\n",
    "print(mul(5,2))\n",
    "print(div(10,3))\n",
    "print(div(5,0))     # 0이 되면 에러가 난다\n",
    "                    # 예외 설정을 해주면 정상 출력"
   ]
  },
  {
   "cell_type": "markdown",
   "metadata": {
    "id": "e1-9IBVW4k65"
   },
   "source": [
    "### 함수 정의의 다양한 형태를 연습해보자!"
   ]
  },
  {
   "cell_type": "markdown",
   "metadata": {
    "id": "Qz8sWqk94su9"
   },
   "source": [
    "#### 1. 가장 흔하게 사용되는 경우 -> 함수 parameter와 return이 모두 존재하는 경우."
   ]
  },
  {
   "cell_type": "code",
   "execution_count": 15,
   "metadata": {
    "id": "lD9J7z5H4g9C"
   },
   "outputs": [
    {
     "data": {
      "text/plain": [
       "'ab'"
      ]
     },
     "execution_count": 15,
     "metadata": {},
     "output_type": "execute_result"
    }
   ],
   "source": [
    "def test(a, b):\n",
    "    return a + b\n",
    "\n",
    "test('a', 'b')"
   ]
  },
  {
   "cell_type": "markdown",
   "metadata": {
    "id": "m9OcUVVw41z_"
   },
   "source": [
    "#### 2. 함수 parameter는 없고 return이 존재하는 경우."
   ]
  },
  {
   "cell_type": "code",
   "execution_count": 16,
   "metadata": {
    "id": "iXFA9fXX465J"
   },
   "outputs": [
    {
     "data": {
      "text/plain": [
       "'Test'"
      ]
     },
     "execution_count": 16,
     "metadata": {},
     "output_type": "execute_result"
    }
   ],
   "source": [
    "def test():\n",
    "    return \"Test\"\n",
    "\n",
    "test()"
   ]
  },
  {
   "cell_type": "markdown",
   "metadata": {
    "id": "6qJLyvYx46gF"
   },
   "source": [
    "#### 3. 함수 parameter는 있는데 return이 없는 경우."
   ]
  },
  {
   "cell_type": "code",
   "execution_count": 17,
   "metadata": {
    "id": "64MV2yDF4-jA"
   },
   "outputs": [
    {
     "name": "stdout",
     "output_type": "stream",
     "text": [
      "a: 1, b: 2\n"
     ]
    }
   ],
   "source": [
    "def test(a, b):\n",
    "    print(f\"a: {a}, b: {b}\")\n",
    "\n",
    "test(1,2)"
   ]
  },
  {
   "cell_type": "markdown",
   "metadata": {
    "id": "aaePVAX_4_Ku"
   },
   "source": [
    "#### 4. 함수 parameter도 없고 return도 없는 경우."
   ]
  },
  {
   "cell_type": "code",
   "execution_count": 18,
   "metadata": {
    "id": "vyihU5Zw5CJL"
   },
   "outputs": [
    {
     "name": "stdout",
     "output_type": "stream",
     "text": [
      "Hello World\n"
     ]
    }
   ],
   "source": [
    "def test():\n",
    "    print(\"Hello World\")\n",
    "    \n",
    "test()"
   ]
  },
  {
   "cell_type": "markdown",
   "metadata": {
    "id": "lqCawSAlyF0S"
   },
   "source": [
    "#### Q. 만약에 함수의 입력 parameter의 개수를 모를땐 어떻게 해야할까?"
   ]
  },
  {
   "cell_type": "code",
   "execution_count": 20,
   "metadata": {
    "id": "yFsI7D5fyF0S"
   },
   "outputs": [
    {
     "name": "stdout",
     "output_type": "stream",
     "text": [
      "(1, 2, 3) <class 'tuple'>\n",
      "(1, 2, 3, 4, 5) <class 'tuple'>\n",
      "(20, 30, 112, 12, 2, 1, 1, 2, 1, 5) <class 'tuple'>\n"
     ]
    }
   ],
   "source": [
    "# *(asterisk)를 앞에 붙이는 것으로 여러개의 parameter를 받아서 \n",
    "# tuple로 변환하여 준다.\n",
    "\n",
    "def add_many(*args):    # arguments를 모두 받아서 다 더한 결과를 출력.\n",
    "    print(args,type(args))\n",
    "        \n",
    "add_many(1, 2, 3)\n",
    "add_many(1, 2, 3, 4, 5)\n",
    "add_many(20, 30, 112, 12, 2, 1, 1, 2, 1, 5)"
   ]
  },
  {
   "cell_type": "code",
   "execution_count": 23,
   "metadata": {},
   "outputs": [
    {
     "name": "stdout",
     "output_type": "stream",
     "text": [
      "6\n",
      "15\n",
      "186\n"
     ]
    }
   ],
   "source": [
    "def add(*args):\n",
    "     total = 0           # 합계할 기본 변수값을 설정\n",
    "                         # 초기화 ( initialization )\n",
    "     for arg in args:\n",
    "          total += arg\n",
    "     return total        # 누적합(cumulative sum)\n",
    "\n",
    "print(add(1, 2, 3))\n",
    "print(add(1, 2, 3, 4, 5))\n",
    "print(add(20, 30, 112, 12, 2, 1, 1, 2, 1, 5))"
   ]
  },
  {
   "cell_type": "markdown",
   "metadata": {
    "id": "h7Z72wjwyF0T"
   },
   "source": [
    "### Q. 코드를 작성할 때, 언제 이 부분은 함수로 구현해야겠다 라고 판단할 수 있을까?\n",
    "\n",
    "### ***A. 똑같은 코드가 2번 이상 반복될 때.***"
   ]
  },
  {
   "cell_type": "markdown",
   "metadata": {
    "id": "_IreDkFq8Qmm"
   },
   "source": [
    "### 파라미터에 대해 조금 더 알아봅시다!\n",
    "\n",
    "- 함수에서 사용되는 변수들에게는 효력 범위와 수명이 있습니다.\n",
    "\n",
    "\n",
    "> **function call을 할 때 주의사항!**\n",
    "\n",
    "> 1. mutable data type = list, dict 을 Parameter로 넘겨주는 경우에는 내부 데이터가 바뀔 수 있음을 인지해야한다!\n",
    "\n",
    "> 2. immutable data type = str, int, float, tuple은 내부 데이터가 바뀌지 않습니다."
   ]
  },
  {
   "cell_type": "markdown",
   "metadata": {
    "id": "w9x7d_Ka8T13"
   },
   "source": [
    "Q. 만약에 함수의 파라미터 변수 이름과, 함수를 호출하는 argument의 이름이 같은 경우에 어떻게 될까?"
   ]
  },
  {
   "cell_type": "code",
   "execution_count": 25,
   "metadata": {},
   "outputs": [
    {
     "name": "stdout",
     "output_type": "stream",
     "text": [
      "Lee\n"
     ]
    }
   ],
   "source": [
    "def change_name(name):\n",
    "    name = \"Lee\"    # 파라메타에서 받은 값을 \"Lee\"로 변환\n",
    "    return name     # 변환된 \"Lee\"를 출력\n",
    "\n",
    "\n",
    "name = \"Kim\"    \n",
    "# 여기에 name은 함수 파라메카 이름 name과 별개이다\n",
    "# 함수에 서\n",
    "# str, int, float, tuple\n",
    "\n",
    "name = change_name(name)    # 위에서 변환된 \"Lee\"를 변수에 넣어준다\n",
    "print(name)                 # 변환된 값을 출력해준다"
   ]
  },
  {
   "cell_type": "code",
   "execution_count": 34,
   "metadata": {},
   "outputs": [
    {
     "name": "stdout",
     "output_type": "stream",
     "text": [
      "[7, 2, 3]\n",
      "[7, 2, 3]\n"
     ]
    }
   ],
   "source": [
    "def change_list(L):\n",
    "     # parameter : mutable data type = list, dict 주의!!\n",
    "     # 내부 데이터가 바뀔 수 있음\n",
    "     L[0] = 7\n",
    "     return L\n",
    "\n",
    "L = [1,2,3]\n",
    "L2 = change_list(L)\n",
    "print(L)\n",
    "print(L2)       "
   ]
  },
  {
   "cell_type": "markdown",
   "metadata": {},
   "source": [
    "### 연습문제. 주어진 리스트의 중앙값을 찾아보자!"
   ]
  },
  {
   "cell_type": "code",
   "execution_count": 43,
   "metadata": {},
   "outputs": [
    {
     "name": "stdout",
     "output_type": "stream",
     "text": [
      "3\n",
      "3.5\n",
      "4.5\n"
     ]
    }
   ],
   "source": [
    "# 중앙값 : 홀수개 일때는 한가운데 값\n",
    "#         짝수개 일때는 중앙의 2개의 값의 평균 값\n",
    "#         오름차순 정렬이 되어 있어야 계산 가능\n",
    "\n",
    "def find_median(L):\n",
    "     L.sort()                  # 오름차순 정렬\n",
    "     if len(L) % 2 == 0:       # 짝수일때\n",
    "          n1 = L[int(len(L) / 2) -1 ]\n",
    "          n2 = L[int(len(L) / 2)]\n",
    "          n = (n1 + n2) / 2\n",
    "     else:                     # 홀수일때\n",
    "          n = L[int(len(L) / 2)]\n",
    "     return n\n",
    "\n",
    "L = [1, 2, 3, 4, 5]\n",
    "L2 = [1, 2, 3, 4, 5, 6]\n",
    "L3 = [1, 2, 3, 4, 5, 6, 7, 8, 10, -11, -63, 17]\n",
    "\n",
    "L4 = L3.copy()           # 리스트가 정렬되면서 기본값이 바뀌기 때문에\n",
    "                         # 리스트 값을 카피 후 정렬한다 \n",
    "print(find_median(L))\n",
    "print(find_median(L2))\n",
    "print(find_median(L4))"
   ]
  },
  {
   "cell_type": "code",
   "execution_count": 45,
   "metadata": {},
   "outputs": [
    {
     "name": "stdout",
     "output_type": "stream",
     "text": [
      "3\n",
      "3.5\n",
      "4.5\n",
      "[1, 2, 3, 4, 5, 6, 7, 8, 10, -11, -63, 17]\n"
     ]
    }
   ],
   "source": [
    "# 다른방법 \n",
    "\n",
    "def find_median(L):\n",
    "     L = sorted(L)             # 오름차순 정렬 값을 복사해준다\n",
    "\n",
    "     if len(L) % 2 == 0:       # 짝수일때\n",
    "          n1 = L[int(len(L) / 2) -1 ]\n",
    "          n2 = L[int(len(L) / 2)]\n",
    "          n = (n1 + n2) / 2\n",
    "     else:                     # 홀수일때\n",
    "          n = L[int(len(L) / 2)]\n",
    "     return n\n",
    "\n",
    "L = [1, 2, 3, 4, 5]\n",
    "L2 = [1, 2, 3, 4, 5, 6]\n",
    "L3 = [1, 2, 3, 4, 5, 6, 7, 8, 10, -11, -63, 17]\n",
    "\n",
    "print(find_median(L))\n",
    "print(find_median(L2))\n",
    "print(find_median(L3))\n",
    "\n",
    "print(L3)"
   ]
  }
 ],
 "metadata": {
  "colab": {
   "collapsed_sections": [],
   "name": "Chapter.01 파이썬 프로그래밍-10. 함수 (실습).ipynb",
   "provenance": []
  },
  "kernelspec": {
   "display_name": "Python 3 (ipykernel)",
   "language": "python",
   "name": "python3"
  },
  "language_info": {
   "codemirror_mode": {
    "name": "ipython",
    "version": 3
   },
   "file_extension": ".py",
   "mimetype": "text/x-python",
   "name": "python",
   "nbconvert_exporter": "python",
   "pygments_lexer": "ipython3",
   "version": "3.9.13"
  }
 },
 "nbformat": 4,
 "nbformat_minor": 1
}
