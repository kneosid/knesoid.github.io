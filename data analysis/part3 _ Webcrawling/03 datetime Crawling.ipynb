{
 "cells": [
  {
   "cell_type": "markdown",
   "metadata": {},
   "source": [
    "## 1.1 날짜 추출"
   ]
  },
  {
   "cell_type": "markdown",
   "metadata": {},
   "source": [
    "- td 태그중에 원하는 정보만을 따로 가져와야 합니다. (표를 자세히 보시면 왜 54개인지 알 수 있습니다.)\n",
    "\n",
    "\n",
    "- 날짜 태그의 규칙을 찾아서 td 태그들 중에 날짜를 가져옵니다.\n",
    "\n",
    "\n",
    "- 그런데 해당 페이지위에서 날짜 정보가 있는 tag에 대한 규칙을 찾기가 어렵습니다. 이럴 때 XPath 정보를 이용하여 바로 검색할 태그를 지정할 수 있습니다.\n",
    "\n",
    "\n",
    "- 아래 그림과 같이 우클릭을 해서 Copy XPath를 눌러줍니다."
   ]
  },
  {
   "cell_type": "markdown",
   "metadata": {},
   "source": [
    "![sise_xpath](webcrawling/get_xpath.png)"
   ]
  },
  {
   "cell_type": "code",
   "execution_count": null,
   "metadata": {},
   "outputs": [],
   "source": [
    "import requests\n",
    "import bs4\n",
    "\n",
    "page_no = 1\n",
    "page_url = f'https://finance.naver.com/sise/sise_index_day.naver?code=KPI200&page={page_no}'\n",
    "page_url\n",
    "\n",
    "source = requests.get(page_url).text\n",
    "print(source)\n",
    "\n",
    "source = bs4.BeautifulSoup(source)\n",
    "print(source)"
   ]
  },
  {
   "cell_type": "code",
   "execution_count": 17,
   "metadata": {},
   "outputs": [
    {
     "data": {
      "text/plain": [
       "[<td class=\"date\">2024.02.15</td>,\n",
       " <td class=\"date\">2024.02.14</td>,\n",
       " <td class=\"date\">2024.02.13</td>,\n",
       " <td class=\"date\">2024.02.08</td>,\n",
       " <td class=\"date\">2024.02.07</td>,\n",
       " <td class=\"date\">2024.02.06</td>]"
      ]
     },
     "execution_count": 17,
     "metadata": {},
     "output_type": "execute_result"
    }
   ],
   "source": [
    "# date에 대한 xpath\n",
    "#/html/body/div/table[1]/tbody/tr[3]/td[1] \n",
    "\n",
    "dates = source.find_all('td',class_ = 'date')\n",
    "dates"
   ]
  },
  {
   "cell_type": "code",
   "execution_count": 18,
   "metadata": {},
   "outputs": [
    {
     "data": {
      "text/plain": [
       "'2024.02.15'"
      ]
     },
     "execution_count": 18,
     "metadata": {},
     "output_type": "execute_result"
    }
   ],
   "source": [
    "dates[0].text"
   ]
  },
  {
   "cell_type": "code",
   "execution_count": 24,
   "metadata": {},
   "outputs": [
    {
     "data": {
      "text/plain": [
       "['2024.02.15',\n",
       " '2024.02.14',\n",
       " '2024.02.13',\n",
       " '2024.02.08',\n",
       " '2024.02.07',\n",
       " '2024.02.06']"
      ]
     },
     "execution_count": 24,
     "metadata": {},
     "output_type": "execute_result"
    }
   ],
   "source": [
    "# tag를 통해 가져온 다음에 텍스트를 가져옵니다. 데이터는 text 형태로 tag 사이에 있습니다.\n",
    "# tag 사이에 껴있는 텍스트를 가져올 때 .text를 사용합니다.\n",
    "\n",
    "date_list =[]\n",
    "\n",
    "for date in dates:\n",
    "    date_list.append(date.text)\n",
    "\n",
    "date_list\n"
   ]
  },
  {
   "cell_type": "code",
   "execution_count": null,
   "metadata": {},
   "outputs": [],
   "source": [
    "# XPath\n",
    "\n",
    "/html/body/div/table[1]/tbody/tr[3]/td[1]"
   ]
  },
  {
   "cell_type": "markdown",
   "metadata": {},
   "source": [
    "- 날짜를 크롤링하는데 성공했습니다!!"
   ]
  },
  {
   "cell_type": "markdown",
   "metadata": {},
   "source": [
    "## 1.2 체결가(종가) 추출"
   ]
  },
  {
   "cell_type": "markdown",
   "metadata": {},
   "source": [
    "#### 페이지 상의 날짜와 종가정보 전체 추출"
   ]
  },
  {
   "cell_type": "code",
   "execution_count": 31,
   "metadata": {},
   "outputs": [
    {
     "data": {
      "text/plain": [
       "[<td class=\"number_1\">351.21</td>,\n",
       " <td class=\"number_1\">352.69</td>,\n",
       " <td class=\"number_1\">357.38</td>,\n",
       " <td class=\"number_1\">353.29</td>,\n",
       " <td class=\"number_1\">352.25</td>,\n",
       " <td class=\"number_1\">347.80</td>]"
      ]
     },
     "execution_count": 31,
     "metadata": {},
     "output_type": "execute_result"
    }
   ],
   "source": [
    "prices = source.find_all('td',class_ = 'number_1') \n",
    "prices[::4]         # 처음부터 끝까지 중 4칸씩"
   ]
  },
  {
   "cell_type": "code",
   "execution_count": 32,
   "metadata": {},
   "outputs": [
    {
     "data": {
      "text/plain": [
       "['351.21', '352.69', '357.38', '353.29', '352.25', '347.80']"
      ]
     },
     "execution_count": 32,
     "metadata": {},
     "output_type": "execute_result"
    }
   ],
   "source": [
    "price_list = []\n",
    "for price in prices[::4]:\n",
    "    price_list.append(price.text)\n",
    "\n",
    "price_list"
   ]
  },
  {
   "cell_type": "code",
   "execution_count": 34,
   "metadata": {},
   "outputs": [
    {
     "data": {
      "text/plain": [
       "6"
      ]
     },
     "execution_count": 34,
     "metadata": {},
     "output_type": "execute_result"
    }
   ],
   "source": [
    "len(date_list)"
   ]
  },
  {
   "cell_type": "code",
   "execution_count": 35,
   "metadata": {},
   "outputs": [
    {
     "data": {
      "text/plain": [
       "6"
      ]
     },
     "execution_count": 35,
     "metadata": {},
     "output_type": "execute_result"
    }
   ],
   "source": [
    "len(price_list)"
   ]
  },
  {
   "cell_type": "markdown",
   "metadata": {},
   "source": [
    "- 페이지에서 표의 태그들을 살펴보면, 체결가 이후로 전일비/등락률/거래량/거래대금 들도 같은 태그를 공유하고 있어, 4개씩 증가하는 것을 알 수 있습니다.\n",
    "\n",
    "\n",
    "- 이것을 규칙으로 number_1으로 추출한 태그는 24개이지만, 이 중에서 4의 배수로 건너뛰면서 추출하면 바로 체결가를 가져올 수 있다는 것을 확인할 수 있습니다."
   ]
  },
  {
   "cell_type": "markdown",
   "metadata": {},
   "source": [
    "- 이제 크롤러의 마지막 관문이 남았습니다\n",
    "\n",
    "\n",
    "- 현재까지 하나의 페이지에서 크롤링 하는 것을 완료하였습니다.\n",
    "\n",
    "\n",
    "- 이제 이 작업을 원하는 페이지까지(또는 끝까지) **반복** 진행하면 됩니다.\n",
    "\n",
    "\n",
    "- 그렇다면 이제 마지막 페이지를 찾을 차례입니다."
   ]
  },
  {
   "cell_type": "markdown",
   "metadata": {},
   "source": [
    "#### 마지막 페이지 번호 찾기"
   ]
  },
  {
   "cell_type": "markdown",
   "metadata": {},
   "source": [
    "![last_page](webcrawling/get_last_page.png)"
   ]
  },
  {
   "cell_type": "code",
   "execution_count": 40,
   "metadata": {
    "scrolled": true
   },
   "outputs": [
    {
     "data": {
      "text/plain": [
       "'/sise/sise_index_day.naver?code=KPI200&page=747'"
      ]
     },
     "execution_count": 40,
     "metadata": {},
     "output_type": "execute_result"
    }
   ],
   "source": [
    "# 역시 해당 tag의 xpath를 복사해옵니다. 하지만 규칙이 간단해서 xpath를 굳이 사용하진 않겠습니다.\n",
    "\n",
    "# /html/body/div/table[2]/tbody/tr/td[7]/a\n",
    "\n",
    "# td tag중에 class가 pgRR인 태그를 찾아서, 그 하위에 있는 a tag의 href 속성값을 가져옵니다.\n",
    "\n",
    "last_url = source.find_all('td',class_ = 'pgRR')[0].find_all('a')[0]['href']\n",
    "last_url"
   ]
  },
  {
   "cell_type": "markdown",
   "metadata": {},
   "source": [
    "- 위에 최종적으로 가져온 문자열에서 마지막 3글자를 때어내면 우리가 원하는 마지막 페이지 숫자인 591이 나옵니다."
   ]
  },
  {
   "cell_type": "code",
   "execution_count": 41,
   "metadata": {},
   "outputs": [
    {
     "data": {
      "text/plain": [
       "['/sise/sise_index_day.naver?code=KPI200', '747']"
      ]
     },
     "execution_count": 41,
     "metadata": {},
     "output_type": "execute_result"
    }
   ],
   "source": [
    "# 마지막 글자를 때어내기 위해서 규칙을 생각해봅니다.\n",
    "last_url.split('&page=')"
   ]
  },
  {
   "cell_type": "code",
   "execution_count": 45,
   "metadata": {},
   "outputs": [
    {
     "data": {
      "text/plain": [
       "'747'"
      ]
     },
     "execution_count": 45,
     "metadata": {},
     "output_type": "execute_result"
    }
   ],
   "source": [
    "last_page = last_url.split('&page=')[-1]\n",
    "last_page"
   ]
  },
  {
   "cell_type": "markdown",
   "metadata": {},
   "source": [
    "- 진짜 마지막 단계입니다. 해당 페이지 주소의 규칙을 찾아야 합니다.\n",
    "\n",
    "\n",
    "- 이제 크롤링의 과정은 다음과 같습니다.\n",
    "\n",
    "1) 일별 시세 정보가 있는 페이지에 접속한다.\n",
    "\n",
    "\n",
    "2) 페이지에서 날짜 / 체결가가 들어있는 태그를 검색한다.\n",
    "\n",
    "\n",
    "3) 태그 중에서 우리가 찾은 조건에 맞는 데이터만 가져온다.\n",
    "\n",
    "\n",
    "4) 이를 원하는만큼(현재는 마지막페이지까지) 반복한다."
   ]
  },
  {
   "cell_type": "code",
   "execution_count": null,
   "metadata": {},
   "outputs": [],
   "source": [
    "# 100 페이지에 접속하는 예시\n",
    "naver_index = 'http://finance.naver.com/sise/sise_index_day.nhn?code=' + index_cd + '&page=' + str(100)\n",
    "\n",
    "# 위에서 작성했던 모든 코드를 종합합니다.\n",
    "\n"
   ]
  },
  {
   "cell_type": "markdown",
   "metadata": {},
   "source": [
    "## 1.3 가져온 모든 정보를 하나로 합쳐서 구현하기 "
   ]
  },
  {
   "cell_type": "code",
   "execution_count": 49,
   "metadata": {},
   "outputs": [],
   "source": [
    "# 위에서 구현한 모든 내용을 하나의 코드로 구현합니다.\n",
    "date_list = []\n",
    "price_list = []\n",
    "\n",
    "for page_no in range(1,int(last_page)+1):\n",
    "    page_url = f'https://finance.naver.com/sise/sise_index_day.naver?code=KPI200&page={page_no}'\n",
    "\n",
    "    source = requests.get(page_url).text\n",
    "    source = bs4.BeautifulSoup(source)\n",
    "\n",
    "    dates = source.find_all('td',class_ ='date')\n",
    "\n",
    "    for date in dates:\n",
    "        date_list.append(date.text)\n",
    "    \n",
    "    prices = source.find_all('td',class_ ='number_1')\n",
    "\n",
    "\n",
    "    for price in prices[::4]:\n",
    "        price_list.append(price.text)\n"
   ]
  },
  {
   "cell_type": "code",
   "execution_count": 51,
   "metadata": {},
   "outputs": [
    {
     "data": {
      "text/plain": [
       "(4482, 4482)"
      ]
     },
     "execution_count": 51,
     "metadata": {},
     "output_type": "execute_result"
    }
   ],
   "source": [
    "len(date_list),len(price_list)"
   ]
  },
  {
   "cell_type": "code",
   "execution_count": 56,
   "metadata": {},
   "outputs": [
    {
     "data": {
      "text/html": [
       "<div>\n",
       "<style scoped>\n",
       "    .dataframe tbody tr th:only-of-type {\n",
       "        vertical-align: middle;\n",
       "    }\n",
       "\n",
       "    .dataframe tbody tr th {\n",
       "        vertical-align: top;\n",
       "    }\n",
       "\n",
       "    .dataframe thead th {\n",
       "        text-align: right;\n",
       "    }\n",
       "</style>\n",
       "<table border=\"1\" class=\"dataframe\">\n",
       "  <thead>\n",
       "    <tr style=\"text-align: right;\">\n",
       "      <th></th>\n",
       "      <th>date</th>\n",
       "      <th>price</th>\n",
       "    </tr>\n",
       "  </thead>\n",
       "  <tbody>\n",
       "    <tr>\n",
       "      <th>0</th>\n",
       "      <td>2024.02.15</td>\n",
       "      <td>351.21</td>\n",
       "    </tr>\n",
       "    <tr>\n",
       "      <th>1</th>\n",
       "      <td>2024.02.14</td>\n",
       "      <td>352.69</td>\n",
       "    </tr>\n",
       "    <tr>\n",
       "      <th>2</th>\n",
       "      <td>2024.02.13</td>\n",
       "      <td>357.38</td>\n",
       "    </tr>\n",
       "    <tr>\n",
       "      <th>3</th>\n",
       "      <td>2024.02.08</td>\n",
       "      <td>353.29</td>\n",
       "    </tr>\n",
       "    <tr>\n",
       "      <th>4</th>\n",
       "      <td>2024.02.07</td>\n",
       "      <td>352.25</td>\n",
       "    </tr>\n",
       "    <tr>\n",
       "      <th>...</th>\n",
       "      <td>...</td>\n",
       "      <td>...</td>\n",
       "    </tr>\n",
       "    <tr>\n",
       "      <th>4477</th>\n",
       "      <td></td>\n",
       "      <td></td>\n",
       "    </tr>\n",
       "    <tr>\n",
       "      <th>4478</th>\n",
       "      <td></td>\n",
       "      <td></td>\n",
       "    </tr>\n",
       "    <tr>\n",
       "      <th>4479</th>\n",
       "      <td></td>\n",
       "      <td></td>\n",
       "    </tr>\n",
       "    <tr>\n",
       "      <th>4480</th>\n",
       "      <td></td>\n",
       "      <td></td>\n",
       "    </tr>\n",
       "    <tr>\n",
       "      <th>4481</th>\n",
       "      <td></td>\n",
       "      <td></td>\n",
       "    </tr>\n",
       "  </tbody>\n",
       "</table>\n",
       "<p>4482 rows × 2 columns</p>\n",
       "</div>"
      ],
      "text/plain": [
       "            date   price\n",
       "0     2024.02.15  351.21\n",
       "1     2024.02.14  352.69\n",
       "2     2024.02.13  357.38\n",
       "3     2024.02.08  353.29\n",
       "4     2024.02.07  352.25\n",
       "...          ...     ...\n",
       "4477                    \n",
       "4478                    \n",
       "4479                    \n",
       "4480                    \n",
       "4481                    \n",
       "\n",
       "[4482 rows x 2 columns]"
      ]
     },
     "execution_count": 56,
     "metadata": {},
     "output_type": "execute_result"
    }
   ],
   "source": [
    "import pandas as pd\n",
    "\n",
    "df = pd.DataFrame({'date': date_list,\n",
    "                  'price': price_list}).dropna()\n",
    "df"
   ]
  },
  {
   "cell_type": "code",
   "execution_count": 57,
   "metadata": {},
   "outputs": [],
   "source": [
    "df.to_excel('kpi200.xlsx',index=False)"
   ]
  }
 ],
 "metadata": {
  "kernelspec": {
   "display_name": "Python 3 (ipykernel)",
   "language": "python",
   "name": "python3"
  },
  "language_info": {
   "codemirror_mode": {
    "name": "ipython",
    "version": 3
   },
   "file_extension": ".py",
   "mimetype": "text/x-python",
   "name": "python",
   "nbconvert_exporter": "python",
   "pygments_lexer": "ipython3",
   "version": "3.10.5"
  }
 },
 "nbformat": 4,
 "nbformat_minor": 2
}
