{
 "cells": [
  {
   "cell_type": "markdown",
   "metadata": {},
   "source": [
    "![self_station](./webcrawling/self_station.jpg)"
   ]
  },
  {
   "cell_type": "markdown",
   "metadata": {},
   "source": [
    "- 운전을 하면 필연적으로 기름가격(유가)에 대해 관심을 가질 수 밖에 없습니다.\n",
    "\n",
    "\n",
    "- 특히 서울시내에는 생각보다 주유소가 많지 않고, 교통체증이 심해서 자주 가는 주유소를 많이 방문합니다.\n",
    "\n",
    "\n",
    "- 주유소 중에서 소폭의 가격인하를 하기 위해 알바가 없고 셀프주유를 하는 곳이 많이 생겼습니다.\n",
    "\n",
    "\n",
    "- 과연 셀프 주유소는 가격이 저렴한지 궁금해졌습니다.\n",
    "\n",
    "\n",
    "- 전국 주유소 가격을 제공하는 Opinet에서 크롤링을 통해 전국 주유소 가격을 얻은 뒤, 셀프 주유소의 가격에 대해 분석해봅니다.\n",
    "\n",
    "http://www.opinet.co.kr/user/main/mainView.do"
   ]
  },
  {
   "cell_type": "markdown",
   "metadata": {},
   "source": [
    "## 2.1. Opinet 웹페이지 분석 "
   ]
  },
  {
   "cell_type": "markdown",
   "metadata": {},
   "source": [
    "![opinet](./webcrawling/opinet.png)"
   ]
  },
  {
   "cell_type": "markdown",
   "metadata": {},
   "source": [
    "- Opinet에서 크롤링을 하려고 웹페이지 분석을 합니다.\n",
    "\n",
    "\n",
    "- Opinet은 유가 정보를 동적 웹페이지 환경에서 제공합니다. (말그대로 살아 움직이는 페이지를 동적 웹페이지라고 합니다.)\n",
    "\n",
    "\n",
    "- 왼쪽 navigation tab에서 지역을 설정할 수 있으며, 해당 지역을 \"조회\" 버튼을 눌러 데이터를 웹페이지에 불러온 뒤에 좌측 하단에 있는 \"엑셀저장\" 버튼을 누르면 깔끔하게 정리된 .xls 파일을 다운로드 받을 수 있습니다.\n",
    "\n",
    "\n",
    "- 엑셀저장 기능을 빼고 bs4를 이용해서 왼쪽에 나타낸 데이터를 긁어올 수도 있지만, 이번에는 더 편하게 데이터를 받을 수 있는 엑셀저장을 활용해보겠습니다.\n",
    "\n",
    "\n",
    "- 그런데 여기서 몇 가지 문제가 발생하는데, bs4만으로는 tag를 불러올 수가 없습니다.\n",
    "\n",
    "\n",
    "**1) 지역을 다르게 눌러 조회를 해봐도 URL이 바뀌지 않습니다.**\n",
    "\n",
    "\n",
    "**2) 실제로 bs4를 통해 좌측 데이터를 크롤링해도 긁어와지지 않습니다. (어떠한 방법으로 blocking 해놓은듯 합니다.)**\n",
    "\n",
    "\n",
    "**3) bs4를 이용해서 지역을 바꿔서 설정할 수 없습니다. URL 규칙에 이 부분이 적용되지 않는 동적페이지이기 때문입니다.**"
   ]
  },
  {
   "cell_type": "markdown",
   "metadata": {},
   "source": [
    "# Selenium with Chromedriver"
   ]
  },
  {
   "cell_type": "markdown",
   "metadata": {},
   "source": [
    "- 이와 같은 동적페이지를 제어할 수 있는 라이브러리와 도구가 있습니다.\n",
    "\n",
    "\n",
    "- 그것이 바로 구글에서 만든 Chromedriver와 selenium 입니다."
   ]
  },
  {
   "cell_type": "markdown",
   "metadata": {},
   "source": [
    "https://chromedriver.chromium.org/downloads"
   ]
  },
  {
   "cell_type": "markdown",
   "metadata": {},
   "source": [
    "![chromedriver](./webcrawling/chromedriver.png)"
   ]
  },
  {
   "cell_type": "markdown",
   "metadata": {},
   "source": [
    "- chromedriver는 구글이 ChromeOS를 개발하면서 만든 도구입니다.\n",
    "\n",
    "\n",
    "- 가상의 chrome 환경을 만들어서 프로그램을 통해 web browser를 자동제어할 수 있게 해줍니다.\n",
    "\n",
    "\n",
    "- selenium 같은 라이브러리를 사용하여 제어합니다.\n",
    "\n",
    "\n",
    "- 위의 사이트에서 현재 사용하는 Chrome에 맞는 version을 다운로드 받습니다."
   ]
  },
  {
   "cell_type": "markdown",
   "metadata": {},
   "source": [
    "![selenium](./webcrawling/selenium.png)"
   ]
  },
  {
   "cell_type": "markdown",
   "metadata": {},
   "source": [
    "- selenium은 코드에 의해 제어되는 chromedriver를 사용할 수 있게 해주는 오픈소스 라이브러리입니다."
   ]
  },
  {
   "cell_type": "code",
   "execution_count": null,
   "metadata": {},
   "outputs": [],
   "source": [
    "%pip install selenium"
   ]
  },
  {
   "cell_type": "code",
   "execution_count": 8,
   "metadata": {},
   "outputs": [
    {
     "data": {
      "text/plain": [
       "<selenium.webdriver.chrome.webdriver.WebDriver (session=\"782eeb55b45d7dc57de093ec8e3d8fe6\")>"
      ]
     },
     "execution_count": 8,
     "metadata": {},
     "output_type": "execute_result"
    }
   ],
   "source": [
    "# selenium을 통해 webdriver를 제어하기 위해서 라이브러리를 불러옵니다.\n",
    "\n",
    "from selenium import webdriver\n",
    "\n",
    "# 동적페이지 크롤링에서는 페이지 로딩을 확인하기 위해서 기다리는 시간이 필요합니다.\n",
    "\n",
    "webdriver.Chrome()\n",
    "\n"
   ]
  },
  {
   "cell_type": "markdown",
   "metadata": {},
   "source": [
    "## 2.2. 전국 지역별 유가 정보 얻기"
   ]
  },
  {
   "cell_type": "markdown",
   "metadata": {},
   "source": [
    "- selenium을 사용할 때 해야되는 기본적인 함수가 2가지 있습니다.\n",
    "\n",
    "\n",
    "- webdriver.Chrome()과 driver.get() 입니다.\n",
    "\n",
    "\n",
    "- webdriver.Chrome()은 실제 chromedriver가 존재하는 위치에서 chromedriver를 실행할 수 있게 불러오는 함수입니다.\n",
    "\n",
    "\n",
    "- driver.get()은 selenium이 제어하고 있는 chromedriver가 해당 URL로 접속하게 하는 함수입니다.\n",
    "\n",
    "\n",
    "- 여기서 또 문제점이 발생합니다. 지역별 검색 페이지에 접속해서 해당 URL로 driver.get()을 시도해도 메인페이지로 접속이 되는 문제입니다. 이런 경우는 해당 웹페이지 관리자가 다른 subpage들도 direct로 접속하지 못하게 메인페이지로 자동 redirection을 만들어 놓은 경우입니다.\n",
    "\n",
    "\n",
    "- 이를 해결하기 위해 메인페이지에 먼저 접속한 뒤에, 지역별 페이지로 들어갑니다.\n",
    "\n",
    "\n",
    "- Opinet 코드를 살펴보니 이 기능이 javascript 함수를 호출하는 것으로 되어 있습니다.\n",
    "\n",
    "\n",
    "- selenium에서는 execute_script() 함수가 이를 지원하기 때문에 execute_script(\"goSubPage(0,0,99)\")를 이용하여 해당 페이지에 접속합니다."
   ]
  },
  {
   "cell_type": "markdown",
   "metadata": {},
   "source": [
    "![redirection](./webcrawling/opinet_redirection.png)"
   ]
  },
  {
   "cell_type": "code",
   "execution_count": 1,
   "metadata": {},
   "outputs": [],
   "source": [
    "# 해당 경로에 있는 chromedriver를 불러옵니다.\n",
    "from selenium import webdriver\n",
    "import time\n",
    "\n",
    "# opinet.co.kr에 접속합니다.\n",
    "driver = webdriver.Chrome()\n",
    "driver.get('https://www.opinet.co.kr/searRgSelect.do')\n",
    "\n",
    "# 2초 쉽니다. (페이지 로딩을 위해)\n",
    "time.sleep(2)\n",
    "\n",
    "# 메인 페이지에서 유가 가격 검색 페이지로 이동합니다. javascript를 활용합니다.\n",
    "# <a href=\"javascript:goSubPage(0,0,99);\"><span>지역별</span></a>\n",
    "driver.execute_script('goSubPage(0,0,99)')"
   ]
  },
  {
   "cell_type": "markdown",
   "metadata": {},
   "source": [
    "- selenium에서 특정 웹페이지 원소를 접근하는 방법이 여러가지가 있습니다.\n",
    "\n",
    "\n",
    "**1) find_element_by_tag_name**\n",
    "\n",
    "\n",
    "**2) find_element_by_selector**\n",
    "\n",
    "\n",
    "**3) find_element_by_xpath**\n",
    "\n",
    "\n",
    "**4) find_element_by_id**\n",
    "\n",
    "\n",
    "각자 취향에 맞게 선택할 수 있습니다. 때에 따라 CSS selector만 선택해야 할때가 있고, xpath만 선택해야할 때가 있는데 이는 복잡한 문제이므로 넘어가겠습니다.\n",
    "\n",
    "보통은 xpath로 일단 시도해본 뒤, 안되면 CSS selector나 tag name으로 시도해보면 좋습니다.\n",
    "\n",
    "\n",
    "- 우선 우리는 지역목록을 가져와야 합니다.\n",
    "\n",
    "\n",
    "- 이는 페이지에 drop-down 메뉴를 선택하여 해당 목록을 가져온 뒤, 하나하나 눌러서 접속해야 합니다.\n",
    "\n",
    "\n",
    "- 지역에서 처음에 \"도\"를 고르고 그 뒤에 \"구\"를 고른 뒤에 \"조회\" 버튼을 누르면 해당 정보를 가져올 수 있습니다\n",
    "\n",
    "\n",
    "- 정보를 제대로 가져왔는지는 가운데 있는 지도가 제대로 로드가 되었는지 확인해보면 됩니다. (초반 몇 개만)"
   ]
  },
  {
   "cell_type": "markdown",
   "metadata": {},
   "source": [
    "![get_price](./webcrawling/opinet_get_price.png)"
   ]
  },
  {
   "cell_type": "code",
   "execution_count": 2,
   "metadata": {},
   "outputs": [],
   "source": [
    "from selenium import webdriver\n",
    "from selenium.webdriver.common.by import By"
   ]
  },
  {
   "cell_type": "code",
   "execution_count": 3,
   "metadata": {},
   "outputs": [
    {
     "data": {
      "text/plain": [
       "['서울특별시',\n",
       " '부산광역시',\n",
       " '대구광역시',\n",
       " '인천광역시',\n",
       " '광주광역시',\n",
       " '대전광역시',\n",
       " '울산광역시',\n",
       " '세종특별자치시',\n",
       " '경기도',\n",
       " '강원특별자치도',\n",
       " '충청북도',\n",
       " '충청남도',\n",
       " '전북특별자치도',\n",
       " '전라남도',\n",
       " '경상북도',\n",
       " '경상남도',\n",
       " '제주특별자치도']"
      ]
     },
     "execution_count": 3,
     "metadata": {},
     "output_type": "execute_result"
    }
   ],
   "source": [
    "# 앞서 배웠던 방식으로 xpath를 얻어옵니다\n",
    "\n",
    "sido = driver.find_element(By.XPATH,'//*[@id=\"SIDO_NM0\"]')\n",
    "sido_names = sido.find_elements(By.TAG_NAME,'option')\n",
    "# 앞서 배웠던 방식으로 tag을 찾아서 가져옵니다.\n",
    "\n",
    "sido_list = []\n",
    "for sido_name in sido_names:\n",
    "    sido_list.append(sido_name.get_attribute('value'))\n",
    "# tag에서 value들을 하나씩 뽑아냅니다.\n",
    "\n",
    "sido_list = sido_list[1:]\n",
    "sido_list\n"
   ]
  },
  {
   "cell_type": "code",
   "execution_count": 4,
   "metadata": {},
   "outputs": [],
   "source": [
    "sido = driver.find_element(By.XPATH,('//*[@id=\"SIDO_NM0\"]'))\n",
    "sido.send_keys('서울특별시')"
   ]
  },
  {
   "cell_type": "markdown",
   "metadata": {},
   "source": [
    "- 이제 시도에 대한 정보를 얻었으니, 시/군/구도 동일한 방식으로 얻어오도록 합니다!"
   ]
  },
  {
   "cell_type": "code",
   "execution_count": 5,
   "metadata": {},
   "outputs": [
    {
     "data": {
      "text/plain": [
       "['강남구',\n",
       " '강동구',\n",
       " '강북구',\n",
       " '강서구',\n",
       " '관악구',\n",
       " '광진구',\n",
       " '구로구',\n",
       " '금천구',\n",
       " '노원구',\n",
       " '도봉구',\n",
       " '동대문구',\n",
       " '동작구',\n",
       " '마포구',\n",
       " '서대문구',\n",
       " '서초구',\n",
       " '성동구',\n",
       " '성북구',\n",
       " '송파구',\n",
       " '양천구',\n",
       " '영등포구',\n",
       " '용산구',\n",
       " '은평구',\n",
       " '종로구',\n",
       " '중구',\n",
       " '중랑구']"
      ]
     },
     "execution_count": 5,
     "metadata": {},
     "output_type": "execute_result"
    }
   ],
   "source": [
    "# 시/군/구 목록 수집\n",
    "\n",
    "sigungu = driver.find_element(By.XPATH,'//*[@id=\"SIGUNGU_NM0\"]')\n",
    "sigungu_names = sigungu.find_elements(By.TAG_NAME,'option')\n",
    "\n",
    "sigungu_list = []\n",
    "\n",
    "for sigungu_name in sigungu_names:\n",
    "    sigungu_list.append(sigungu_name.get_attribute('value'))\n",
    "\n",
    "sigungu_list = sigungu_list[1:]\n",
    "sigungu_list\n"
   ]
  },
  {
   "cell_type": "code",
   "execution_count": 42,
   "metadata": {},
   "outputs": [],
   "source": [
    "sigungu.send_keys('강서구')"
   ]
  },
  {
   "cell_type": "code",
   "execution_count": 35,
   "metadata": {},
   "outputs": [],
   "source": [
    "# \"조회\" 버튼의 xpath를 찾아서 클릭합니다.\n",
    "\n",
    "driver.find_element(By.XPATH,'//*[@id=\"searRgSelect\"]').click()"
   ]
  },
  {
   "cell_type": "code",
   "execution_count": 44,
   "metadata": {},
   "outputs": [],
   "source": [
    "# \"엑셀저장\" 버튼의 xpath를 찾아서 클릭합니다.\n",
    "\n",
    "driver.find_element(By.XPATH,'//*[@id=\"glopopd_excel\"]').click()\n",
    "\n",
    "# 엑셀 파일이 저장 된다."
   ]
  },
  {
   "cell_type": "markdown",
   "metadata": {},
   "source": [
    "### 모두 종합해서 하나의 코드로 만들어봅시다!"
   ]
  },
  {
   "cell_type": "code",
   "execution_count": 52,
   "metadata": {},
   "outputs": [],
   "source": [
    "# 종합선물세트\n",
    "\n",
    "# 1. webdriver를 킨다.\n",
    "# 2. 지역별 주유소 찾기 접속\n",
    "\n",
    "\n",
    "from selenium import webdriver\n",
    "from selenium.webdriver.common.by import By\n",
    "import time\n",
    "\n",
    "driver = webdriver.Chrome()\n",
    "driver.get('https://www.opinet.co.kr/searRgSelect.do')\n",
    "\n",
    "time.sleep(1)\n",
    "driver.execute_script('goSubPage(0,0,99)')\n",
    "\n",
    "\n",
    "\n",
    "# 3. sido 목록을 가져온다.\n",
    "\n",
    "time.sleep(2)\n",
    "\n",
    "sido = driver.find_element(By.XPATH,'//*[@id=\"SIDO_NM0\"]')\n",
    "sido_names = sido.find_elements(By.TAG_NAME,'option')\n",
    "\n",
    "sido_list = []\n",
    "for sido_name in sido_names:\n",
    "    sido_list.append(sido_name.get_attribute('value'))\n",
    "\n",
    "sido_list = sido_list[1:]\n",
    "\n",
    "\n",
    "# 4. 원하는 지역으로 이동한다.\n",
    "# 5. 시/군/구 목록을 가져온다.\n",
    "\n",
    "\n",
    "for sido_name in sido_list:\n",
    "    sido = driver.find_element(By.XPATH,'//*[@id=\"SIDO_NM0\"]')\n",
    "    sido.send_keys(sido_name)\n",
    "    time.sleep(1)\n",
    "\n",
    "    sigungu = driver.find_element(By.XPATH,'//*[@id=\"SIGUNGU_NM0\"]')\n",
    "    sigungu_names = sigungu.find_elements(By.TAG_NAME,'option')\n",
    "\n",
    "    sigungu_list = []\n",
    "\n",
    "    for sigungu_name in sigungu_names:\n",
    "        sigungu_list.append(sigungu_name.get_attribute('value'))\n",
    "\n",
    "    sigungu_list = sigungu_list[1:]\n",
    "\n",
    "\n",
    "\n",
    "    # 6. 얻어온 목록으로 반복문을 수행하면서, 조회를 누르고 엑셀저장을 누른다.\n",
    "\n",
    "    for sigungu_name in sigungu_list:\n",
    "        sigungu = driver.find_element(By.XPATH,'//*[@id=\"SIGUNGU_NM0\"]')\n",
    "        time.sleep(1)\n",
    "        sigungu.send_keys(sigungu_name) \n",
    "        time.sleep(1)        \n",
    "        driver.find_element(By.XPATH,'//*[@id=\"searRgSelect\"]').click()\n",
    "        time.sleep(1)\n",
    "        driver.find_element(By.XPATH,'//*[@id=\"glopopd_excel\"]').click()\n"
   ]
  },
  {
   "cell_type": "code",
   "execution_count": null,
   "metadata": {},
   "outputs": [],
   "source": []
  }
 ],
 "metadata": {
  "kernelspec": {
   "display_name": "Python 3 (ipykernel)",
   "language": "python",
   "name": "python3"
  },
  "language_info": {
   "codemirror_mode": {
    "name": "ipython",
    "version": 3
   },
   "file_extension": ".py",
   "mimetype": "text/x-python",
   "name": "python",
   "nbconvert_exporter": "python",
   "pygments_lexer": "ipython3",
   "version": "3.9.13"
  }
 },
 "nbformat": 4,
 "nbformat_minor": 1
}
