{
 "cells": [
  {
   "cell_type": "markdown",
   "metadata": {
    "id": "Es1-Z2qdUi3u"
   },
   "source": [
    "## If statement (조건문)"
   ]
  },
  {
   "cell_type": "code",
   "execution_count": 2,
   "metadata": {
    "id": "xzKBABrIUi3v"
   },
   "outputs": [
    {
     "name": "stdout",
     "output_type": "stream",
     "text": [
      "True\n",
      "1\n",
      "3.14\n"
     ]
    }
   ],
   "source": [
    "a = 5\n",
    "# a가 5인데, a가 5와 같으면, True를 출력하고 싶다.\n",
    "\n",
    "if a == 5:\n",
    "     print(True)\n",
    "     print('1')\n",
    "     print(3.14)\n",
    "     # 조건문 뒤에 꼭 ':'을 입력해줘야 함\n",
    "     # 조건문이 맞으면 아래에 오는 출력문 모두 출력"
   ]
  },
  {
   "cell_type": "code",
   "execution_count": 4,
   "metadata": {},
   "outputs": [
    {
     "name": "stdout",
     "output_type": "stream",
     "text": [
      "3.14\n"
     ]
    }
   ],
   "source": [
    "a = 7\n",
    "b = 8\n",
    "\n",
    "if a == 5:\n",
    "     print(True)\n",
    "     print('1')\n",
    "print(3.14)\n",
    "\n",
    "# 조건문이 안 맞으면 아래 출력문만 출력"
   ]
  },
  {
   "cell_type": "markdown",
   "metadata": {
    "id": "Pzwrwqv3Ui3w"
   },
   "source": [
    "> 조건문을 사용하기 위해선, 비교연산과 논리연산을 알아야 한다."
   ]
  },
  {
   "cell_type": "code",
   "execution_count": null,
   "metadata": {
    "id": "hXV39i8KUi3w"
   },
   "outputs": [],
   "source": [
    "# 같다, 같지 않다, 크다, 작다, 크거나 같다, 작거나 같다\n",
    "\n",
    "a == b    # a가 b와 같다\n",
    "a != b    # a가 b와 같지 않다\n",
    "a > b     # a가 b보다 크다\n",
    "a < b     # a가 b보다 작다\n",
    "a >= b    # a가 b보다 크거나 같다\n",
    "a <= b    # a가 b보다 작거나 같다"
   ]
  },
  {
   "cell_type": "code",
   "execution_count": null,
   "metadata": {
    "id": "R1JySrQyUi3x"
   },
   "outputs": [],
   "source": [
    "# e.g. (a % 15 == 0) and (a % 60 != 0)\n",
    "\n",
    "A = 1\n",
    "B = 2\n",
    "\n",
    "A and B   # A와 B가 둘다 만족\n",
    "A or  B   # A나 B 둘 중 하나만 만족\n",
    "not A     # A가 아닌것"
   ]
  },
  {
   "cell_type": "markdown",
   "metadata": {
    "id": "dEkOoiCbUi3x"
   },
   "source": [
    "> 비교연산과 논리연산의 공통점은 결과가 참(True) 또는 거짓(False)라는 것이다."
   ]
  },
  {
   "cell_type": "markdown",
   "metadata": {
    "id": "ObfTcWwhUi3x"
   },
   "source": [
    "#### 자판기를 만들어보자."
   ]
  },
  {
   "cell_type": "markdown",
   "metadata": {
    "id": "dVQXP68aUi3x"
   },
   "source": [
    "> **자판기에 들어갈 프로그램을 만들어야 한다.** 자판기에 입력된 돈이 300원이면 커피를 주고, 300원보다 적은 경우엔 돈을 그냥 돌려주고, 300원보다 많은 경우에는 커피와 함께 거스름돈을 주어야 한다. 이를 어떻게 구현할 수 있을까?"
   ]
  },
  {
   "cell_type": "code",
   "execution_count": 6,
   "metadata": {
    "id": "6F0CsTxgUi3x"
   },
   "outputs": [
    {
     "name": "stdout",
     "output_type": "stream",
     "text": [
      "coffee\n"
     ]
    }
   ],
   "source": [
    "money = 300\n",
    "# 돈이 300원인데, 돈이 300원이랑 같으면 coffee를 준다.\n",
    "\n",
    "if money == 300:\n",
    "     print('coffee')"
   ]
  },
  {
   "cell_type": "code",
   "execution_count": 10,
   "metadata": {
    "id": "cxuFUyqYUi3y"
   },
   "outputs": [
    {
     "name": "stdout",
     "output_type": "stream",
     "text": [
      "요금이 부족합니다. 입금하신 200 원 반납 됩니다.\n"
     ]
    }
   ],
   "source": [
    "money = 200\n",
    "# 돈이 200원 있다. 그러면 어떻게 해야할까?\n",
    "\n",
    "if money < 300:\n",
    "     print('요금이 부족합니다. 입금하신',money,'원 반납 됩니다.')"
   ]
  },
  {
   "cell_type": "code",
   "execution_count": 12,
   "metadata": {},
   "outputs": [
    {
     "name": "stdout",
     "output_type": "stream",
     "text": [
      "요금이 부족합니다. 입금하신 200원 반납 됩니다.\n"
     ]
    }
   ],
   "source": [
    "if money < 300:\n",
    "     print(f'요금이 부족합니다. 입금하신 {money}원 반납 됩니다.')"
   ]
  },
  {
   "cell_type": "code",
   "execution_count": 14,
   "metadata": {
    "id": "k6V0Tk29Ui3y"
   },
   "outputs": [
    {
     "name": "stdout",
     "output_type": "stream",
     "text": [
      "Coffee가 나옵니다. 거스름돈은  700 원 입니다\n"
     ]
    }
   ],
   "source": [
    "money = 1000\n",
    "# 돈이 1000원이 있는 경우에는?\n",
    "\n",
    "if money >= 300:\n",
    "     print('Coffee가 나옵니다. 거스름돈은 ',money-300,'원 입니다')"
   ]
  },
  {
   "cell_type": "code",
   "execution_count": 15,
   "metadata": {},
   "outputs": [
    {
     "name": "stdout",
     "output_type": "stream",
     "text": [
      "Coffee\n",
      "거스름돈은 700원 입니다\n"
     ]
    }
   ],
   "source": [
    "if money >= 300:\n",
    "     print('Coffee')\n",
    "     print(f'거스름돈은 {money-300}원 입니다')"
   ]
  },
  {
   "cell_type": "markdown",
   "metadata": {
    "id": "yqWtTRVLUi3y"
   },
   "source": [
    "#### 자판기 코드 다시 생각해보기\n",
    "\n",
    "> if문에는 if가 아닌 경우에 해당하는 조건을 체크할 수 있는 elif(else if) 구문이 있다.\n",
    "\n",
    "> 모든 if, elif 조건에 체크되지 않는 나머지 경우를 처리하는 else 구문도 있다.\n",
    "\n",
    "**이를 자판기 예제에 다시 적용해보자.**"
   ]
  },
  {
   "cell_type": "code",
   "execution_count": 21,
   "metadata": {
    "id": "hOfIxc0QUi3y"
   },
   "outputs": [
    {
     "name": "stdout",
     "output_type": "stream",
     "text": [
      "요금이 부족합니다. 입금하신 30원 반납 됩니다.\n"
     ]
    }
   ],
   "source": [
    "money = 30\n",
    "\n",
    "if money == 300:\n",
    "     print('Coffee')\n",
    "elif money < 300:\n",
    "     print(f'요금이 부족합니다. 입금하신 {money}원 반납됩니다.')\n",
    "else:\n",
    "     print('Coffee')\n",
    "     print(f'거스름돈은 {money-300}원 입니다')"
   ]
  },
  {
   "cell_type": "markdown",
   "metadata": {
    "id": "w0IIbaoBUi3y"
   },
   "source": [
    "#### if-elif-else 말고 nested 구조를 이용해 작성해보자. \n",
    "#### 다중 if 문"
   ]
  },
  {
   "cell_type": "code",
   "execution_count": 24,
   "metadata": {
    "id": "mkwWeE7mUi3y"
   },
   "outputs": [
    {
     "name": "stdout",
     "output_type": "stream",
     "text": [
      "Coffee\n",
      "거스름돈은 200원 입니다\n"
     ]
    }
   ],
   "source": [
    "money = 500\n",
    "\n",
    "if money == 300:\n",
    "     print('Coffee')\n",
    "\n",
    "else:\n",
    "     if money < 300:\n",
    "          print(f'요금이 부족합니다. 입금하신 {money}원 반납됩니다.') \n",
    "     else:\n",
    "          print('Coffee')\n",
    "          print(f'거스름돈은 {money-300}원 입니다')"
   ]
  }
 ],
 "metadata": {
  "colab": {
   "collapsed_sections": [],
   "name": "Chapter.01 파이썬 프로그래밍-06. IF (실습).ipynb",
   "provenance": []
  },
  "kernelspec": {
   "display_name": "Python 3 (ipykernel)",
   "language": "python",
   "name": "python3"
  },
  "language_info": {
   "codemirror_mode": {
    "name": "ipython",
    "version": 3
   },
   "file_extension": ".py",
   "mimetype": "text/x-python",
   "name": "python",
   "nbconvert_exporter": "python",
   "pygments_lexer": "ipython3",
   "version": "3.9.13"
  }
 },
 "nbformat": 4,
 "nbformat_minor": 1
}
